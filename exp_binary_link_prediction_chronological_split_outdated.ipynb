{
 "cells": [
  {
   "cell_type": "code",
   "execution_count": 1,
   "metadata": {},
   "outputs": [],
   "source": [
    "import matplotlib.pyplot as plt\n",
    "\n",
    "import igraph as ig\n",
    "import networkx as nx\n",
    "import pandas as pd\n",
    "import numpy as np\n",
    "import re\n",
    "import swifter\n",
    "from pandarallel import pandarallel\n",
    "\n",
    "from sklearn import preprocessing, model_selection\n",
    "from sklearn.model_selection import cross_validate\n",
    "from sklearn.metrics import mean_absolute_error\n",
    "from sklearn.cluster import KMeans\n",
    "\n",
    "import lightgbm as lgbm\n",
    "\n",
    "import os\n",
    "os.environ['KMP_DUPLICATE_LIB_OK']='True'\n",
    "import xgboost as xgb\n",
    "\n",
    "\n",
    "from surprise import SVD, SVDpp, CoClustering, SlopeOne, KNNBasic, KNNWithZScore\n",
    "from surprise import Dataset, Reader, accuracy\n",
    "from surprise.model_selection import cross_validate as surprise_cv, GridSearchCV as surprise_grid_search_cv, train_test_split as surprise_test_train_split\n",
    "\n",
    "from settings import file_names\n",
    "from graph import *\n",
    "from helpers import *"
   ]
  },
  {
   "cell_type": "code",
   "execution_count": 2,
   "metadata": {},
   "outputs": [
    {
     "name": "stdout",
     "output_type": "stream",
     "text": [
      "INFO: Pandarallel will run on 4 workers.\n",
      "INFO: Pandarallel will use standard multiprocessing data transfer (pipe) to transfer data between the main process and workers.\n"
     ]
    }
   ],
   "source": [
    "pandarallel.initialize()"
   ]
  },
  {
   "cell_type": "markdown",
   "metadata": {},
   "source": [
    "# Datasets"
   ]
  },
  {
   "cell_type": "code",
   "execution_count": 3,
   "metadata": {},
   "outputs": [],
   "source": [
    "df_reviews = pd.read_csv(file_names['toronto_reviews_without_text'])\n",
    "df_users = pd.read_csv(file_names['toronto_users'])\n",
    "df_biz = pd.read_csv(file_names['toronto_businesses'])"
   ]
  },
  {
   "cell_type": "code",
   "execution_count": 4,
   "metadata": {},
   "outputs": [
    {
     "name": "stdout",
     "output_type": "stream",
     "text": [
      "Number of Tips:  33192\n"
     ]
    },
    {
     "data": {
      "text/html": [
       "<div>\n",
       "<style scoped>\n",
       "    .dataframe tbody tr th:only-of-type {\n",
       "        vertical-align: middle;\n",
       "    }\n",
       "\n",
       "    .dataframe tbody tr th {\n",
       "        vertical-align: top;\n",
       "    }\n",
       "\n",
       "    .dataframe thead th {\n",
       "        text-align: right;\n",
       "    }\n",
       "</style>\n",
       "<table border=\"1\" class=\"dataframe\">\n",
       "  <thead>\n",
       "    <tr style=\"text-align: right;\">\n",
       "      <th></th>\n",
       "      <th>user_id</th>\n",
       "      <th>business_id</th>\n",
       "      <th>text</th>\n",
       "      <th>date</th>\n",
       "      <th>compliment_count</th>\n",
       "    </tr>\n",
       "  </thead>\n",
       "  <tbody>\n",
       "    <tr>\n",
       "      <th>7</th>\n",
       "      <td>CaFbX7topxdLpBJ_SNDfGQ</td>\n",
       "      <td>r49iBfbnfoK7yt4rdsL_7g</td>\n",
       "      <td>Hands down best AYCE in town! Love it!</td>\n",
       "      <td>2016-01-05 06:39:33</td>\n",
       "      <td>0</td>\n",
       "    </tr>\n",
       "    <tr>\n",
       "      <th>10</th>\n",
       "      <td>8zXgNCkusOHMwh5Tj_8yCQ</td>\n",
       "      <td>qrSsS0pk7SL67MP5nN8tlg</td>\n",
       "      <td>More parking in the back of the restaurant</td>\n",
       "      <td>2013-12-22 05:10:12</td>\n",
       "      <td>0</td>\n",
       "    </tr>\n",
       "    <tr>\n",
       "      <th>13</th>\n",
       "      <td>oIHhfloe5VQamDFDB2dr1Q</td>\n",
       "      <td>wZhB4U003eg2GQ-F7D2D4A</td>\n",
       "      <td>When you receive the bag of seafood tie it up ...</td>\n",
       "      <td>2016-08-12 22:18:07</td>\n",
       "      <td>0</td>\n",
       "    </tr>\n",
       "  </tbody>\n",
       "</table>\n",
       "</div>"
      ],
      "text/plain": [
       "                   user_id             business_id  \\\n",
       "7   CaFbX7topxdLpBJ_SNDfGQ  r49iBfbnfoK7yt4rdsL_7g   \n",
       "10  8zXgNCkusOHMwh5Tj_8yCQ  qrSsS0pk7SL67MP5nN8tlg   \n",
       "13  oIHhfloe5VQamDFDB2dr1Q  wZhB4U003eg2GQ-F7D2D4A   \n",
       "\n",
       "                                                 text                date  \\\n",
       "7              Hands down best AYCE in town! Love it! 2016-01-05 06:39:33   \n",
       "10         More parking in the back of the restaurant 2013-12-22 05:10:12   \n",
       "13  When you receive the bag of seafood tie it up ... 2016-08-12 22:18:07   \n",
       "\n",
       "    compliment_count  \n",
       "7                  0  \n",
       "10                 0  \n",
       "13                 0  "
      ]
     },
     "execution_count": 4,
     "metadata": {},
     "output_type": "execute_result"
    }
   ],
   "source": [
    "df_tips = pd.read_json(file_names['tip'], encoding='utf-8', lines=True)\n",
    "df_tips = df_tips.loc[df_tips['user_id'].isin(df_users.user_id.unique()) & df_tips['business_id'].isin(df_biz.business_id.unique())]\n",
    "print('Number of Tips: ', df_tips.shape[0])\n",
    "df_tips.head(3)"
   ]
  },
  {
   "cell_type": "code",
   "execution_count": 5,
   "metadata": {},
   "outputs": [
    {
     "name": "stdout",
     "output_type": "stream",
     "text": [
      "Number of reviews:  228816\n",
      "Ratings describe:  count    228816.000000\n",
      "mean          3.643093\n",
      "std           1.139687\n",
      "min           1.000000\n",
      "25%           3.000000\n",
      "50%           4.000000\n",
      "75%           4.000000\n",
      "max           5.000000\n",
      "Name: rating, dtype: float64\n"
     ]
    },
    {
     "data": {
      "text/html": [
       "<div>\n",
       "<style scoped>\n",
       "    .dataframe tbody tr th:only-of-type {\n",
       "        vertical-align: middle;\n",
       "    }\n",
       "\n",
       "    .dataframe tbody tr th {\n",
       "        vertical-align: top;\n",
       "    }\n",
       "\n",
       "    .dataframe thead th {\n",
       "        text-align: right;\n",
       "    }\n",
       "</style>\n",
       "<table border=\"1\" class=\"dataframe\">\n",
       "  <thead>\n",
       "    <tr style=\"text-align: right;\">\n",
       "      <th></th>\n",
       "      <th>user_id</th>\n",
       "      <th>business_id</th>\n",
       "      <th>rating</th>\n",
       "      <th>date</th>\n",
       "    </tr>\n",
       "  </thead>\n",
       "  <tbody>\n",
       "    <tr>\n",
       "      <th>0</th>\n",
       "      <td>TpyOT5E16YASd7EWjLQlrw</td>\n",
       "      <td>AakkkTuGZA2KBodKi2_u8A</td>\n",
       "      <td>1.0</td>\n",
       "      <td>2012-07-16 00:37:14</td>\n",
       "    </tr>\n",
       "    <tr>\n",
       "      <th>1</th>\n",
       "      <td>_N7Ndn29bpll_961oPeEfw</td>\n",
       "      <td>y-Iw6dZflNix4BdwIyTNGA</td>\n",
       "      <td>3.0</td>\n",
       "      <td>2014-06-27 21:19:23</td>\n",
       "    </tr>\n",
       "    <tr>\n",
       "      <th>2</th>\n",
       "      <td>54kpqrxF9DEPpwa51hO_Bw</td>\n",
       "      <td>jzveTy7ogH7cg9axZ78ENg</td>\n",
       "      <td>4.0</td>\n",
       "      <td>2015-04-01 13:31:35</td>\n",
       "    </tr>\n",
       "  </tbody>\n",
       "</table>\n",
       "</div>"
      ],
      "text/plain": [
       "                  user_id             business_id  rating                 date\n",
       "0  TpyOT5E16YASd7EWjLQlrw  AakkkTuGZA2KBodKi2_u8A     1.0  2012-07-16 00:37:14\n",
       "1  _N7Ndn29bpll_961oPeEfw  y-Iw6dZflNix4BdwIyTNGA     3.0  2014-06-27 21:19:23\n",
       "2  54kpqrxF9DEPpwa51hO_Bw  jzveTy7ogH7cg9axZ78ENg     4.0  2015-04-01 13:31:35"
      ]
     },
     "execution_count": 5,
     "metadata": {},
     "output_type": "execute_result"
    }
   ],
   "source": [
    "print('Number of reviews: ',df_reviews.shape[0])\n",
    "print('Ratings describe: ', df_reviews['rating'].describe())\n",
    "df_reviews.head(3)\n",
    "\n"
   ]
  },
  {
   "cell_type": "code",
   "execution_count": 6,
   "metadata": {},
   "outputs": [
    {
     "name": "stdout",
     "output_type": "stream",
     "text": [
      "Number of users:  18804\n"
     ]
    },
    {
     "data": {
      "text/html": [
       "<div>\n",
       "<style scoped>\n",
       "    .dataframe tbody tr th:only-of-type {\n",
       "        vertical-align: middle;\n",
       "    }\n",
       "\n",
       "    .dataframe tbody tr th {\n",
       "        vertical-align: top;\n",
       "    }\n",
       "\n",
       "    .dataframe thead th {\n",
       "        text-align: right;\n",
       "    }\n",
       "</style>\n",
       "<table border=\"1\" class=\"dataframe\">\n",
       "  <thead>\n",
       "    <tr style=\"text-align: right;\">\n",
       "      <th></th>\n",
       "      <th>user_id</th>\n",
       "      <th>friends</th>\n",
       "    </tr>\n",
       "  </thead>\n",
       "  <tbody>\n",
       "    <tr>\n",
       "      <th>0</th>\n",
       "      <td>gvXtMj3XuPr0xHjgmlmtng</td>\n",
       "      <td>CfGCj80EdA-xS-mTWlAn4Q, JgD2Rk9K07MkZgG7Nb9YzA...</td>\n",
       "    </tr>\n",
       "    <tr>\n",
       "      <th>1</th>\n",
       "      <td>pU6GoRTcl1rIOi6zMynjog</td>\n",
       "      <td>SwK2Oo8sjOH0yXYVoyjJwQ, 1LpChUg-0EqRKRKzL4ogYA...</td>\n",
       "    </tr>\n",
       "    <tr>\n",
       "      <th>2</th>\n",
       "      <td>AsYMm_O4H-mwmWbmeACDHw</td>\n",
       "      <td>w-bVY-dhpvnNs8W3BTTgAA, o_OEO0ES7oywPqENQR0f3A...</td>\n",
       "    </tr>\n",
       "  </tbody>\n",
       "</table>\n",
       "</div>"
      ],
      "text/plain": [
       "                  user_id                                            friends\n",
       "0  gvXtMj3XuPr0xHjgmlmtng  CfGCj80EdA-xS-mTWlAn4Q, JgD2Rk9K07MkZgG7Nb9YzA...\n",
       "1  pU6GoRTcl1rIOi6zMynjog  SwK2Oo8sjOH0yXYVoyjJwQ, 1LpChUg-0EqRKRKzL4ogYA...\n",
       "2  AsYMm_O4H-mwmWbmeACDHw  w-bVY-dhpvnNs8W3BTTgAA, o_OEO0ES7oywPqENQR0f3A..."
      ]
     },
     "execution_count": 6,
     "metadata": {},
     "output_type": "execute_result"
    }
   ],
   "source": [
    "print('Number of users: ',df_users.shape[0])\n",
    "df_users.head(3)"
   ]
  },
  {
   "cell_type": "code",
   "execution_count": 7,
   "metadata": {},
   "outputs": [
    {
     "name": "stdout",
     "output_type": "stream",
     "text": [
      "Number of businesses:  7965\n"
     ]
    },
    {
     "data": {
      "text/html": [
       "<div>\n",
       "<style scoped>\n",
       "    .dataframe tbody tr th:only-of-type {\n",
       "        vertical-align: middle;\n",
       "    }\n",
       "\n",
       "    .dataframe tbody tr th {\n",
       "        vertical-align: top;\n",
       "    }\n",
       "\n",
       "    .dataframe thead th {\n",
       "        text-align: right;\n",
       "    }\n",
       "</style>\n",
       "<table border=\"1\" class=\"dataframe\">\n",
       "  <thead>\n",
       "    <tr style=\"text-align: right;\">\n",
       "      <th></th>\n",
       "      <th>business_id</th>\n",
       "      <th>name</th>\n",
       "      <th>address</th>\n",
       "      <th>city</th>\n",
       "      <th>state</th>\n",
       "      <th>postal_code</th>\n",
       "      <th>latitude</th>\n",
       "      <th>longitude</th>\n",
       "      <th>stars</th>\n",
       "      <th>review_count</th>\n",
       "      <th>attributes</th>\n",
       "      <th>categories</th>\n",
       "    </tr>\n",
       "  </thead>\n",
       "  <tbody>\n",
       "    <tr>\n",
       "      <th>0</th>\n",
       "      <td>NDuUMJfrWk52RA-H-OtrpA</td>\n",
       "      <td>Bolt Fresh Bar</td>\n",
       "      <td>1170 Queen Street W</td>\n",
       "      <td>Toronto</td>\n",
       "      <td>ON</td>\n",
       "      <td>M6J 1J5</td>\n",
       "      <td>43.642889</td>\n",
       "      <td>-79.425429</td>\n",
       "      <td>3.0</td>\n",
       "      <td>57</td>\n",
       "      <td>{'WiFi': \"u'no'\", 'BikeParking': 'True', 'Rest...</td>\n",
       "      <td>Juice Bars &amp; Smoothies, Food, Restaurants, Fas...</td>\n",
       "    </tr>\n",
       "    <tr>\n",
       "      <th>1</th>\n",
       "      <td>SP_YXIEwkFPPl_9anCYmpQ</td>\n",
       "      <td>The Steady Cafe &amp; Bar</td>\n",
       "      <td>1051 Bloor Street W</td>\n",
       "      <td>Toronto</td>\n",
       "      <td>ON</td>\n",
       "      <td>M6H 1M4</td>\n",
       "      <td>43.660494</td>\n",
       "      <td>-79.432099</td>\n",
       "      <td>3.5</td>\n",
       "      <td>29</td>\n",
       "      <td>{'BusinessParking': \"{'garage': False, 'street...</td>\n",
       "      <td>Restaurants, Nightlife, Breakfast &amp; Brunch, Ve...</td>\n",
       "    </tr>\n",
       "    <tr>\n",
       "      <th>2</th>\n",
       "      <td>mlHC2XcU9Bows6cnYEmRgg</td>\n",
       "      <td>Mad Crush Wine Bar</td>\n",
       "      <td>582 College Street</td>\n",
       "      <td>Toronto</td>\n",
       "      <td>ON</td>\n",
       "      <td>M6G 1B3</td>\n",
       "      <td>43.655420</td>\n",
       "      <td>-79.413352</td>\n",
       "      <td>4.0</td>\n",
       "      <td>9</td>\n",
       "      <td>{'Alcohol': \"u'full_bar'\", 'Caters': 'False', ...</td>\n",
       "      <td>Restaurants, Breakfast &amp; Brunch, Bars, Modern ...</td>\n",
       "    </tr>\n",
       "  </tbody>\n",
       "</table>\n",
       "</div>"
      ],
      "text/plain": [
       "              business_id                   name              address  \\\n",
       "0  NDuUMJfrWk52RA-H-OtrpA         Bolt Fresh Bar  1170 Queen Street W   \n",
       "1  SP_YXIEwkFPPl_9anCYmpQ  The Steady Cafe & Bar  1051 Bloor Street W   \n",
       "2  mlHC2XcU9Bows6cnYEmRgg     Mad Crush Wine Bar   582 College Street   \n",
       "\n",
       "      city state postal_code   latitude  longitude  stars  review_count  \\\n",
       "0  Toronto    ON     M6J 1J5  43.642889 -79.425429    3.0            57   \n",
       "1  Toronto    ON     M6H 1M4  43.660494 -79.432099    3.5            29   \n",
       "2  Toronto    ON     M6G 1B3  43.655420 -79.413352    4.0             9   \n",
       "\n",
       "                                          attributes  \\\n",
       "0  {'WiFi': \"u'no'\", 'BikeParking': 'True', 'Rest...   \n",
       "1  {'BusinessParking': \"{'garage': False, 'street...   \n",
       "2  {'Alcohol': \"u'full_bar'\", 'Caters': 'False', ...   \n",
       "\n",
       "                                          categories  \n",
       "0  Juice Bars & Smoothies, Food, Restaurants, Fas...  \n",
       "1  Restaurants, Nightlife, Breakfast & Brunch, Ve...  \n",
       "2  Restaurants, Breakfast & Brunch, Bars, Modern ...  "
      ]
     },
     "execution_count": 7,
     "metadata": {},
     "output_type": "execute_result"
    }
   ],
   "source": [
    "print('Number of businesses: ',df_biz.shape[0])\n",
    "df_biz.head(3)"
   ]
  },
  {
   "cell_type": "markdown",
   "metadata": {},
   "source": [
    "# Baseline Binary Prediction - Collaborative Filtering"
   ]
  },
  {
   "cell_type": "markdown",
   "metadata": {},
   "source": [
    "#### Build input data for recommender:"
   ]
  },
  {
   "cell_type": "code",
   "execution_count": 11,
   "metadata": {},
   "outputs": [],
   "source": [
    "from networkx.algorithms import bipartite\n",
    "from graph import *\n",
    "\n",
    "g_bi = make_user_business_bipartite_graph(weighted=False, minimum_rating=0)"
   ]
  },
  {
   "cell_type": "code",
   "execution_count": 12,
   "metadata": {},
   "outputs": [
    {
     "name": "stdout",
     "output_type": "stream",
     "text": [
      "18802 7860 26662\n"
     ]
    }
   ],
   "source": [
    "users = {n for n, d in g_bi.nodes(data=True) if d['bipartite']==0}\n",
    "businesses = set(g_bi) - users\n",
    "print(len(users), len(businesses), len(set(g_bi)))"
   ]
  },
  {
   "cell_type": "code",
   "execution_count": 13,
   "metadata": {},
   "outputs": [],
   "source": [
    "def get_binary_df(graph):\n",
    "    df_users = pd.read_csv(file_names['toronto_users'])\n",
    "    \n",
    "    users = {n for n, d in graph.nodes(data=True) if d['bipartite']==0}\n",
    "    businesses = set(graph) - users\n",
    "    \n",
    "    binary_data = bipartite.biadjacency_matrix(graph, users, column_order=businesses).todense()\n",
    "    df_binary = pd.DataFrame(binary_data, columns=businesses)\n",
    "    df_binary['user_id'] = users\n",
    "    df_binary = pd.melt(df_binary, id_vars='user_id')\n",
    "    df_binary.rename({'variable':'business_id', 'value':'has_reviewed'}, axis='columns', inplace=True)\n",
    "    # df_binary.set_index(list(graph.nodes()))\n",
    "    return df_binary"
   ]
  },
  {
   "cell_type": "code",
   "execution_count": 14,
   "metadata": {},
   "outputs": [
    {
     "data": {
      "text/html": [
       "<div>\n",
       "<style scoped>\n",
       "    .dataframe tbody tr th:only-of-type {\n",
       "        vertical-align: middle;\n",
       "    }\n",
       "\n",
       "    .dataframe tbody tr th {\n",
       "        vertical-align: top;\n",
       "    }\n",
       "\n",
       "    .dataframe thead th {\n",
       "        text-align: right;\n",
       "    }\n",
       "</style>\n",
       "<table border=\"1\" class=\"dataframe\">\n",
       "  <thead>\n",
       "    <tr style=\"text-align: right;\">\n",
       "      <th></th>\n",
       "      <th>user_id</th>\n",
       "      <th>business_id</th>\n",
       "      <th>has_reviewed</th>\n",
       "    </tr>\n",
       "  </thead>\n",
       "  <tbody>\n",
       "    <tr>\n",
       "      <th>0</th>\n",
       "      <td>h1vpICOBO77bFrxWmR2FWw</td>\n",
       "      <td>qIbv9W83eceDWbb24-8Elg</td>\n",
       "      <td>0</td>\n",
       "    </tr>\n",
       "    <tr>\n",
       "      <th>1</th>\n",
       "      <td>ISirqOjZ0HRaKJqbIuhGRQ</td>\n",
       "      <td>qIbv9W83eceDWbb24-8Elg</td>\n",
       "      <td>0</td>\n",
       "    </tr>\n",
       "    <tr>\n",
       "      <th>2</th>\n",
       "      <td>EmARzH6U0M9RCzjpKXgtZQ</td>\n",
       "      <td>qIbv9W83eceDWbb24-8Elg</td>\n",
       "      <td>0</td>\n",
       "    </tr>\n",
       "  </tbody>\n",
       "</table>\n",
       "</div>"
      ],
      "text/plain": [
       "                  user_id             business_id  has_reviewed\n",
       "0  h1vpICOBO77bFrxWmR2FWw  qIbv9W83eceDWbb24-8Elg             0\n",
       "1  ISirqOjZ0HRaKJqbIuhGRQ  qIbv9W83eceDWbb24-8Elg             0\n",
       "2  EmARzH6U0M9RCzjpKXgtZQ  qIbv9W83eceDWbb24-8Elg             0"
      ]
     },
     "execution_count": 14,
     "metadata": {},
     "output_type": "execute_result"
    }
   ],
   "source": [
    "df_binary = get_binary_df(g_bi)\n",
    "df_binary.head(3)"
   ]
  },
  {
   "cell_type": "code",
   "execution_count": 15,
   "metadata": {},
   "outputs": [],
   "source": [
    "def negative_sampling(df, ratio_zeros_on_ones : float):\n",
    "    '''\n",
    "    creates a dataframe for training of recommender. \n",
    "    Only keeps a fractions of non-positive labels, as input matrix is extremely sparse.\n",
    "    params: \n",
    "    df: pd.DataFrame containing user_id, business_id, and binary label has_reviewed\n",
    "    '''\n",
    "    df_zeros = df_binary.loc[df_binary['has_reviewed'] == 0]\n",
    "    df_ones = df_binary.loc[df_binary['has_reviewed'] != 0]\n",
    "    df_zeros = df_zeros.sample(n=int(df_ones.shape[0]*ratio_zeros_on_ones))\n",
    "    return pd.concat([df_zeros, df_ones]).sample(frac=1).reset_index(drop=True)"
   ]
  },
  {
   "cell_type": "markdown",
   "metadata": {},
   "source": [
    "#### Build, train and evaluate recommender:"
   ]
  },
  {
   "cell_type": "code",
   "execution_count": 16,
   "metadata": {},
   "outputs": [
    {
     "name": "stdout",
     "output_type": "stream",
     "text": [
      "(441858, 3)\n",
      "FCP:  0.6839\n",
      "MAE:  0.2833\n",
      "0.6838826453650012 0.283349107991495\n"
     ]
    }
   ],
   "source": [
    "reader = Reader(rating_scale=(0, 1))\n",
    "\n",
    "data = negative_sampling(df_binary, 1)\n",
    "print(data.shape)\n",
    "data = Dataset.load_from_df(data, reader)\n",
    "\n",
    "algo = SVDpp(n_factors=10, n_epochs=30, init_mean=0.5)\n",
    "\n",
    "trainset, testset = surprise_test_train_split(data, test_size=.25)\n",
    "algo.fit(trainset)\n",
    "\n",
    "predictions = algo.test(testset)\n",
    "print(accuracy.fcp(predictions, verbose=True), accuracy.mae(predictions, verbose=True))"
   ]
  },
  {
   "cell_type": "markdown",
   "metadata": {},
   "source": [
    "#### Precision of the recommender: Percentage of Top 1 recommendation that actually corresponds to a visit"
   ]
  },
  {
   "cell_type": "code",
   "execution_count": 17,
   "metadata": {},
   "outputs": [
    {
     "data": {
      "text/html": [
       "<div>\n",
       "<style scoped>\n",
       "    .dataframe tbody tr th:only-of-type {\n",
       "        vertical-align: middle;\n",
       "    }\n",
       "\n",
       "    .dataframe tbody tr th {\n",
       "        vertical-align: top;\n",
       "    }\n",
       "\n",
       "    .dataframe thead th {\n",
       "        text-align: right;\n",
       "    }\n",
       "</style>\n",
       "<table border=\"1\" class=\"dataframe\">\n",
       "  <thead>\n",
       "    <tr style=\"text-align: right;\">\n",
       "      <th></th>\n",
       "      <th>user_id</th>\n",
       "      <th>business_id</th>\n",
       "      <th>has_reviewed</th>\n",
       "    </tr>\n",
       "  </thead>\n",
       "  <tbody>\n",
       "    <tr>\n",
       "      <th>0</th>\n",
       "      <td>U83weFx8vCDw7zYO-4FeWA</td>\n",
       "      <td>0a2O150ytxrDjDzXNfRWkA</td>\n",
       "      <td>1</td>\n",
       "    </tr>\n",
       "    <tr>\n",
       "      <th>1</th>\n",
       "      <td>ie6yqDsa8En5o8oWRc-fKw</td>\n",
       "      <td>crstB-H5rOfbXhV8pX0e6g</td>\n",
       "      <td>1</td>\n",
       "    </tr>\n",
       "    <tr>\n",
       "      <th>2</th>\n",
       "      <td>KgJdBWS3ReP6TVhYWJRKmg</td>\n",
       "      <td>rqWsS6QJKweNBsC6wZgUjA</td>\n",
       "      <td>1</td>\n",
       "    </tr>\n",
       "  </tbody>\n",
       "</table>\n",
       "</div>"
      ],
      "text/plain": [
       "                  user_id             business_id  has_reviewed\n",
       "0  U83weFx8vCDw7zYO-4FeWA  0a2O150ytxrDjDzXNfRWkA             1\n",
       "1  ie6yqDsa8En5o8oWRc-fKw  crstB-H5rOfbXhV8pX0e6g             1\n",
       "2  KgJdBWS3ReP6TVhYWJRKmg  rqWsS6QJKweNBsC6wZgUjA             1"
      ]
     },
     "execution_count": 17,
     "metadata": {},
     "output_type": "execute_result"
    }
   ],
   "source": [
    "from helpers import get_top_n\n",
    "\n",
    "top_pred = get_top_n(predictions, n=1)\n",
    "user_ids = list(top_pred.keys())\n",
    "business_ids = [top_pred[0][0] for top_pred in list(top_pred.values())]\n",
    "\n",
    "df_top_pred_test = pd.DataFrame({'user_id':user_ids, 'business_id':business_ids})\n",
    "\n",
    "df_top_pred_test = pd.merge(df_top_pred_test,df_binary, how='left', on=['user_id','business_id'])\n",
    "df_top_pred_test.head(3)"
   ]
  },
  {
   "cell_type": "code",
   "execution_count": 18,
   "metadata": {},
   "outputs": [
    {
     "name": "stdout",
     "output_type": "stream",
     "text": [
      "precision of top 1 recommender: 0.586093429711943\n",
      "Note that a random recommender would have a precision of : 0.0014949481580244428\n"
     ]
    }
   ],
   "source": [
    "print('precision of top 1 recommender: {}'.format(df_top_pred_test['has_reviewed'].mean()))\n",
    "print('Note that a random recommender would have a precision of : {}'.format(df_binary['has_reviewed'].mean()))"
   ]
  },
  {
   "cell_type": "markdown",
   "metadata": {},
   "source": [
    "# Binary Prediction - Using Graph Analysis\n",
    "- Community detection\n",
    "    - User --[Friends]-->User\n",
    "        - and build features: percentage of user from this cluster who went to each restaurant, size of cluster\n",
    "    - User --[Reviewed]-->Restaurant\n",
    "        - and build features: is_in_same_cluster, distance between clusters\n",
    "    - User --[Friends]-->User & User --[Reviewed]-->Restaurant   (and build features: is_in_same_cluster, distance between clusters)\n",
    "        - idem\n",
    "    - User --[distance with reviewed restaurant using geolocalisation]-->Reastaurant\n",
    "        - idem\n",
    "- Centrality measures on restaurants\n"
   ]
  },
  {
   "cell_type": "markdown",
   "metadata": {},
   "source": [
    "### Train, Test & Validation Data"
   ]
  },
  {
   "cell_type": "code",
   "execution_count": 25,
   "metadata": {},
   "outputs": [],
   "source": [
    "data = {}"
   ]
  },
  {
   "cell_type": "raw",
   "metadata": {},
   "source": [
    "for mode in ['train', 'test']:\n",
    "    g = make_user_business_bipartite_graph(weighted=False, minimum_rating=0, mode=mode)\n",
    "    df_binary = get_binary_df(g)\n",
    "    data[mode] = negative_sampling(df_binary, 1)\n",
    "    data[mode].to_csv('Exp Results/binary_{}.csv'.format(mode))"
   ]
  },
  {
   "cell_type": "code",
   "execution_count": 26,
   "metadata": {},
   "outputs": [],
   "source": [
    "for mode in ['train', 'test']:\n",
    "    data[mode] = pd.read_csv('Exp Results/binary_{}.csv'.format(mode), index_col=0)"
   ]
  },
  {
   "cell_type": "code",
   "execution_count": 27,
   "metadata": {},
   "outputs": [
    {
     "name": "stdout",
     "output_type": "stream",
     "text": [
      "train (381958, 3) \n",
      "\n",
      "test (61148, 3) \n",
      "\n"
     ]
    },
    {
     "data": {
      "text/html": [
       "<div>\n",
       "<style scoped>\n",
       "    .dataframe tbody tr th:only-of-type {\n",
       "        vertical-align: middle;\n",
       "    }\n",
       "\n",
       "    .dataframe tbody tr th {\n",
       "        vertical-align: top;\n",
       "    }\n",
       "\n",
       "    .dataframe thead th {\n",
       "        text-align: right;\n",
       "    }\n",
       "</style>\n",
       "<table border=\"1\" class=\"dataframe\">\n",
       "  <thead>\n",
       "    <tr style=\"text-align: right;\">\n",
       "      <th></th>\n",
       "      <th>user_id</th>\n",
       "      <th>business_id</th>\n",
       "      <th>has_reviewed</th>\n",
       "    </tr>\n",
       "  </thead>\n",
       "  <tbody>\n",
       "    <tr>\n",
       "      <th>0</th>\n",
       "      <td>d3ZX2d1XC7MWX9Lwm_exmA</td>\n",
       "      <td>dTuT_G3Zp79RZmnF3oxfiA</td>\n",
       "      <td>0</td>\n",
       "    </tr>\n",
       "    <tr>\n",
       "      <th>1</th>\n",
       "      <td>tQ-3mLZpPLQLFiOa3KATCw</td>\n",
       "      <td>R5ZvZ97FDp2bD93CNKg-zQ</td>\n",
       "      <td>0</td>\n",
       "    </tr>\n",
       "    <tr>\n",
       "      <th>2</th>\n",
       "      <td>1XyHYcN1QtNC-6WWH1h0CA</td>\n",
       "      <td>H7z0JH-i_KqhrsZhEDBpVA</td>\n",
       "      <td>0</td>\n",
       "    </tr>\n",
       "  </tbody>\n",
       "</table>\n",
       "</div>"
      ],
      "text/plain": [
       "                  user_id             business_id  has_reviewed\n",
       "0  d3ZX2d1XC7MWX9Lwm_exmA  dTuT_G3Zp79RZmnF3oxfiA             0\n",
       "1  tQ-3mLZpPLQLFiOa3KATCw  R5ZvZ97FDp2bD93CNKg-zQ             0\n",
       "2  1XyHYcN1QtNC-6WWH1h0CA  H7z0JH-i_KqhrsZhEDBpVA             0"
      ]
     },
     "execution_count": 27,
     "metadata": {},
     "output_type": "execute_result"
    }
   ],
   "source": [
    "for key in data.keys():\n",
    "    print(key,data[key].shape,'\\n')\n",
    "data['train'].head(3)"
   ]
  },
  {
   "cell_type": "markdown",
   "metadata": {},
   "source": [
    "### Recommender"
   ]
  },
  {
   "cell_type": "code",
   "execution_count": 28,
   "metadata": {},
   "outputs": [
    {
     "data": {
      "text/plain": [
       "<surprise.prediction_algorithms.matrix_factorization.SVDpp at 0x1a294f8850>"
      ]
     },
     "execution_count": 28,
     "metadata": {},
     "output_type": "execute_result"
    }
   ],
   "source": [
    "reader = Reader(rating_scale=(0, 1))\n",
    "\n",
    "data_reco = Dataset.load_from_df(data['train'][['user_id','business_id','has_reviewed']], reader)\n",
    "trainset = data_reco.build_full_trainset()\n",
    "\n",
    "algo = SVDpp(n_factors=10, n_epochs=30, init_mean=0.5)\n",
    "algo.fit(trainset)"
   ]
  },
  {
   "cell_type": "raw",
   "metadata": {},
   "source": [
    "for key in data.keys():\n",
    "    data[key]['reco'] = data[key].parallel_apply(lambda x : algo.predict(x['user_id'],x['business_id']).est, axis=1)\n",
    "    data[key].to_csv('Exp Results/binary_and_reco_{}.csv'.format(key))\n",
    "data['train'].head(3)"
   ]
  },
  {
   "cell_type": "code",
   "execution_count": 30,
   "metadata": {},
   "outputs": [
    {
     "data": {
      "text/html": [
       "<div>\n",
       "<style scoped>\n",
       "    .dataframe tbody tr th:only-of-type {\n",
       "        vertical-align: middle;\n",
       "    }\n",
       "\n",
       "    .dataframe tbody tr th {\n",
       "        vertical-align: top;\n",
       "    }\n",
       "\n",
       "    .dataframe thead th {\n",
       "        text-align: right;\n",
       "    }\n",
       "</style>\n",
       "<table border=\"1\" class=\"dataframe\">\n",
       "  <thead>\n",
       "    <tr style=\"text-align: right;\">\n",
       "      <th></th>\n",
       "      <th>user_id</th>\n",
       "      <th>business_id</th>\n",
       "      <th>has_reviewed</th>\n",
       "      <th>reco</th>\n",
       "    </tr>\n",
       "  </thead>\n",
       "  <tbody>\n",
       "    <tr>\n",
       "      <th>0</th>\n",
       "      <td>d3ZX2d1XC7MWX9Lwm_exmA</td>\n",
       "      <td>dTuT_G3Zp79RZmnF3oxfiA</td>\n",
       "      <td>0</td>\n",
       "      <td>0.324832</td>\n",
       "    </tr>\n",
       "    <tr>\n",
       "      <th>1</th>\n",
       "      <td>tQ-3mLZpPLQLFiOa3KATCw</td>\n",
       "      <td>R5ZvZ97FDp2bD93CNKg-zQ</td>\n",
       "      <td>0</td>\n",
       "      <td>0.592005</td>\n",
       "    </tr>\n",
       "    <tr>\n",
       "      <th>2</th>\n",
       "      <td>1XyHYcN1QtNC-6WWH1h0CA</td>\n",
       "      <td>H7z0JH-i_KqhrsZhEDBpVA</td>\n",
       "      <td>0</td>\n",
       "      <td>0.107121</td>\n",
       "    </tr>\n",
       "  </tbody>\n",
       "</table>\n",
       "</div>"
      ],
      "text/plain": [
       "                  user_id             business_id  has_reviewed      reco\n",
       "0  d3ZX2d1XC7MWX9Lwm_exmA  dTuT_G3Zp79RZmnF3oxfiA             0  0.324832\n",
       "1  tQ-3mLZpPLQLFiOa3KATCw  R5ZvZ97FDp2bD93CNKg-zQ             0  0.592005\n",
       "2  1XyHYcN1QtNC-6WWH1h0CA  H7z0JH-i_KqhrsZhEDBpVA             0  0.107121"
      ]
     },
     "execution_count": 30,
     "metadata": {},
     "output_type": "execute_result"
    }
   ],
   "source": [
    "for key in data.keys():\n",
    "    data[key] = pd.read_csv('Exp Results/binary_and_reco_{}.csv'.format(key), index_col=0)\n",
    "data['train'].head(3)"
   ]
  },
  {
   "cell_type": "markdown",
   "metadata": {},
   "source": [
    "### Friends Graph"
   ]
  },
  {
   "cell_type": "markdown",
   "metadata": {},
   "source": [
    "#### Clustering"
   ]
  },
  {
   "cell_type": "raw",
   "metadata": {},
   "source": [
    "g_friends = make_friends_graph(library='igraph')\n",
    "df_user_ids = pd.DataFrame({'user_id':g_friends.vs['name']})\n",
    "infomap_friends = g_friends.community_infomap()"
   ]
  },
  {
   "cell_type": "raw",
   "metadata": {},
   "source": [
    "for key in data.keys():\n",
    "    data[key] = assign_communities(infomap_friends, data[key], 'infomap_friends', g_friends)\n",
    "    data[key].to_csv('Exp Results/binary_and_infomap_{}.csv'.format(key))\n",
    "\n",
    "print('train data: ','\\n')\n",
    "data['train'].head(3)"
   ]
  },
  {
   "cell_type": "code",
   "execution_count": 33,
   "metadata": {},
   "outputs": [
    {
     "name": "stdout",
     "output_type": "stream",
     "text": [
      "train data:  \n",
      "\n"
     ]
    },
    {
     "data": {
      "text/html": [
       "<div>\n",
       "<style scoped>\n",
       "    .dataframe tbody tr th:only-of-type {\n",
       "        vertical-align: middle;\n",
       "    }\n",
       "\n",
       "    .dataframe tbody tr th {\n",
       "        vertical-align: top;\n",
       "    }\n",
       "\n",
       "    .dataframe thead th {\n",
       "        text-align: right;\n",
       "    }\n",
       "</style>\n",
       "<table border=\"1\" class=\"dataframe\">\n",
       "  <thead>\n",
       "    <tr style=\"text-align: right;\">\n",
       "      <th></th>\n",
       "      <th>user_id</th>\n",
       "      <th>business_id</th>\n",
       "      <th>has_reviewed</th>\n",
       "      <th>reco</th>\n",
       "      <th>user_infomap_friends</th>\n",
       "    </tr>\n",
       "  </thead>\n",
       "  <tbody>\n",
       "    <tr>\n",
       "      <th>0</th>\n",
       "      <td>d3ZX2d1XC7MWX9Lwm_exmA</td>\n",
       "      <td>dTuT_G3Zp79RZmnF3oxfiA</td>\n",
       "      <td>0</td>\n",
       "      <td>0.324832</td>\n",
       "      <td>1898</td>\n",
       "    </tr>\n",
       "    <tr>\n",
       "      <th>1</th>\n",
       "      <td>tQ-3mLZpPLQLFiOa3KATCw</td>\n",
       "      <td>R5ZvZ97FDp2bD93CNKg-zQ</td>\n",
       "      <td>0</td>\n",
       "      <td>0.592005</td>\n",
       "      <td>3311</td>\n",
       "    </tr>\n",
       "    <tr>\n",
       "      <th>2</th>\n",
       "      <td>1XyHYcN1QtNC-6WWH1h0CA</td>\n",
       "      <td>H7z0JH-i_KqhrsZhEDBpVA</td>\n",
       "      <td>0</td>\n",
       "      <td>0.107121</td>\n",
       "      <td>2392</td>\n",
       "    </tr>\n",
       "  </tbody>\n",
       "</table>\n",
       "</div>"
      ],
      "text/plain": [
       "                  user_id             business_id  has_reviewed      reco  \\\n",
       "0  d3ZX2d1XC7MWX9Lwm_exmA  dTuT_G3Zp79RZmnF3oxfiA             0  0.324832   \n",
       "1  tQ-3mLZpPLQLFiOa3KATCw  R5ZvZ97FDp2bD93CNKg-zQ             0  0.592005   \n",
       "2  1XyHYcN1QtNC-6WWH1h0CA  H7z0JH-i_KqhrsZhEDBpVA             0  0.107121   \n",
       "\n",
       "   user_infomap_friends  \n",
       "0                  1898  \n",
       "1                  3311  \n",
       "2                  2392  "
      ]
     },
     "execution_count": 33,
     "metadata": {},
     "output_type": "execute_result"
    }
   ],
   "source": [
    "for key in data.keys():\n",
    "    data[key] = pd.read_csv('Exp Results/binary_and_infomap_{}.csv'.format(key), index_col=0)\n",
    "print('train data: ','\\n')\n",
    "data['train'].head(3)"
   ]
  },
  {
   "cell_type": "code",
   "execution_count": 34,
   "metadata": {},
   "outputs": [
    {
     "name": "stdout",
     "output_type": "stream",
     "text": [
      "nb_users:  18802\n",
      "nb_communities:  5942\n"
     ]
    },
    {
     "data": {
      "text/plain": [
       "[<matplotlib.lines.Line2D at 0x1a27e0bad0>]"
      ]
     },
     "execution_count": 34,
     "metadata": {},
     "output_type": "execute_result"
    },
    {
     "data": {
      "image/png": "[encoded data removed]",
      "text/plain": [
       "<Figure size 432x288 with 1 Axes>"
      ]
     },
     "metadata": {
      "needs_background": "light"
     },
     "output_type": "display_data"
    }
   ],
   "source": [
    "df_infomap_friends = data['train']\n",
    "print('nb_users: ',len(df_infomap_friends['user_id'].unique()))\n",
    "print('nb_communities: ',len(df_infomap_friends['user_infomap_friends'].unique()))\n",
    "\n",
    "plt.plot(np.cumsum(sorted(df_infomap_friends.groupby(by='user_infomap_friends').count()['user_id'].values, reverse = True)))"
   ]
  },
  {
   "cell_type": "markdown",
   "metadata": {},
   "source": [
    "#### Features"
   ]
  },
  {
   "cell_type": "code",
   "execution_count": 35,
   "metadata": {},
   "outputs": [
    {
     "data": {
      "text/html": [
       "<div>\n",
       "<style scoped>\n",
       "    .dataframe tbody tr th:only-of-type {\n",
       "        vertical-align: middle;\n",
       "    }\n",
       "\n",
       "    .dataframe tbody tr th {\n",
       "        vertical-align: top;\n",
       "    }\n",
       "\n",
       "    .dataframe thead th {\n",
       "        text-align: right;\n",
       "    }\n",
       "</style>\n",
       "<table border=\"1\" class=\"dataframe\">\n",
       "  <thead>\n",
       "    <tr style=\"text-align: right;\">\n",
       "      <th></th>\n",
       "      <th>user_id</th>\n",
       "      <th>business_id</th>\n",
       "      <th>has_reviewed</th>\n",
       "      <th>reco</th>\n",
       "      <th>user_infomap_friends</th>\n",
       "    </tr>\n",
       "  </thead>\n",
       "  <tbody>\n",
       "    <tr>\n",
       "      <th>0</th>\n",
       "      <td>d3ZX2d1XC7MWX9Lwm_exmA</td>\n",
       "      <td>dTuT_G3Zp79RZmnF3oxfiA</td>\n",
       "      <td>0</td>\n",
       "      <td>0.324832</td>\n",
       "      <td>1898</td>\n",
       "    </tr>\n",
       "    <tr>\n",
       "      <th>1</th>\n",
       "      <td>tQ-3mLZpPLQLFiOa3KATCw</td>\n",
       "      <td>R5ZvZ97FDp2bD93CNKg-zQ</td>\n",
       "      <td>0</td>\n",
       "      <td>0.592005</td>\n",
       "      <td>3311</td>\n",
       "    </tr>\n",
       "    <tr>\n",
       "      <th>2</th>\n",
       "      <td>1XyHYcN1QtNC-6WWH1h0CA</td>\n",
       "      <td>H7z0JH-i_KqhrsZhEDBpVA</td>\n",
       "      <td>0</td>\n",
       "      <td>0.107121</td>\n",
       "      <td>2392</td>\n",
       "    </tr>\n",
       "  </tbody>\n",
       "</table>\n",
       "</div>"
      ],
      "text/plain": [
       "                  user_id             business_id  has_reviewed      reco  \\\n",
       "0  d3ZX2d1XC7MWX9Lwm_exmA  dTuT_G3Zp79RZmnF3oxfiA             0  0.324832   \n",
       "1  tQ-3mLZpPLQLFiOa3KATCw  R5ZvZ97FDp2bD93CNKg-zQ             0  0.592005   \n",
       "2  1XyHYcN1QtNC-6WWH1h0CA  H7z0JH-i_KqhrsZhEDBpVA             0  0.107121   \n",
       "\n",
       "   user_infomap_friends  \n",
       "0                  1898  \n",
       "1                  3311  \n",
       "2                  2392  "
      ]
     },
     "execution_count": 35,
     "metadata": {},
     "output_type": "execute_result"
    }
   ],
   "source": [
    "data['train'].head(3)"
   ]
  },
  {
   "cell_type": "code",
   "execution_count": 36,
   "metadata": {},
   "outputs": [],
   "source": [
    "def get_proportion_of_restaurant_reviewers_in_community(df_train, community_name):\n",
    "    df = df_train.copy()\n",
    "    \n",
    "    community_size = round(df.groupby(by=[community_name], as_index=False)['user_id'].count() / 50) * 5\n",
    "    community_size.rename({'user_id':'size_{}'.format(community_name)}, inplace=True, axis=1)\n",
    "    community_size[community_name] = community_size.index.values\n",
    "\n",
    "\n",
    "    restaurant_reviewers = df.loc[df['has_reviewed']==1].groupby(by=[community_name,'business_id'], as_index=False)['reco'].count()\n",
    "    df = pd.merge(restaurant_reviewers, community_size, how='left')\n",
    "    df['proportion_{}'.format(community_name)] = round(10 * df['reco'] / (df['size_{}'.format(community_name)]+1)) / 10\n",
    "    community_proportions = df[[community_name, 'business_id', 'proportion_{}'.format(community_name)]].fillna(0)\n",
    "    \n",
    "    return community_size, community_proportions"
   ]
  },
  {
   "cell_type": "code",
   "execution_count": 37,
   "metadata": {},
   "outputs": [],
   "source": [
    "community_size, community_proportions = get_proportion_of_restaurant_reviewers_in_community(data['train'], 'user_infomap_friends')\n",
    "\n",
    "features = pd.merge(community_proportions, community_size, how = 'left', on = ['user_infomap_friends']).fillna(0)\n",
    "\n",
    "for key in data.keys():\n",
    "    data[key] = pd.merge(data[key], features, how = 'left', on = ['user_infomap_friends','business_id']).fillna(0)"
   ]
  },
  {
   "cell_type": "code",
   "execution_count": 38,
   "metadata": {},
   "outputs": [
    {
     "data": {
      "text/html": [
       "<div>\n",
       "<style scoped>\n",
       "    .dataframe tbody tr th:only-of-type {\n",
       "        vertical-align: middle;\n",
       "    }\n",
       "\n",
       "    .dataframe tbody tr th {\n",
       "        vertical-align: top;\n",
       "    }\n",
       "\n",
       "    .dataframe thead th {\n",
       "        text-align: right;\n",
       "    }\n",
       "</style>\n",
       "<table border=\"1\" class=\"dataframe\">\n",
       "  <thead>\n",
       "    <tr style=\"text-align: right;\">\n",
       "      <th></th>\n",
       "      <th>user_id</th>\n",
       "      <th>business_id</th>\n",
       "      <th>has_reviewed</th>\n",
       "      <th>reco</th>\n",
       "      <th>user_infomap_friends</th>\n",
       "      <th>proportion_user_infomap_friends</th>\n",
       "      <th>size_user_infomap_friends</th>\n",
       "    </tr>\n",
       "  </thead>\n",
       "  <tbody>\n",
       "    <tr>\n",
       "      <th>0</th>\n",
       "      <td>d3ZX2d1XC7MWX9Lwm_exmA</td>\n",
       "      <td>dTuT_G3Zp79RZmnF3oxfiA</td>\n",
       "      <td>0</td>\n",
       "      <td>0.324832</td>\n",
       "      <td>1898</td>\n",
       "      <td>0.0</td>\n",
       "      <td>0.0</td>\n",
       "    </tr>\n",
       "    <tr>\n",
       "      <th>1</th>\n",
       "      <td>tQ-3mLZpPLQLFiOa3KATCw</td>\n",
       "      <td>R5ZvZ97FDp2bD93CNKg-zQ</td>\n",
       "      <td>0</td>\n",
       "      <td>0.592005</td>\n",
       "      <td>3311</td>\n",
       "      <td>0.0</td>\n",
       "      <td>0.0</td>\n",
       "    </tr>\n",
       "    <tr>\n",
       "      <th>2</th>\n",
       "      <td>1XyHYcN1QtNC-6WWH1h0CA</td>\n",
       "      <td>H7z0JH-i_KqhrsZhEDBpVA</td>\n",
       "      <td>0</td>\n",
       "      <td>0.107121</td>\n",
       "      <td>2392</td>\n",
       "      <td>0.0</td>\n",
       "      <td>0.0</td>\n",
       "    </tr>\n",
       "  </tbody>\n",
       "</table>\n",
       "</div>"
      ],
      "text/plain": [
       "                  user_id             business_id  has_reviewed      reco  \\\n",
       "0  d3ZX2d1XC7MWX9Lwm_exmA  dTuT_G3Zp79RZmnF3oxfiA             0  0.324832   \n",
       "1  tQ-3mLZpPLQLFiOa3KATCw  R5ZvZ97FDp2bD93CNKg-zQ             0  0.592005   \n",
       "2  1XyHYcN1QtNC-6WWH1h0CA  H7z0JH-i_KqhrsZhEDBpVA             0  0.107121   \n",
       "\n",
       "   user_infomap_friends  proportion_user_infomap_friends  \\\n",
       "0                  1898                              0.0   \n",
       "1                  3311                              0.0   \n",
       "2                  2392                              0.0   \n",
       "\n",
       "   size_user_infomap_friends  \n",
       "0                        0.0  \n",
       "1                        0.0  \n",
       "2                        0.0  "
      ]
     },
     "execution_count": 38,
     "metadata": {},
     "output_type": "execute_result"
    }
   ],
   "source": [
    "data['train'].head(3)"
   ]
  },
  {
   "cell_type": "code",
   "execution_count": 39,
   "metadata": {},
   "outputs": [
    {
     "data": {
      "text/plain": [
       "Counter({0.0: 193799,\n",
       "         55.0: 2341,\n",
       "         5.0: 58740,\n",
       "         15.0: 24389,\n",
       "         25.0: 10939,\n",
       "         100.0: 1529,\n",
       "         175.0: 1059,\n",
       "         35.0: 5303,\n",
       "         80.0: 730,\n",
       "         20.0: 19464,\n",
       "         10.0: 41655,\n",
       "         30.0: 6304,\n",
       "         40.0: 3022,\n",
       "         120.0: 788,\n",
       "         150.0: 723,\n",
       "         45.0: 1718,\n",
       "         60.0: 1296,\n",
       "         50.0: 1239,\n",
       "         340.0: 2302,\n",
       "         75.0: 548,\n",
       "         105.0: 736,\n",
       "         265.0: 1344,\n",
       "         65.0: 1436,\n",
       "         95.0: 554})"
      ]
     },
     "execution_count": 39,
     "metadata": {},
     "output_type": "execute_result"
    }
   ],
   "source": [
    "Counter(data['train']['size_user_infomap_friends'])"
   ]
  },
  {
   "cell_type": "markdown",
   "metadata": {},
   "source": [
    "#### Classifier"
   ]
  },
  {
   "cell_type": "code",
   "execution_count": 40,
   "metadata": {},
   "outputs": [],
   "source": [
    "from sklearn.ensemble import RandomForestClassifier\n",
    "from sklearn.linear_model import LogisticRegression"
   ]
  },
  {
   "cell_type": "code",
   "execution_count": 41,
   "metadata": {},
   "outputs": [
    {
     "name": "stdout",
     "output_type": "stream",
     "text": [
      "train_mae:  0.13788165190937224 \n",
      "test_mae:  0.333992935173677\n"
     ]
    }
   ],
   "source": [
    "clf = LogisticRegression()\n",
    "\n",
    "X_train = data['train'][['reco']].values\n",
    "y_train = data['train']['has_reviewed'].values\n",
    "\n",
    "X_test = data['test'][['reco']].values\n",
    "y_test = data['test']['has_reviewed'].values\n",
    "\n",
    "clf.fit(X_train, y_train)\n",
    "print('train_mae: ',mean_absolute_error(clf.predict(X_train), y_train),'\\ntest_mae: ', mean_absolute_error(clf.predict(X_test), y_test))"
   ]
  },
  {
   "cell_type": "code",
   "execution_count": 42,
   "metadata": {},
   "outputs": [
    {
     "data": {
      "text/plain": [
       "array([0, 1, 0, ..., 0, 1, 0])"
      ]
     },
     "execution_count": 42,
     "metadata": {},
     "output_type": "execute_result"
    }
   ],
   "source": [
    "clf.predict(X_train)"
   ]
  },
  {
   "cell_type": "code",
   "execution_count": 43,
   "metadata": {},
   "outputs": [
    {
     "name": "stdout",
     "output_type": "stream",
     "text": [
      "train_mae:  0.0038616811272443566 \n",
      "test_mae:  0.4796068554981357\n"
     ]
    }
   ],
   "source": [
    "clf = LogisticRegression()\n",
    "\n",
    "X_train = data['train'][['size_user_infomap_friends','proportion_user_infomap_friends']].values\n",
    "y_train = data['train']['has_reviewed'].values\n",
    "\n",
    "X_test = data['test'][['size_user_infomap_friends','proportion_user_infomap_friends']].values\n",
    "y_test = data['test']['has_reviewed'].values\n",
    "\n",
    "clf.fit(X_train, y_train)\n",
    "print('train_mae: ',mean_absolute_error(clf.predict(X_train), y_train),\n",
    "      '\\ntest_mae: ', mean_absolute_error(clf.predict(X_test), y_test))"
   ]
  },
  {
   "cell_type": "markdown",
   "metadata": {},
   "source": [
    "### Full Graph"
   ]
  },
  {
   "cell_type": "code",
   "execution_count": 44,
   "metadata": {},
   "outputs": [],
   "source": [
    "g_full = make_frienships_and_reviews_graph(weight_ratio=2, minimum_rating=0, igraph_=True, mode='train')\n",
    "infomap_full = g_full.community_infomap(edge_weights='weight')"
   ]
  },
  {
   "cell_type": "raw",
   "metadata": {},
   "source": [
    "for key in data.keys():\n",
    "    data[key] = assign_communities(infomap_full, data[key], 'infomap_full', g_full, attribute_name = 'id', node_type = 'user')\n",
    "    data[key] = assign_communities(infomap_full, data[key], 'infomap_full', g_full, attribute_name = 'id', node_type = 'business')\n",
    "    data[key].to_csv('Exp Results/binary_and_infomap_full_weight_ratio2{}.csv'.format(key))\n",
    "    print(key,'\\n',data[key].head(3),'\\n\\n')"
   ]
  },
  {
   "cell_type": "code",
   "execution_count": 47,
   "metadata": {},
   "outputs": [
    {
     "name": "stdout",
     "output_type": "stream",
     "text": [
      "train data \n",
      "\n"
     ]
    },
    {
     "data": {
      "text/html": [
       "<div>\n",
       "<style scoped>\n",
       "    .dataframe tbody tr th:only-of-type {\n",
       "        vertical-align: middle;\n",
       "    }\n",
       "\n",
       "    .dataframe tbody tr th {\n",
       "        vertical-align: top;\n",
       "    }\n",
       "\n",
       "    .dataframe thead th {\n",
       "        text-align: right;\n",
       "    }\n",
       "</style>\n",
       "<table border=\"1\" class=\"dataframe\">\n",
       "  <thead>\n",
       "    <tr style=\"text-align: right;\">\n",
       "      <th></th>\n",
       "      <th>user_id</th>\n",
       "      <th>business_id</th>\n",
       "      <th>has_reviewed</th>\n",
       "      <th>reco</th>\n",
       "      <th>user_infomap_friends</th>\n",
       "      <th>proportion_user_infomap_friends</th>\n",
       "      <th>size_user_infomap_friends</th>\n",
       "      <th>user_infomap_full</th>\n",
       "      <th>business_infomap_full</th>\n",
       "    </tr>\n",
       "  </thead>\n",
       "  <tbody>\n",
       "    <tr>\n",
       "      <th>0</th>\n",
       "      <td>d3ZX2d1XC7MWX9Lwm_exmA</td>\n",
       "      <td>dTuT_G3Zp79RZmnF3oxfiA</td>\n",
       "      <td>0</td>\n",
       "      <td>0.324832</td>\n",
       "      <td>1898</td>\n",
       "      <td>0.0</td>\n",
       "      <td>0.0</td>\n",
       "      <td>1046</td>\n",
       "      <td>0</td>\n",
       "    </tr>\n",
       "    <tr>\n",
       "      <th>1</th>\n",
       "      <td>tQ-3mLZpPLQLFiOa3KATCw</td>\n",
       "      <td>R5ZvZ97FDp2bD93CNKg-zQ</td>\n",
       "      <td>0</td>\n",
       "      <td>0.592005</td>\n",
       "      <td>3311</td>\n",
       "      <td>0.0</td>\n",
       "      <td>0.0</td>\n",
       "      <td>484</td>\n",
       "      <td>0</td>\n",
       "    </tr>\n",
       "    <tr>\n",
       "      <th>2</th>\n",
       "      <td>1XyHYcN1QtNC-6WWH1h0CA</td>\n",
       "      <td>H7z0JH-i_KqhrsZhEDBpVA</td>\n",
       "      <td>0</td>\n",
       "      <td>0.107121</td>\n",
       "      <td>2392</td>\n",
       "      <td>0.0</td>\n",
       "      <td>0.0</td>\n",
       "      <td>0</td>\n",
       "      <td>0</td>\n",
       "    </tr>\n",
       "  </tbody>\n",
       "</table>\n",
       "</div>"
      ],
      "text/plain": [
       "                  user_id             business_id  has_reviewed      reco  \\\n",
       "0  d3ZX2d1XC7MWX9Lwm_exmA  dTuT_G3Zp79RZmnF3oxfiA             0  0.324832   \n",
       "1  tQ-3mLZpPLQLFiOa3KATCw  R5ZvZ97FDp2bD93CNKg-zQ             0  0.592005   \n",
       "2  1XyHYcN1QtNC-6WWH1h0CA  H7z0JH-i_KqhrsZhEDBpVA             0  0.107121   \n",
       "\n",
       "   user_infomap_friends  proportion_user_infomap_friends  \\\n",
       "0                  1898                              0.0   \n",
       "1                  3311                              0.0   \n",
       "2                  2392                              0.0   \n",
       "\n",
       "   size_user_infomap_friends  user_infomap_full  business_infomap_full  \n",
       "0                        0.0               1046                      0  \n",
       "1                        0.0                484                      0  \n",
       "2                        0.0                  0                      0  "
      ]
     },
     "execution_count": 47,
     "metadata": {},
     "output_type": "execute_result"
    }
   ],
   "source": [
    "for key in data.keys():\n",
    "    data[key] = pd.read_csv('Exp Results/binary_and_infomap_full_weight_ratio2{}.csv'.format(key), index_col=0)\n",
    "print('train data','\\n')\n",
    "data['train'].head(3)"
   ]
  },
  {
   "cell_type": "code",
   "execution_count": 48,
   "metadata": {},
   "outputs": [
    {
     "name": "stdout",
     "output_type": "stream",
     "text": [
      "nb_users:  18802\n",
      "nb_communities:  1274\n"
     ]
    },
    {
     "data": {
      "text/plain": [
       "[<matplotlib.lines.Line2D at 0x1a2bb684d0>]"
      ]
     },
     "execution_count": 48,
     "metadata": {},
     "output_type": "execute_result"
    },
    {
     "data": {
      "image/png": "[encoded data removed]",
      "text/plain": [
       "<Figure size 432x288 with 1 Axes>"
      ]
     },
     "metadata": {
      "needs_background": "light"
     },
     "output_type": "display_data"
    }
   ],
   "source": [
    "df_infomap_full = data['train']\n",
    "print('nb_users: ',len(df_infomap_full['user_id'].unique()))\n",
    "print('nb_communities: ',len(df_infomap_full['user_infomap_full'].unique()))\n",
    "\n",
    "plt.plot(np.cumsum(sorted(df_infomap_full.groupby(by='user_infomap_full').count()['user_id'].values, reverse = True)))"
   ]
  },
  {
   "cell_type": "code",
   "execution_count": 49,
   "metadata": {},
   "outputs": [
    {
     "data": {
      "text/html": [
       "<div>\n",
       "<style scoped>\n",
       "    .dataframe tbody tr th:only-of-type {\n",
       "        vertical-align: middle;\n",
       "    }\n",
       "\n",
       "    .dataframe tbody tr th {\n",
       "        vertical-align: top;\n",
       "    }\n",
       "\n",
       "    .dataframe thead th {\n",
       "        text-align: right;\n",
       "    }\n",
       "</style>\n",
       "<table border=\"1\" class=\"dataframe\">\n",
       "  <thead>\n",
       "    <tr style=\"text-align: right;\">\n",
       "      <th></th>\n",
       "      <th>user_id</th>\n",
       "      <th>business_id</th>\n",
       "      <th>has_reviewed</th>\n",
       "      <th>reco</th>\n",
       "      <th>user_infomap_friends</th>\n",
       "      <th>proportion_user_infomap_friends</th>\n",
       "      <th>size_user_infomap_friends</th>\n",
       "      <th>user_infomap_full</th>\n",
       "      <th>business_infomap_full</th>\n",
       "    </tr>\n",
       "  </thead>\n",
       "  <tbody>\n",
       "    <tr>\n",
       "      <th>0</th>\n",
       "      <td>d3ZX2d1XC7MWX9Lwm_exmA</td>\n",
       "      <td>dTuT_G3Zp79RZmnF3oxfiA</td>\n",
       "      <td>0</td>\n",
       "      <td>0.324832</td>\n",
       "      <td>1898</td>\n",
       "      <td>0.0</td>\n",
       "      <td>0.0</td>\n",
       "      <td>1046</td>\n",
       "      <td>0</td>\n",
       "    </tr>\n",
       "    <tr>\n",
       "      <th>1</th>\n",
       "      <td>tQ-3mLZpPLQLFiOa3KATCw</td>\n",
       "      <td>R5ZvZ97FDp2bD93CNKg-zQ</td>\n",
       "      <td>0</td>\n",
       "      <td>0.592005</td>\n",
       "      <td>3311</td>\n",
       "      <td>0.0</td>\n",
       "      <td>0.0</td>\n",
       "      <td>484</td>\n",
       "      <td>0</td>\n",
       "    </tr>\n",
       "    <tr>\n",
       "      <th>2</th>\n",
       "      <td>1XyHYcN1QtNC-6WWH1h0CA</td>\n",
       "      <td>H7z0JH-i_KqhrsZhEDBpVA</td>\n",
       "      <td>0</td>\n",
       "      <td>0.107121</td>\n",
       "      <td>2392</td>\n",
       "      <td>0.0</td>\n",
       "      <td>0.0</td>\n",
       "      <td>0</td>\n",
       "      <td>0</td>\n",
       "    </tr>\n",
       "  </tbody>\n",
       "</table>\n",
       "</div>"
      ],
      "text/plain": [
       "                  user_id             business_id  has_reviewed      reco  \\\n",
       "0  d3ZX2d1XC7MWX9Lwm_exmA  dTuT_G3Zp79RZmnF3oxfiA             0  0.324832   \n",
       "1  tQ-3mLZpPLQLFiOa3KATCw  R5ZvZ97FDp2bD93CNKg-zQ             0  0.592005   \n",
       "2  1XyHYcN1QtNC-6WWH1h0CA  H7z0JH-i_KqhrsZhEDBpVA             0  0.107121   \n",
       "\n",
       "   user_infomap_friends  proportion_user_infomap_friends  \\\n",
       "0                  1898                              0.0   \n",
       "1                  3311                              0.0   \n",
       "2                  2392                              0.0   \n",
       "\n",
       "   size_user_infomap_friends  user_infomap_full  business_infomap_full  \n",
       "0                        0.0               1046                      0  \n",
       "1                        0.0                484                      0  \n",
       "2                        0.0                  0                      0  "
      ]
     },
     "execution_count": 49,
     "metadata": {},
     "output_type": "execute_result"
    }
   ],
   "source": [
    "data['train'].head(3)"
   ]
  },
  {
   "cell_type": "code",
   "execution_count": 50,
   "metadata": {},
   "outputs": [
    {
     "name": "stdout",
     "output_type": "stream",
     "text": [
      "train data \n",
      "\n"
     ]
    },
    {
     "data": {
      "text/html": [
       "<div>\n",
       "<style scoped>\n",
       "    .dataframe tbody tr th:only-of-type {\n",
       "        vertical-align: middle;\n",
       "    }\n",
       "\n",
       "    .dataframe tbody tr th {\n",
       "        vertical-align: top;\n",
       "    }\n",
       "\n",
       "    .dataframe thead th {\n",
       "        text-align: right;\n",
       "    }\n",
       "</style>\n",
       "<table border=\"1\" class=\"dataframe\">\n",
       "  <thead>\n",
       "    <tr style=\"text-align: right;\">\n",
       "      <th></th>\n",
       "      <th>user_id</th>\n",
       "      <th>business_id</th>\n",
       "      <th>has_reviewed</th>\n",
       "      <th>reco</th>\n",
       "      <th>user_infomap_friends</th>\n",
       "      <th>proportion_user_infomap_friends</th>\n",
       "      <th>size_user_infomap_friends</th>\n",
       "      <th>infomap_full_indicator</th>\n",
       "    </tr>\n",
       "  </thead>\n",
       "  <tbody>\n",
       "    <tr>\n",
       "      <th>0</th>\n",
       "      <td>d3ZX2d1XC7MWX9Lwm_exmA</td>\n",
       "      <td>dTuT_G3Zp79RZmnF3oxfiA</td>\n",
       "      <td>0</td>\n",
       "      <td>0.324832</td>\n",
       "      <td>1898</td>\n",
       "      <td>0.0</td>\n",
       "      <td>0.0</td>\n",
       "      <td>0</td>\n",
       "    </tr>\n",
       "    <tr>\n",
       "      <th>1</th>\n",
       "      <td>tQ-3mLZpPLQLFiOa3KATCw</td>\n",
       "      <td>R5ZvZ97FDp2bD93CNKg-zQ</td>\n",
       "      <td>0</td>\n",
       "      <td>0.592005</td>\n",
       "      <td>3311</td>\n",
       "      <td>0.0</td>\n",
       "      <td>0.0</td>\n",
       "      <td>0</td>\n",
       "    </tr>\n",
       "    <tr>\n",
       "      <th>2</th>\n",
       "      <td>1XyHYcN1QtNC-6WWH1h0CA</td>\n",
       "      <td>H7z0JH-i_KqhrsZhEDBpVA</td>\n",
       "      <td>0</td>\n",
       "      <td>0.107121</td>\n",
       "      <td>2392</td>\n",
       "      <td>0.0</td>\n",
       "      <td>0.0</td>\n",
       "      <td>1</td>\n",
       "    </tr>\n",
       "  </tbody>\n",
       "</table>\n",
       "</div>"
      ],
      "text/plain": [
       "                  user_id             business_id  has_reviewed      reco  \\\n",
       "0  d3ZX2d1XC7MWX9Lwm_exmA  dTuT_G3Zp79RZmnF3oxfiA             0  0.324832   \n",
       "1  tQ-3mLZpPLQLFiOa3KATCw  R5ZvZ97FDp2bD93CNKg-zQ             0  0.592005   \n",
       "2  1XyHYcN1QtNC-6WWH1h0CA  H7z0JH-i_KqhrsZhEDBpVA             0  0.107121   \n",
       "\n",
       "   user_infomap_friends  proportion_user_infomap_friends  \\\n",
       "0                  1898                              0.0   \n",
       "1                  3311                              0.0   \n",
       "2                  2392                              0.0   \n",
       "\n",
       "   size_user_infomap_friends  infomap_full_indicator  \n",
       "0                        0.0                       0  \n",
       "1                        0.0                       0  \n",
       "2                        0.0                       1  "
      ]
     },
     "execution_count": 50,
     "metadata": {},
     "output_type": "execute_result"
    }
   ],
   "source": [
    "for key in data.keys():\n",
    "    data[key]['infomap_full_indicator'] = (data[key]['business_infomap_full'] == data[key]['user_infomap_full']) * 1\n",
    "    data[key].drop(['business_infomap_full','user_infomap_full'], axis=1, inplace=True)\n",
    "print('train data','\\n')\n",
    "data['train'].head(3)"
   ]
  },
  {
   "cell_type": "code",
   "execution_count": 51,
   "metadata": {},
   "outputs": [
    {
     "data": {
      "text/plain": [
       "Counter({0: 184061, 1: 197897})"
      ]
     },
     "execution_count": 51,
     "metadata": {},
     "output_type": "execute_result"
    }
   ],
   "source": [
    "Counter(data['train']['infomap_full_indicator'])"
   ]
  },
  {
   "cell_type": "markdown",
   "metadata": {},
   "source": [
    "### Classifier using full graph features only"
   ]
  },
  {
   "cell_type": "code",
   "execution_count": 52,
   "metadata": {},
   "outputs": [
    {
     "name": "stdout",
     "output_type": "stream",
     "text": [
      "train_mae:  0.24588567329392236 \n",
      "test_mae:  0.43049650029436776\n"
     ]
    }
   ],
   "source": [
    "clf = LogisticRegression()\n",
    "\n",
    "X_train = data['train'][['infomap_full_indicator']].values\n",
    "y_train = data['train']['has_reviewed'].values\n",
    "\n",
    "X_test = data['test'][['infomap_full_indicator']].values\n",
    "y_test = data['test']['has_reviewed'].values\n",
    "\n",
    "clf.fit(X_train, y_train)\n",
    "print('train_mae: ',mean_absolute_error(clf.predict(X_train), y_train),\n",
    "      '\\ntest_mae: ', mean_absolute_error(clf.predict(X_test), y_test))"
   ]
  },
  {
   "cell_type": "markdown",
   "metadata": {},
   "source": [
    "### Classifier using friends graph & full graph features & reco"
   ]
  },
  {
   "cell_type": "code",
   "execution_count": 53,
   "metadata": {},
   "outputs": [
    {
     "name": "stdout",
     "output_type": "stream",
     "text": [
      "train_mae:  0.01743123589504605 \n",
      "test_mae:  0.41958853928174267\n"
     ]
    }
   ],
   "source": [
    "clf = LogisticRegression()\n",
    "\n",
    "X_train = data['train'][['reco','size_user_infomap_friends','proportion_user_infomap_friends','infomap_full_indicator']].values\n",
    "y_train = data['train']['has_reviewed'].values\n",
    "\n",
    "X_test = data['test'][['reco','size_user_infomap_friends','proportion_user_infomap_friends','infomap_full_indicator']].values\n",
    "y_test = data['test']['has_reviewed'].values\n",
    "\n",
    "clf.fit(X_train, y_train)\n",
    "print('train_mae: ',mean_absolute_error(clf.predict(X_train), y_train),\n",
    "      '\\ntest_mae: ', mean_absolute_error(clf.predict(X_test), y_test))"
   ]
  },
  {
   "cell_type": "markdown",
   "metadata": {},
   "source": [
    "# Future Work"
   ]
  },
  {
   "cell_type": "markdown",
   "metadata": {},
   "source": [
    "### Use a different train/evaluation method.\n",
    "For a recommender, use more a leave one out like approach.  \n",
    "With our current approach, we will never suggest a restaurant that open this year, which is a huge problem."
   ]
  },
  {
   "cell_type": "markdown",
   "metadata": {},
   "source": [
    "### Use coordinates\n",
    "Could be used to build a graph or relevant features"
   ]
  },
  {
   "cell_type": "code",
   "execution_count": 54,
   "metadata": {},
   "outputs": [
    {
     "data": {
      "text/plain": [
       "<matplotlib.axes._subplots.AxesSubplot at 0x1a29f361d0>"
      ]
     },
     "execution_count": 54,
     "metadata": {},
     "output_type": "execute_result"
    },
    {
     "data": {
      "image/png": "[encoded data removed]",
      "text/plain": [
       "<Figure size 432x288 with 1 Axes>"
      ]
     },
     "metadata": {
      "needs_background": "light"
     },
     "output_type": "display_data"
    }
   ],
   "source": [
    "coordinates = df_biz[['latitude', 'longitude']]\n",
    "coordinates.plot.scatter('latitude','longitude')"
   ]
  },
  {
   "cell_type": "code",
   "execution_count": 55,
   "metadata": {},
   "outputs": [
    {
     "data": {
      "text/plain": [
       "<matplotlib.collections.PathCollection at 0x1a2965b1d0>"
      ]
     },
     "execution_count": 55,
     "metadata": {},
     "output_type": "execute_result"
    },
    {
     "data": {
      "image/png": "[encoded data removed]",
      "text/plain": [
       "<Figure size 432x288 with 1 Axes>"
      ]
     },
     "metadata": {
      "needs_background": "light"
     },
     "output_type": "display_data"
    }
   ],
   "source": [
    "clf = KMeans(n_clusters=10)\n",
    "clf.fit(coordinates)\n",
    "coordinates_clusters = clf.labels_\n",
    "plt.scatter(x = coordinates['latitude'], y = coordinates['longitude'], c=coordinates_clusters)"
   ]
  },
  {
   "cell_type": "code",
   "execution_count": null,
   "metadata": {},
   "outputs": [],
   "source": []
  }
 ],
 "metadata": {
  "kernelspec": {
   "display_name": "Python 3",
   "language": "python",
   "name": "python3"
  },
  "language_info": {
   "codemirror_mode": {
    "name": "ipython",
    "version": 3
   },
   "file_extension": ".py",
   "mimetype": "text/x-python",
   "name": "python",
   "nbconvert_exporter": "python",
   "pygments_lexer": "ipython3",
   "version": "3.7.6"
  }
 },
 "nbformat": 4,
 "nbformat_minor": 4
}
