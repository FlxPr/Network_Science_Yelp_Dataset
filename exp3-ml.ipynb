{
 "cells": [
  {
   "cell_type": "code",
   "execution_count": 1,
   "metadata": {},
   "outputs": [],
   "source": [
    "import igraph as ig\n",
    "import networkx as nx\n",
    "import pandas as pd\n",
    "import numpy as np\n",
    "import re\n",
    "import swifter\n",
    "\n",
    "from sklearn import preprocessing\n",
    "from sklearn.model_selection import cross_validate\n",
    "import lightgbm as lgbm\n",
    "\n",
    "from settings import file_names"
   ]
  },
  {
   "cell_type": "code",
   "execution_count": 2,
   "metadata": {},
   "outputs": [],
   "source": [
    "df = pd.read_csv(file_names['toronto_reviews_without_text'])\n",
    "df_users = pd.read_csv(file_names['toronto_users'])\n",
    "df_biz = pd.read_csv(file_names['toronto_businesses'])"
   ]
  },
  {
   "cell_type": "code",
   "execution_count": 3,
   "metadata": {},
   "outputs": [],
   "source": [
    "# Helper Functions\n",
    "# A helper funtion to assign communities\n",
    "def assign_communities(community, df, name):\n",
    "    # Create a new df\n",
    "    df = df.copy()\n",
    "    \n",
    "    # Create a new column for communities\n",
    "    df[name] = 0\n",
    "    \n",
    "    for i, com in enumerate(community):\n",
    "        \n",
    "        # Get node indices\n",
    "        com = G.vs[com]['name']\n",
    "        \n",
    "        # Convert strings to integers\n",
    "        com = [int(x) for x in com]\n",
    "        \n",
    "        mask = df['user_id'].isin(com)\n",
    "        df.loc[mask, name] = i \n",
    "        \n",
    "    return df"
   ]
  },
  {
   "cell_type": "markdown",
   "metadata": {},
   "source": [
    "# 1. Feature Engineering"
   ]
  },
  {
   "cell_type": "markdown",
   "metadata": {},
   "source": [
    "## 1.1 Encode IDs"
   ]
  },
  {
   "cell_type": "code",
   "execution_count": 4,
   "metadata": {},
   "outputs": [],
   "source": [
    "le = preprocessing.LabelEncoder()\n",
    "\n",
    "# Fit the encoder\n",
    "le.fit(list(df['user_id'].unique()) + list(df_biz['business_id'].unique()))\n",
    "\n",
    "# Encode the review table\n",
    "df['user_id'] = le.transform(df['user_id'])\n",
    "df['business_id'] = le.transform(df['business_id'])\n",
    "\n",
    "# Encode the business table\n",
    "df_biz['business_id'] = le.transform(df_biz['business_id'])\n",
    "\n",
    "# Encode, filter and transform the user table - only friendships between two toronto residents remain\n",
    "df_users['friends'] = df_users['friends'].str.split()\n",
    "df_users = df_users.explode('friends')\n",
    "df_users = df_users[df_users['user_id'].isin(le.classes_)]\n",
    "df_users = df_users[df_users['friends'].isin(le.classes_)]\n",
    "df_users['user_id'] = le.transform(df_users['user_id'])\n",
    "df_users['friends'] = le.transform(df_users['friends'])"
   ]
  },
  {
   "cell_type": "markdown",
   "metadata": {},
   "source": [
    "## 1.2 Business"
   ]
  },
  {
   "cell_type": "code",
   "execution_count": 5,
   "metadata": {},
   "outputs": [],
   "source": [
    "# Select relevant columns\n",
    "cols = ['business_id', 'latitude', 'longitude', 'stars', 'review_count', 'attributes',\n",
    "       'categories']\n",
    "df_biz = df_biz[cols]"
   ]
  },
  {
   "cell_type": "code",
   "execution_count": 6,
   "metadata": {},
   "outputs": [],
   "source": [
    "# Clean the attributes column - Undone\n",
    "df_biz['attributes'] = df_biz['attributes'].map(eval, na_action='ignore')\n",
    "df_biz = df_biz.drop('attributes', axis=1)"
   ]
  },
  {
   "cell_type": "code",
   "execution_count": 7,
   "metadata": {},
   "outputs": [],
   "source": [
    "# Clean the categories column\n",
    "df_biz['categories'] = df_biz['categories'].str.split(', ')\n",
    "\n",
    "# Keep only categories that have at least 100 samples\n",
    "temp = df_biz.pop('categories').explode()\n",
    "temp = pd.crosstab(temp.index, temp)\n",
    "mask = temp.sum(axis=0)\n",
    "mask = (mask[mask>=100]).index\n",
    "df_biz = pd.concat([df_biz, temp[mask]], axis=1)"
   ]
  },
  {
   "cell_type": "markdown",
   "metadata": {},
   "source": [
    "## 1.3 Users"
   ]
  },
  {
   "cell_type": "code",
   "execution_count": 8,
   "metadata": {},
   "outputs": [],
   "source": [
    "# Create a graph to the disk\n",
    "g = nx.Graph()\n",
    "g.add_nodes_from(df.user_id.unique(), bipartite=0)\n",
    "g.add_nodes_from(df.business_id.unique(), bipartite=1)\n",
    "\n",
    "g.add_weighted_edges_from([(user, business, rating) for user, business, rating\n",
    "                           in zip(df.user_id, df.business_id, df.rating)])\n",
    "nx.write_graphml(g,'Toronto_data//graph.graphml')\n",
    "G = ig.Graph.TupleList(df_users.values)"
   ]
  },
  {
   "cell_type": "code",
   "execution_count": 9,
   "metadata": {},
   "outputs": [],
   "source": [
    "# Community Detection - infomap\n",
    "c_infomap = G.community_infomap()\n",
    "df_users = pd.DataFrame({'user_id':G.vs['name']})\n",
    "df_users = assign_communities(c_infomap, df_users, 'infomap')"
   ]
  },
  {
   "cell_type": "markdown",
   "metadata": {},
   "source": [
    "## 1.4 Reviews"
   ]
  },
  {
   "cell_type": "code",
   "execution_count": 10,
   "metadata": {},
   "outputs": [],
   "source": [
    "# Read the saved review graph\n",
    "G = ig.read('Toronto_data//graph.graphml',format=\"graphml\")"
   ]
  },
  {
   "cell_type": "code",
   "execution_count": 11,
   "metadata": {},
   "outputs": [],
   "source": [
    "# Some graph attributes\n",
    "att = {'weighted_centrality':G.strength(weights='weight'),\n",
    "       'eigenvector_centrality':G.eigenvector_centrality(weights='weight'),\n",
    "       'pagerank': G.pagerank(weights='weight')}\n",
    "\n",
    "att = pd.DataFrame(att)\n",
    "att['index'] = G.vs['id']\n",
    "att['index'] = pd.to_numeric(att['index'])\n",
    "df = df.merge(att, left_on='business_id', right_on='index', how='left')\n",
    "df = df.merge(att, left_on='user_id', right_on='index', how='left')\n",
    "\n",
    "df = df.drop(['index_y', 'index_x'], axis=1)"
   ]
  },
  {
   "cell_type": "markdown",
   "metadata": {},
   "source": [
    "## 1.5 Join everything together"
   ]
  },
  {
   "cell_type": "code",
   "execution_count": 12,
   "metadata": {},
   "outputs": [],
   "source": [
    "data = df.merge(df_biz, on='business_id', how='left')\n",
    "data = data.merge(df_users, on='user_id', how='left')"
   ]
  },
  {
   "cell_type": "code",
   "execution_count": 13,
   "metadata": {},
   "outputs": [],
   "source": [
    "# Sort the dataframe\n",
    "data = data.sort_values('date')"
   ]
  },
  {
   "cell_type": "code",
   "execution_count": 19,
   "metadata": {},
   "outputs": [],
   "source": [
    "# Separate the training and validation set\n",
    "n_train = int(0.8*data.shape[0])\n",
    "\n",
    "data_train = data.iloc[:n_train]\n",
    "data_val = data.iloc[n_train:]\n",
    "\n",
    "data_train = data_train.sort_values('user_id')\n",
    "data_val = data_val.sort_values('user_id')"
   ]
  },
  {
   "cell_type": "markdown",
   "metadata": {},
   "source": [
    "## 1.6 Create X and y"
   ]
  },
  {
   "cell_type": "code",
   "execution_count": 20,
   "metadata": {},
   "outputs": [],
   "source": [
    "X_train = data_train.drop(['date', 'rating', 'user_id', 'longitude', 'latitude'], axis=1)\n",
    "y_train = data_train['rating']\n",
    "q_train = data_train.groupby('user_id')['rating'].count().values\n",
    "\n",
    "X_val = data_val.drop(['date', 'rating', 'user_id', 'longitude', 'latitude'], axis=1)\n",
    "y_val = data_val['rating']\n",
    "q_val = data_val.groupby('user_id')['rating'].count().values"
   ]
  },
  {
   "cell_type": "markdown",
   "metadata": {},
   "source": [
    "# 2. Modeling"
   ]
  },
  {
   "cell_type": "markdown",
   "metadata": {},
   "source": [
    "## 2.1 Restaurant Ranker"
   ]
  },
  {
   "cell_type": "code",
   "execution_count": 21,
   "metadata": {},
   "outputs": [],
   "source": [
    "model = lgbm.LGBMRanker(n_estimators=300, n_jobs=-1, learning_rate=0.001, silent=True)"
   ]
  },
  {
   "cell_type": "code",
   "execution_count": 22,
   "metadata": {},
   "outputs": [
    {
     "name": "stdout",
     "output_type": "stream",
     "text": [
      "[1]\tvalid_0's auc: 1\tvalid_0's ndcg@1: 0.857773\n",
      "[2]\tvalid_0's auc: 1\tvalid_0's ndcg@1: 0.85941\n",
      "[3]\tvalid_0's auc: 1\tvalid_0's ndcg@1: 0.85874\n",
      "[4]\tvalid_0's auc: 1\tvalid_0's ndcg@1: 0.859282\n",
      "[5]\tvalid_0's auc: 1\tvalid_0's ndcg@1: 0.858796\n",
      "[6]\tvalid_0's auc: 1\tvalid_0's ndcg@1: 0.859111\n",
      "[7]\tvalid_0's auc: 1\tvalid_0's ndcg@1: 0.859137\n",
      "[8]\tvalid_0's auc: 1\tvalid_0's ndcg@1: 0.859726\n",
      "[9]\tvalid_0's auc: 1\tvalid_0's ndcg@1: 0.85961\n",
      "[10]\tvalid_0's auc: 1\tvalid_0's ndcg@1: 0.859378\n",
      "[11]\tvalid_0's auc: 1\tvalid_0's ndcg@1: 0.85933\n",
      "[12]\tvalid_0's auc: 1\tvalid_0's ndcg@1: 0.85944\n",
      "[13]\tvalid_0's auc: 1\tvalid_0's ndcg@1: 0.859454\n",
      "[14]\tvalid_0's auc: 1\tvalid_0's ndcg@1: 0.859446\n",
      "[15]\tvalid_0's auc: 1\tvalid_0's ndcg@1: 0.859539\n",
      "[16]\tvalid_0's auc: 1\tvalid_0's ndcg@1: 0.859778\n",
      "[17]\tvalid_0's auc: 1\tvalid_0's ndcg@1: 0.860031\n",
      "[18]\tvalid_0's auc: 1\tvalid_0's ndcg@1: 0.86013\n",
      "[19]\tvalid_0's auc: 1\tvalid_0's ndcg@1: 0.86013\n",
      "[20]\tvalid_0's auc: 1\tvalid_0's ndcg@1: 0.860028\n",
      "[21]\tvalid_0's auc: 1\tvalid_0's ndcg@1: 0.859959\n",
      "[22]\tvalid_0's auc: 1\tvalid_0's ndcg@1: 0.859441\n",
      "[23]\tvalid_0's auc: 1\tvalid_0's ndcg@1: 0.859285\n",
      "[24]\tvalid_0's auc: 1\tvalid_0's ndcg@1: 0.859117\n",
      "[25]\tvalid_0's auc: 1\tvalid_0's ndcg@1: 0.858829\n",
      "[26]\tvalid_0's auc: 1\tvalid_0's ndcg@1: 0.858914\n",
      "[27]\tvalid_0's auc: 1\tvalid_0's ndcg@1: 0.858927\n",
      "[28]\tvalid_0's auc: 1\tvalid_0's ndcg@1: 0.858927\n",
      "[29]\tvalid_0's auc: 1\tvalid_0's ndcg@1: 0.858927\n",
      "[30]\tvalid_0's auc: 1\tvalid_0's ndcg@1: 0.859478\n",
      "[31]\tvalid_0's auc: 1\tvalid_0's ndcg@1: 0.859546\n",
      "[32]\tvalid_0's auc: 1\tvalid_0's ndcg@1: 0.85946\n",
      "[33]\tvalid_0's auc: 1\tvalid_0's ndcg@1: 0.859471\n",
      "[34]\tvalid_0's auc: 1\tvalid_0's ndcg@1: 0.85959\n",
      "[35]\tvalid_0's auc: 1\tvalid_0's ndcg@1: 0.859722\n",
      "[36]\tvalid_0's auc: 1\tvalid_0's ndcg@1: 0.859722\n",
      "[37]\tvalid_0's auc: 1\tvalid_0's ndcg@1: 0.859722\n",
      "[38]\tvalid_0's auc: 1\tvalid_0's ndcg@1: 0.859891\n",
      "[39]\tvalid_0's auc: 1\tvalid_0's ndcg@1: 0.860122\n",
      "[40]\tvalid_0's auc: 1\tvalid_0's ndcg@1: 0.860073\n",
      "[41]\tvalid_0's auc: 1\tvalid_0's ndcg@1: 0.860088\n",
      "[42]\tvalid_0's auc: 1\tvalid_0's ndcg@1: 0.860034\n",
      "[43]\tvalid_0's auc: 1\tvalid_0's ndcg@1: 0.859949\n",
      "[44]\tvalid_0's auc: 1\tvalid_0's ndcg@1: 0.859949\n",
      "[45]\tvalid_0's auc: 1\tvalid_0's ndcg@1: 0.859949\n",
      "[46]\tvalid_0's auc: 1\tvalid_0's ndcg@1: 0.860093\n",
      "[47]\tvalid_0's auc: 1\tvalid_0's ndcg@1: 0.860093\n",
      "[48]\tvalid_0's auc: 1\tvalid_0's ndcg@1: 0.860025\n",
      "[49]\tvalid_0's auc: 1\tvalid_0's ndcg@1: 0.860114\n",
      "[50]\tvalid_0's auc: 1\tvalid_0's ndcg@1: 0.860114\n",
      "[51]\tvalid_0's auc: 1\tvalid_0's ndcg@1: 0.860321\n",
      "[52]\tvalid_0's auc: 1\tvalid_0's ndcg@1: 0.860304\n",
      "[53]\tvalid_0's auc: 1\tvalid_0's ndcg@1: 0.860386\n",
      "[54]\tvalid_0's auc: 1\tvalid_0's ndcg@1: 0.860386\n",
      "[55]\tvalid_0's auc: 1\tvalid_0's ndcg@1: 0.86051\n",
      "[56]\tvalid_0's auc: 1\tvalid_0's ndcg@1: 0.861654\n",
      "[57]\tvalid_0's auc: 1\tvalid_0's ndcg@1: 0.861656\n",
      "[58]\tvalid_0's auc: 1\tvalid_0's ndcg@1: 0.861339\n",
      "[59]\tvalid_0's auc: 1\tvalid_0's ndcg@1: 0.861304\n",
      "[60]\tvalid_0's auc: 1\tvalid_0's ndcg@1: 0.861205\n",
      "[61]\tvalid_0's auc: 1\tvalid_0's ndcg@1: 0.861205\n",
      "[62]\tvalid_0's auc: 1\tvalid_0's ndcg@1: 0.861073\n",
      "[63]\tvalid_0's auc: 1\tvalid_0's ndcg@1: 0.861007\n",
      "[64]\tvalid_0's auc: 1\tvalid_0's ndcg@1: 0.861007\n",
      "[65]\tvalid_0's auc: 1\tvalid_0's ndcg@1: 0.861007\n",
      "[66]\tvalid_0's auc: 1\tvalid_0's ndcg@1: 0.86113\n",
      "[67]\tvalid_0's auc: 1\tvalid_0's ndcg@1: 0.86113\n",
      "[68]\tvalid_0's auc: 1\tvalid_0's ndcg@1: 0.861233\n",
      "[69]\tvalid_0's auc: 1\tvalid_0's ndcg@1: 0.861233\n",
      "[70]\tvalid_0's auc: 1\tvalid_0's ndcg@1: 0.861301\n",
      "[71]\tvalid_0's auc: 1\tvalid_0's ndcg@1: 0.861136\n",
      "[72]\tvalid_0's auc: 1\tvalid_0's ndcg@1: 0.861136\n",
      "[73]\tvalid_0's auc: 1\tvalid_0's ndcg@1: 0.86107\n",
      "[74]\tvalid_0's auc: 1\tvalid_0's ndcg@1: 0.86107\n",
      "[75]\tvalid_0's auc: 1\tvalid_0's ndcg@1: 0.861169\n",
      "[76]\tvalid_0's auc: 1\tvalid_0's ndcg@1: 0.861103\n",
      "[77]\tvalid_0's auc: 1\tvalid_0's ndcg@1: 0.861037\n",
      "[78]\tvalid_0's auc: 1\tvalid_0's ndcg@1: 0.861037\n",
      "[79]\tvalid_0's auc: 1\tvalid_0's ndcg@1: 0.861037\n",
      "[80]\tvalid_0's auc: 1\tvalid_0's ndcg@1: 0.861037\n",
      "[81]\tvalid_0's auc: 1\tvalid_0's ndcg@1: 0.861037\n",
      "[82]\tvalid_0's auc: 1\tvalid_0's ndcg@1: 0.861037\n",
      "[83]\tvalid_0's auc: 1\tvalid_0's ndcg@1: 0.861136\n",
      "[84]\tvalid_0's auc: 1\tvalid_0's ndcg@1: 0.861207\n",
      "[85]\tvalid_0's auc: 1\tvalid_0's ndcg@1: 0.861207\n",
      "[86]\tvalid_0's auc: 1\tvalid_0's ndcg@1: 0.861207\n",
      "[87]\tvalid_0's auc: 1\tvalid_0's ndcg@1: 0.861207\n",
      "[88]\tvalid_0's auc: 1\tvalid_0's ndcg@1: 0.86124\n",
      "[89]\tvalid_0's auc: 1\tvalid_0's ndcg@1: 0.86148\n",
      "[90]\tvalid_0's auc: 1\tvalid_0's ndcg@1: 0.86148\n",
      "[91]\tvalid_0's auc: 1\tvalid_0's ndcg@1: 0.861746\n",
      "[92]\tvalid_0's auc: 1\tvalid_0's ndcg@1: 0.861412\n",
      "[93]\tvalid_0's auc: 1\tvalid_0's ndcg@1: 0.861313\n",
      "[94]\tvalid_0's auc: 1\tvalid_0's ndcg@1: 0.861429\n",
      "[95]\tvalid_0's auc: 1\tvalid_0's ndcg@1: 0.861495\n",
      "[96]\tvalid_0's auc: 1\tvalid_0's ndcg@1: 0.861495\n",
      "[97]\tvalid_0's auc: 1\tvalid_0's ndcg@1: 0.861548\n",
      "[98]\tvalid_0's auc: 1\tvalid_0's ndcg@1: 0.861429\n",
      "[99]\tvalid_0's auc: 1\tvalid_0's ndcg@1: 0.861703\n",
      "[100]\tvalid_0's auc: 1\tvalid_0's ndcg@1: 0.861484\n",
      "[101]\tvalid_0's auc: 1\tvalid_0's ndcg@1: 0.861616\n",
      "[102]\tvalid_0's auc: 1\tvalid_0's ndcg@1: 0.861864\n",
      "[103]\tvalid_0's auc: 1\tvalid_0's ndcg@1: 0.861824\n",
      "[104]\tvalid_0's auc: 1\tvalid_0's ndcg@1: 0.861874\n",
      "[105]\tvalid_0's auc: 1\tvalid_0's ndcg@1: 0.861808\n",
      "[106]\tvalid_0's auc: 1\tvalid_0's ndcg@1: 0.862456\n",
      "[107]\tvalid_0's auc: 1\tvalid_0's ndcg@1: 0.862707\n",
      "[108]\tvalid_0's auc: 1\tvalid_0's ndcg@1: 0.86274\n",
      "[109]\tvalid_0's auc: 1\tvalid_0's ndcg@1: 0.862938\n",
      "[110]\tvalid_0's auc: 1\tvalid_0's ndcg@1: 0.863079\n",
      "[111]\tvalid_0's auc: 1\tvalid_0's ndcg@1: 0.863296\n",
      "[112]\tvalid_0's auc: 1\tvalid_0's ndcg@1: 0.863395\n",
      "[113]\tvalid_0's auc: 1\tvalid_0's ndcg@1: 0.86323\n",
      "[114]\tvalid_0's auc: 1\tvalid_0's ndcg@1: 0.863211\n",
      "[115]\tvalid_0's auc: 1\tvalid_0's ndcg@1: 0.863236\n",
      "[116]\tvalid_0's auc: 1\tvalid_0's ndcg@1: 0.8635\n",
      "[117]\tvalid_0's auc: 1\tvalid_0's ndcg@1: 0.8635\n",
      "[118]\tvalid_0's auc: 1\tvalid_0's ndcg@1: 0.8635\n",
      "[119]\tvalid_0's auc: 1\tvalid_0's ndcg@1: 0.863566\n",
      "[120]\tvalid_0's auc: 1\tvalid_0's ndcg@1: 0.864007\n",
      "[121]\tvalid_0's auc: 1\tvalid_0's ndcg@1: 0.864207\n",
      "[122]\tvalid_0's auc: 1\tvalid_0's ndcg@1: 0.864207\n",
      "[123]\tvalid_0's auc: 1\tvalid_0's ndcg@1: 0.864207\n",
      "[124]\tvalid_0's auc: 1\tvalid_0's ndcg@1: 0.864108\n",
      "[125]\tvalid_0's auc: 1\tvalid_0's ndcg@1: 0.864207\n",
      "[126]\tvalid_0's auc: 1\tvalid_0's ndcg@1: 0.864207\n",
      "[127]\tvalid_0's auc: 1\tvalid_0's ndcg@1: 0.864108\n",
      "[128]\tvalid_0's auc: 1\tvalid_0's ndcg@1: 0.864008\n",
      "[129]\tvalid_0's auc: 1\tvalid_0's ndcg@1: 0.864174\n",
      "[130]\tvalid_0's auc: 1\tvalid_0's ndcg@1: 0.864165\n",
      "[131]\tvalid_0's auc: 1\tvalid_0's ndcg@1: 0.864165\n",
      "[132]\tvalid_0's auc: 1\tvalid_0's ndcg@1: 0.864199\n",
      "[133]\tvalid_0's auc: 1\tvalid_0's ndcg@1: 0.864199\n",
      "[134]\tvalid_0's auc: 1\tvalid_0's ndcg@1: 0.8641\n",
      "[135]\tvalid_0's auc: 1\tvalid_0's ndcg@1: 0.864133\n",
      "[136]\tvalid_0's auc: 1\tvalid_0's ndcg@1: 0.863968\n",
      "[137]\tvalid_0's auc: 1\tvalid_0's ndcg@1: 0.863999\n",
      "[138]\tvalid_0's auc: 1\tvalid_0's ndcg@1: 0.864065\n",
      "[139]\tvalid_0's auc: 1\tvalid_0's ndcg@1: 0.864185\n",
      "[140]\tvalid_0's auc: 1\tvalid_0's ndcg@1: 0.864284\n",
      "[141]\tvalid_0's auc: 1\tvalid_0's ndcg@1: 0.864284\n",
      "[142]\tvalid_0's auc: 1\tvalid_0's ndcg@1: 0.863999\n",
      "[143]\tvalid_0's auc: 1\tvalid_0's ndcg@1: 0.864098\n",
      "[144]\tvalid_0's auc: 1\tvalid_0's ndcg@1: 0.864222\n",
      "[145]\tvalid_0's auc: 1\tvalid_0's ndcg@1: 0.864098\n",
      "[146]\tvalid_0's auc: 1\tvalid_0's ndcg@1: 0.864222\n",
      "[147]\tvalid_0's auc: 1\tvalid_0's ndcg@1: 0.864222\n",
      "[148]\tvalid_0's auc: 1\tvalid_0's ndcg@1: 0.864024\n",
      "[149]\tvalid_0's auc: 1\tvalid_0's ndcg@1: 0.864123\n",
      "[150]\tvalid_0's auc: 1\tvalid_0's ndcg@1: 0.864123\n",
      "[151]\tvalid_0's auc: 1\tvalid_0's ndcg@1: 0.863678\n",
      "[152]\tvalid_0's auc: 1\tvalid_0's ndcg@1: 0.863584\n",
      "[153]\tvalid_0's auc: 1\tvalid_0's ndcg@1: 0.863974\n",
      "[154]\tvalid_0's auc: 1\tvalid_0's ndcg@1: 0.863933\n",
      "[155]\tvalid_0's auc: 1\tvalid_0's ndcg@1: 0.863718\n",
      "[156]\tvalid_0's auc: 1\tvalid_0's ndcg@1: 0.863842\n",
      "[157]\tvalid_0's auc: 1\tvalid_0's ndcg@1: 0.863811\n",
      "[158]\tvalid_0's auc: 1\tvalid_0's ndcg@1: 0.863712\n",
      "[159]\tvalid_0's auc: 1\tvalid_0's ndcg@1: 0.86378\n",
      "[160]\tvalid_0's auc: 1\tvalid_0's ndcg@1: 0.863863\n",
      "[161]\tvalid_0's auc: 1\tvalid_0's ndcg@1: 0.86383\n",
      "[162]\tvalid_0's auc: 1\tvalid_0's ndcg@1: 0.863929\n",
      "[163]\tvalid_0's auc: 1\tvalid_0's ndcg@1: 0.863929\n",
      "[164]\tvalid_0's auc: 1\tvalid_0's ndcg@1: 0.863879\n",
      "[165]\tvalid_0's auc: 1\tvalid_0's ndcg@1: 0.863813\n",
      "[166]\tvalid_0's auc: 1\tvalid_0's ndcg@1: 0.863885\n",
      "[167]\tvalid_0's auc: 1\tvalid_0's ndcg@1: 0.863786\n",
      "[168]\tvalid_0's auc: 1\tvalid_0's ndcg@1: 0.863695\n",
      "[169]\tvalid_0's auc: 1\tvalid_0's ndcg@1: 0.863576\n",
      "[170]\tvalid_0's auc: 1\tvalid_0's ndcg@1: 0.863632\n",
      "[171]\tvalid_0's auc: 1\tvalid_0's ndcg@1: 0.863632\n",
      "[172]\tvalid_0's auc: 1\tvalid_0's ndcg@1: 0.863629\n",
      "[173]\tvalid_0's auc: 1\tvalid_0's ndcg@1: 0.86353\n",
      "[174]\tvalid_0's auc: 1\tvalid_0's ndcg@1: 0.863629\n",
      "[175]\tvalid_0's auc: 1\tvalid_0's ndcg@1: 0.863629\n",
      "[176]\tvalid_0's auc: 1\tvalid_0's ndcg@1: 0.863544\n",
      "[177]\tvalid_0's auc: 1\tvalid_0's ndcg@1: 0.863544\n",
      "[178]\tvalid_0's auc: 1\tvalid_0's ndcg@1: 0.86357\n",
      "[179]\tvalid_0's auc: 1\tvalid_0's ndcg@1: 0.863788\n",
      "[180]\tvalid_0's auc: 1\tvalid_0's ndcg@1: 0.863712\n",
      "[181]\tvalid_0's auc: 1\tvalid_0's ndcg@1: 0.863765\n",
      "[182]\tvalid_0's auc: 1\tvalid_0's ndcg@1: 0.864015\n",
      "[183]\tvalid_0's auc: 1\tvalid_0's ndcg@1: 0.864015\n",
      "[184]\tvalid_0's auc: 1\tvalid_0's ndcg@1: 0.863625\n",
      "[185]\tvalid_0's auc: 1\tvalid_0's ndcg@1: 0.863625\n",
      "[186]\tvalid_0's auc: 1\tvalid_0's ndcg@1: 0.863509\n",
      "[187]\tvalid_0's auc: 1\tvalid_0's ndcg@1: 0.863509\n",
      "[188]\tvalid_0's auc: 1\tvalid_0's ndcg@1: 0.863509\n",
      "[189]\tvalid_0's auc: 1\tvalid_0's ndcg@1: 0.863509\n",
      "[190]\tvalid_0's auc: 1\tvalid_0's ndcg@1: 0.863424\n",
      "[191]\tvalid_0's auc: 1\tvalid_0's ndcg@1: 0.863424\n",
      "[192]\tvalid_0's auc: 1\tvalid_0's ndcg@1: 0.863424\n",
      "[193]\tvalid_0's auc: 1\tvalid_0's ndcg@1: 0.863424\n",
      "[194]\tvalid_0's auc: 1\tvalid_0's ndcg@1: 0.863424\n",
      "[195]\tvalid_0's auc: 1\tvalid_0's ndcg@1: 0.863474\n",
      "[196]\tvalid_0's auc: 1\tvalid_0's ndcg@1: 0.863542\n",
      "[197]\tvalid_0's auc: 1\tvalid_0's ndcg@1: 0.863542\n",
      "[198]\tvalid_0's auc: 1\tvalid_0's ndcg@1: 0.863542\n",
      "[199]\tvalid_0's auc: 1\tvalid_0's ndcg@1: 0.863542\n",
      "[200]\tvalid_0's auc: 1\tvalid_0's ndcg@1: 0.863476\n",
      "[201]\tvalid_0's auc: 1\tvalid_0's ndcg@1: 0.863476\n",
      "[202]\tvalid_0's auc: 1\tvalid_0's ndcg@1: 0.863476\n",
      "[203]\tvalid_0's auc: 1\tvalid_0's ndcg@1: 0.863476\n",
      "[204]\tvalid_0's auc: 1\tvalid_0's ndcg@1: 0.863476\n",
      "[205]\tvalid_0's auc: 1\tvalid_0's ndcg@1: 0.863579\n",
      "[206]\tvalid_0's auc: 1\tvalid_0's ndcg@1: 0.863946\n",
      "[207]\tvalid_0's auc: 1\tvalid_0's ndcg@1: 0.863946\n",
      "[208]\tvalid_0's auc: 1\tvalid_0's ndcg@1: 0.863946\n",
      "[209]\tvalid_0's auc: 1\tvalid_0's ndcg@1: 0.863996\n",
      "[210]\tvalid_0's auc: 1\tvalid_0's ndcg@1: 0.863996\n",
      "[211]\tvalid_0's auc: 1\tvalid_0's ndcg@1: 0.863996\n",
      "[212]\tvalid_0's auc: 1\tvalid_0's ndcg@1: 0.86393\n",
      "[213]\tvalid_0's auc: 1\tvalid_0's ndcg@1: 0.864045\n",
      "[214]\tvalid_0's auc: 1\tvalid_0's ndcg@1: 0.864111\n",
      "[215]\tvalid_0's auc: 1\tvalid_0's ndcg@1: 0.863992\n",
      "[216]\tvalid_0's auc: 1\tvalid_0's ndcg@1: 0.864214\n",
      "[217]\tvalid_0's auc: 1\tvalid_0's ndcg@1: 0.864214\n",
      "[218]\tvalid_0's auc: 1\tvalid_0's ndcg@1: 0.864214\n",
      "[219]\tvalid_0's auc: 1\tvalid_0's ndcg@1: 0.864141\n",
      "[220]\tvalid_0's auc: 1\tvalid_0's ndcg@1: 0.864308\n",
      "[221]\tvalid_0's auc: 1\tvalid_0's ndcg@1: 0.86424\n",
      "[222]\tvalid_0's auc: 1\tvalid_0's ndcg@1: 0.864355\n",
      "[223]\tvalid_0's auc: 1\tvalid_0's ndcg@1: 0.864355\n",
      "[224]\tvalid_0's auc: 1\tvalid_0's ndcg@1: 0.864423\n",
      "[225]\tvalid_0's auc: 1\tvalid_0's ndcg@1: 0.864522\n",
      "[226]\tvalid_0's auc: 1\tvalid_0's ndcg@1: 0.864206\n",
      "[227]\tvalid_0's auc: 1\tvalid_0's ndcg@1: 0.864206\n",
      "[228]\tvalid_0's auc: 1\tvalid_0's ndcg@1: 0.864206\n",
      "[229]\tvalid_0's auc: 1\tvalid_0's ndcg@1: 0.86418\n",
      "[230]\tvalid_0's auc: 1\tvalid_0's ndcg@1: 0.864214\n",
      "[231]\tvalid_0's auc: 1\tvalid_0's ndcg@1: 0.863982\n",
      "[232]\tvalid_0's auc: 1\tvalid_0's ndcg@1: 0.864016\n",
      "[233]\tvalid_0's auc: 1\tvalid_0's ndcg@1: 0.863982\n",
      "[234]\tvalid_0's auc: 1\tvalid_0's ndcg@1: 0.864016\n",
      "[235]\tvalid_0's auc: 1\tvalid_0's ndcg@1: 0.863982\n",
      "[236]\tvalid_0's auc: 1\tvalid_0's ndcg@1: 0.863982\n",
      "[237]\tvalid_0's auc: 1\tvalid_0's ndcg@1: 0.864016\n",
      "[238]\tvalid_0's auc: 1\tvalid_0's ndcg@1: 0.864039\n",
      "[239]\tvalid_0's auc: 1\tvalid_0's ndcg@1: 0.864073\n",
      "[240]\tvalid_0's auc: 1\tvalid_0's ndcg@1: 0.86399\n",
      "[241]\tvalid_0's auc: 1\tvalid_0's ndcg@1: 0.86399\n",
      "[242]\tvalid_0's auc: 1\tvalid_0's ndcg@1: 0.864092\n",
      "[243]\tvalid_0's auc: 1\tvalid_0's ndcg@1: 0.864158\n",
      "[244]\tvalid_0's auc: 1\tvalid_0's ndcg@1: 0.864058\n",
      "[245]\tvalid_0's auc: 1\tvalid_0's ndcg@1: 0.864158\n",
      "[246]\tvalid_0's auc: 1\tvalid_0's ndcg@1: 0.864124\n",
      "[247]\tvalid_0's auc: 1\tvalid_0's ndcg@1: 0.864124\n",
      "[248]\tvalid_0's auc: 1\tvalid_0's ndcg@1: 0.864124\n",
      "[249]\tvalid_0's auc: 1\tvalid_0's ndcg@1: 0.864124\n",
      "[250]\tvalid_0's auc: 1\tvalid_0's ndcg@1: 0.86438\n",
      "[251]\tvalid_0's auc: 1\tvalid_0's ndcg@1: 0.86438\n",
      "[252]\tvalid_0's auc: 1\tvalid_0's ndcg@1: 0.86438\n",
      "[253]\tvalid_0's auc: 1\tvalid_0's ndcg@1: 0.86438\n",
      "[254]\tvalid_0's auc: 1\tvalid_0's ndcg@1: 0.864447\n",
      "[255]\tvalid_0's auc: 1\tvalid_0's ndcg@1: 0.864289\n",
      "[256]\tvalid_0's auc: 1\tvalid_0's ndcg@1: 0.864323\n",
      "[257]\tvalid_0's auc: 1\tvalid_0's ndcg@1: 0.864388\n",
      "[258]\tvalid_0's auc: 1\tvalid_0's ndcg@1: 0.864422\n",
      "[259]\tvalid_0's auc: 1\tvalid_0's ndcg@1: 0.864388\n",
      "[260]\tvalid_0's auc: 1\tvalid_0's ndcg@1: 0.864421\n",
      "[261]\tvalid_0's auc: 1\tvalid_0's ndcg@1: 0.864421\n",
      "[262]\tvalid_0's auc: 1\tvalid_0's ndcg@1: 0.86452\n",
      "[263]\tvalid_0's auc: 1\tvalid_0's ndcg@1: 0.86462\n",
      "[264]\tvalid_0's auc: 1\tvalid_0's ndcg@1: 0.864586\n",
      "[265]\tvalid_0's auc: 1\tvalid_0's ndcg@1: 0.86462\n",
      "[266]\tvalid_0's auc: 1\tvalid_0's ndcg@1: 0.864586\n",
      "[267]\tvalid_0's auc: 1\tvalid_0's ndcg@1: 0.864555\n",
      "[268]\tvalid_0's auc: 1\tvalid_0's ndcg@1: 0.864555\n",
      "[269]\tvalid_0's auc: 1\tvalid_0's ndcg@1: 0.864367\n",
      "[270]\tvalid_0's auc: 1\tvalid_0's ndcg@1: 0.864398\n",
      "[271]\tvalid_0's auc: 1\tvalid_0's ndcg@1: 0.864596\n",
      "[272]\tvalid_0's auc: 1\tvalid_0's ndcg@1: 0.864937\n",
      "[273]\tvalid_0's auc: 1\tvalid_0's ndcg@1: 0.864804\n",
      "[274]\tvalid_0's auc: 1\tvalid_0's ndcg@1: 0.864804\n",
      "[275]\tvalid_0's auc: 1\tvalid_0's ndcg@1: 0.864804\n",
      "[276]\tvalid_0's auc: 1\tvalid_0's ndcg@1: 0.864688\n",
      "[277]\tvalid_0's auc: 1\tvalid_0's ndcg@1: 0.864691\n",
      "[278]\tvalid_0's auc: 1\tvalid_0's ndcg@1: 0.864722\n",
      "[279]\tvalid_0's auc: 1\tvalid_0's ndcg@1: 0.864773\n",
      "[280]\tvalid_0's auc: 1\tvalid_0's ndcg@1: 0.864773\n",
      "[281]\tvalid_0's auc: 1\tvalid_0's ndcg@1: 0.864773\n",
      "[282]\tvalid_0's auc: 1\tvalid_0's ndcg@1: 0.864773\n",
      "[283]\tvalid_0's auc: 1\tvalid_0's ndcg@1: 0.864807\n",
      "[284]\tvalid_0's auc: 1\tvalid_0's ndcg@1: 0.864807\n",
      "[285]\tvalid_0's auc: 1\tvalid_0's ndcg@1: 0.864588\n",
      "[286]\tvalid_0's auc: 1\tvalid_0's ndcg@1: 0.864588\n",
      "[287]\tvalid_0's auc: 1\tvalid_0's ndcg@1: 0.864522\n",
      "[288]\tvalid_0's auc: 1\tvalid_0's ndcg@1: 0.864604\n",
      "[289]\tvalid_0's auc: 1\tvalid_0's ndcg@1: 0.86444\n",
      "[290]\tvalid_0's auc: 1\tvalid_0's ndcg@1: 0.864406\n",
      "[291]\tvalid_0's auc: 1\tvalid_0's ndcg@1: 0.864406\n",
      "[292]\tvalid_0's auc: 1\tvalid_0's ndcg@1: 0.864406\n",
      "[293]\tvalid_0's auc: 1\tvalid_0's ndcg@1: 0.864438\n",
      "[294]\tvalid_0's auc: 1\tvalid_0's ndcg@1: 0.864264\n",
      "[295]\tvalid_0's auc: 1\tvalid_0's ndcg@1: 0.864231\n",
      "[296]\tvalid_0's auc: 1\tvalid_0's ndcg@1: 0.864165\n",
      "[297]\tvalid_0's auc: 1\tvalid_0's ndcg@1: 0.864165\n",
      "[298]\tvalid_0's auc: 1\tvalid_0's ndcg@1: 0.864199\n",
      "[299]\tvalid_0's auc: 1\tvalid_0's ndcg@1: 0.864198\n",
      "[300]\tvalid_0's auc: 1\tvalid_0's ndcg@1: 0.864198\n"
     ]
    },
    {
     "data": {
      "text/plain": [
       "LGBMRanker(boosting_type='gbdt', class_weight=None, colsample_bytree=1.0,\n",
       "           importance_type='split', learning_rate=0.001, max_depth=-1,\n",
       "           min_child_samples=20, min_child_weight=0.001, min_split_gain=0.0,\n",
       "           n_estimators=300, n_jobs=-1, num_leaves=31, objective=None,\n",
       "           random_state=None, reg_alpha=0.0, reg_lambda=0.0, silent=True,\n",
       "           subsample=1.0, subsample_for_bin=200000, subsample_freq=0)"
      ]
     },
     "execution_count": 22,
     "metadata": {},
     "output_type": "execute_result"
    }
   ],
   "source": [
    "model.fit(X_train, y_train, group=q_train, eval_set=[(X_val, y_val)], eval_group=[q_val], eval_metric='auc')"
   ]
  },
  {
   "cell_type": "code",
   "execution_count": 23,
   "metadata": {},
   "outputs": [
    {
     "data": {
      "text/plain": [
       "<matplotlib.axes._subplots.AxesSubplot at 0x1269228d0>"
      ]
     },
     "execution_count": 23,
     "metadata": {},
     "output_type": "execute_result"
    }
   ],
   "source": [
    "# Feature Importance\n",
    "lgbm.plot_importance(model, figsize=(10,10), max_num_features=30)"
   ]
  },
  {
   "cell_type": "markdown",
   "metadata": {},
   "source": [
    "## 2.2 Rating Predictions"
   ]
  },
  {
   "cell_type": "code",
   "execution_count": 24,
   "metadata": {},
   "outputs": [],
   "source": [
    "model = lgbm.LGBMClassifier(n_estimators=300, n_jobs=-1, learning_rate=0.1, silent=True)"
   ]
  },
  {
   "cell_type": "code",
   "execution_count": 25,
   "metadata": {},
   "outputs": [
    {
     "data": {
      "text/plain": [
       "LGBMClassifier(boosting_type='gbdt', class_weight=None, colsample_bytree=1.0,\n",
       "               importance_type='split', learning_rate=0.1, max_depth=-1,\n",
       "               min_child_samples=20, min_child_weight=0.001, min_split_gain=0.0,\n",
       "               n_estimators=300, n_jobs=-1, num_leaves=31, objective=None,\n",
       "               random_state=None, reg_alpha=0.0, reg_lambda=0.0, silent=True,\n",
       "               subsample=1.0, subsample_for_bin=200000, subsample_freq=0)"
      ]
     },
     "execution_count": 25,
     "metadata": {},
     "output_type": "execute_result"
    }
   ],
   "source": [
    "model.fit(X_train, y_train)"
   ]
  },
  {
   "cell_type": "code",
   "execution_count": 26,
   "metadata": {},
   "outputs": [
    {
     "name": "stdout",
     "output_type": "stream",
     "text": [
      "Training Accuracy: 0.47024889102550094\n",
      "Validation Accuracy: 0.4359321737610349\n"
     ]
    }
   ],
   "source": [
    "print('Training Accuracy:', model.score(X_train, y_train))\n",
    "print('Validation Accuracy:', model.score(X_val, y_val))"
   ]
  },
  {
   "cell_type": "code",
   "execution_count": 27,
   "metadata": {},
   "outputs": [
    {
     "data": {
      "text/plain": [
       "<matplotlib.axes._subplots.AxesSubplot at 0x128c492d0>"
      ]
     },
     "execution_count": 27,
     "metadata": {},
     "output_type": "execute_result"
    },
    {
     "data": {
      "image/png": "[encoded data removed]",
      "text/plain": [
       "<Figure size 720x720 with 1 Axes>"
      ]
     },
     "metadata": {
      "needs_background": "light"
     },
     "output_type": "display_data"
    }
   ],
   "source": [
    "# Feature Importance\n",
    "lgbm.plot_importance(model, figsize=(10,10), max_num_features=30)"
   ]
  },
  {
   "cell_type": "code",
   "execution_count": null,
   "metadata": {},
   "outputs": [],
   "source": []
  },
  {
   "cell_type": "code",
   "execution_count": null,
   "metadata": {},
   "outputs": [],
   "source": []
  }
 ],
 "metadata": {
  "kernelspec": {
   "display_name": "Python 3",
   "language": "python",
   "name": "python3"
  },
  "language_info": {
   "codemirror_mode": {
    "name": "ipython",
    "version": 3
   },
   "file_extension": ".py",
   "mimetype": "text/x-python",
   "name": "python",
   "nbconvert_exporter": "python",
   "pygments_lexer": "ipython3",
   "version": "3.7.4"
  }
 },
 "nbformat": 4,
 "nbformat_minor": 4
}
