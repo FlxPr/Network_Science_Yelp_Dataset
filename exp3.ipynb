{
 "cells": [
  {
   "cell_type": "code",
   "execution_count": 1,
   "metadata": {},
   "outputs": [],
   "source": [
    "import igraph as ig\n",
    "import networkx as nx\n",
    "import pandas as pd\n",
    "import numpy as np\n",
    "import re\n",
    "import swifter\n",
    "\n",
    "from sklearn import preprocessing\n",
    "from sklearn.model_selection import cross_validate\n",
    "import lightgbm as lgbm\n",
    "\n",
    "from settings import file_names"
   ]
  },
  {
   "cell_type": "code",
   "execution_count": 2,
   "metadata": {},
   "outputs": [],
   "source": [
    "df = pd.read_csv(file_names['toronto_reviews_without_text'], index_col=[0])\n",
    "df_users = pd.read_csv(file_names['toronto_users'])\n",
    "df_biz = pd.read_csv(file_names['toronto_businesses'], index_col=[0])"
   ]
  },
  {
   "cell_type": "code",
   "execution_count": 3,
   "metadata": {},
   "outputs": [],
   "source": [
    "# Helper Functions\n",
    "# A helper funtion to assign communities\n",
    "def assign_communities(community, df, name):\n",
    "    # Create a new df\n",
    "    df = df.copy()\n",
    "    \n",
    "    # Create a new column for communities\n",
    "    df[name] = 0\n",
    "    \n",
    "    for i, com in enumerate(community):\n",
    "        \n",
    "        # Get node indices\n",
    "        com = G.vs[com]['name']\n",
    "        \n",
    "        # Convert strings to integers\n",
    "        com = [int(x) for x in com]\n",
    "        \n",
    "        mask = df['user_id'].isin(com)\n",
    "        df.loc[mask, name] = i \n",
    "        \n",
    "    return df"
   ]
  },
  {
   "cell_type": "markdown",
   "metadata": {},
   "source": [
    "# 1. Feature Engineering"
   ]
  },
  {
   "cell_type": "markdown",
   "metadata": {},
   "source": [
    "## 1.1 Encode IDs"
   ]
  },
  {
   "cell_type": "code",
   "execution_count": 4,
   "metadata": {},
   "outputs": [],
   "source": [
    "le = {}\n",
    "le['user'] = preprocessing.LabelEncoder()\n",
    "le['business'] = preprocessing.LabelEncoder()\n",
    "\n",
    "# Encode the review table\n",
    "df['user_id'] = le['user'].fit_transform(df['user_id'])\n",
    "df['business_id'] = le['business'].fit_transform(df['business_id'])\n",
    "\n",
    "# Encode the business table\n",
    "df_biz['business_id'] = le['business'].transform(df_biz['business_id'])\n",
    "\n",
    "# Encode, filter and transform the user table - only friendships between two toronto residents remain\n",
    "df_users['friends'] = df_users['friends'].str.split()\n",
    "df_users = df_users.explode('friends')\n",
    "df_users = df_users[df_users['user_id'].isin(le['user'].classes_)]\n",
    "df_users = df_users[df_users['friends'].isin(le['user'].classes_)]\n",
    "df_users['user_id'] = le['user'].transform(df_users['user_id'])\n",
    "df_users['friends'] = le['user'].transform(df_users['friends'])"
   ]
  },
  {
   "cell_type": "markdown",
   "metadata": {},
   "source": [
    "## 1.2 Business"
   ]
  },
  {
   "cell_type": "code",
   "execution_count": 5,
   "metadata": {},
   "outputs": [],
   "source": [
    "# Select relevant columns\n",
    "cols = ['business_id', 'latitude', 'longitude', 'stars', 'review_count', 'attributes',\n",
    "       'categories']\n",
    "df_biz = df_biz[cols]"
   ]
  },
  {
   "cell_type": "code",
   "execution_count": 6,
   "metadata": {},
   "outputs": [],
   "source": [
    "# Clean the attributes column - Undone\n",
    "df_biz['attributes'] = df_biz['attributes'].map(eval, na_action='ignore')\n",
    "df_biz = df_biz.drop('attributes', axis=1)"
   ]
  },
  {
   "cell_type": "code",
   "execution_count": 7,
   "metadata": {},
   "outputs": [],
   "source": [
    "# Clean the categories column\n",
    "df_biz['categories'] = df_biz['categories'].str.split(', ')\n",
    "\n",
    "# Keep only categories that have at least 100 samples\n",
    "temp = df_biz.pop('categories').explode()\n",
    "temp = pd.crosstab(temp.index, temp)\n",
    "mask = temp.sum(axis=0)\n",
    "mask = (mask[mask>=100]).index\n",
    "df_biz = pd.concat([df_biz, temp[mask]], axis=1)"
   ]
  },
  {
   "cell_type": "markdown",
   "metadata": {},
   "source": [
    "## 1.3 Users"
   ]
  },
  {
   "cell_type": "code",
   "execution_count": 8,
   "metadata": {},
   "outputs": [],
   "source": [
    "# Constrcut a user graph\n",
    "G = ig.Graph.TupleList(df_users.values)"
   ]
  },
  {
   "cell_type": "code",
   "execution_count": 9,
   "metadata": {},
   "outputs": [],
   "source": [
    "# Community Detection - infomap\n",
    "c_infomap = G.community_infomap()\n",
    "df_users = pd.DataFrame({'user_id':G.vs['name']})\n",
    "df_users = assign_communities(c_infomap, df_users, 'infomap')"
   ]
  },
  {
   "cell_type": "markdown",
   "metadata": {},
   "source": [
    "## 1.4 Reviews"
   ]
  },
  {
   "cell_type": "code",
   "execution_count": 10,
   "metadata": {},
   "outputs": [],
   "source": [
    "# Read the saved review graph\n",
    "G = ig.read('graph.graphml',format=\"graphml\")"
   ]
  },
  {
   "cell_type": "code",
   "execution_count": 11,
   "metadata": {},
   "outputs": [],
   "source": [
    "# Some graph attributes\n",
    "att = {'weighted_centrality':G.strength(weights='weight'),\n",
    "       'eigenvector_centrality':G.eigenvector_centrality(weights='weight'),\n",
    "       'pagerank': G.pagerank(weights='weight')}\n",
    "\n",
    "att = pd.DataFrame(att)\n",
    "att['index'] = G.vs['id']\n",
    "att['index'] = pd.to_numeric(att['index'])\n",
    "df = df.merge(att, left_on='business_id', right_on='index', how='left')\n",
    "df = df.merge(att, left_on='user_id', right_on='index', how='left')\n",
    "\n",
    "df = df.drop(['index_y', 'index_x'], axis=1)"
   ]
  },
  {
   "cell_type": "markdown",
   "metadata": {},
   "source": [
    "## 1.5 Join everything together"
   ]
  },
  {
   "cell_type": "code",
   "execution_count": 12,
   "metadata": {},
   "outputs": [],
   "source": [
    "data = df.merge(df_biz, on='business_id', how='left')\n",
    "data = data.merge(df_users, on='user_id', how='left')"
   ]
  },
  {
   "cell_type": "code",
   "execution_count": 13,
   "metadata": {},
   "outputs": [],
   "source": [
    "# Shuffle the dataframe\n",
    "data = data.sample(frac=1)"
   ]
  },
  {
   "cell_type": "code",
   "execution_count": 14,
   "metadata": {},
   "outputs": [],
   "source": [
    "# Separate the training and validation set\n",
    "data_train = data.iloc[:400000]\n",
    "data_val = data.iloc[400000:]\n",
    "\n",
    "data_train = data_train.sort_values('user_id')\n",
    "data_val = data_val.sort_values('user_id')"
   ]
  },
  {
   "cell_type": "markdown",
   "metadata": {},
   "source": [
    "## 1.6 Create X and y"
   ]
  },
  {
   "cell_type": "code",
   "execution_count": 26,
   "metadata": {},
   "outputs": [],
   "source": [
    "X_train = data_train.drop(['date', 'rating', 'user_id', 'longitude', 'latitude'], axis=1)\n",
    "y_train = data_train['rating']\n",
    "q_train = data_train.groupby('user_id')['rating'].count().values\n",
    "\n",
    "X_val = data_val.drop(['date', 'rating', 'user_id', 'longitude', 'latitude'], axis=1)\n",
    "y_val = data_val['rating']\n",
    "q_val = data_val.groupby('user_id')['rating'].count().values"
   ]
  },
  {
   "cell_type": "markdown",
   "metadata": {},
   "source": [
    "# 2. Modeling"
   ]
  },
  {
   "cell_type": "markdown",
   "metadata": {},
   "source": [
    "## 2.1 Restaurant Ranker"
   ]
  },
  {
   "cell_type": "code",
   "execution_count": 31,
   "metadata": {},
   "outputs": [],
   "source": [
    "model = lgbm.LGBMRanker(n_estimators=500, n_jobs=-1, learning_rate=0.1, silent=True)"
   ]
  },
  {
   "cell_type": "code",
   "execution_count": 32,
   "metadata": {},
   "outputs": [
    {
     "name": "stdout",
     "output_type": "stream",
     "text": [
      "[1]\tvalid_0's auc: 1\tvalid_0's ndcg@1: 0.934917\n",
      "[2]\tvalid_0's auc: 1\tvalid_0's ndcg@1: 0.935195\n",
      "[3]\tvalid_0's auc: 1\tvalid_0's ndcg@1: 0.935503\n",
      "[4]\tvalid_0's auc: 1\tvalid_0's ndcg@1: 0.935647\n",
      "[5]\tvalid_0's auc: 1\tvalid_0's ndcg@1: 0.935955\n",
      "[6]\tvalid_0's auc: 1\tvalid_0's ndcg@1: 0.935926\n",
      "[7]\tvalid_0's auc: 1\tvalid_0's ndcg@1: 0.935869\n",
      "[8]\tvalid_0's auc: 1\tvalid_0's ndcg@1: 0.935878\n",
      "[9]\tvalid_0's auc: 1\tvalid_0's ndcg@1: 0.936082\n",
      "[10]\tvalid_0's auc: 1\tvalid_0's ndcg@1: 0.936219\n",
      "[11]\tvalid_0's auc: 1\tvalid_0's ndcg@1: 0.936389\n",
      "[12]\tvalid_0's auc: 1\tvalid_0's ndcg@1: 0.936165\n",
      "[13]\tvalid_0's auc: 1\tvalid_0's ndcg@1: 0.936357\n",
      "[14]\tvalid_0's auc: 1\tvalid_0's ndcg@1: 0.936439\n",
      "[15]\tvalid_0's auc: 1\tvalid_0's ndcg@1: 0.936433\n",
      "[16]\tvalid_0's auc: 1\tvalid_0's ndcg@1: 0.936466\n",
      "[17]\tvalid_0's auc: 1\tvalid_0's ndcg@1: 0.936566\n",
      "[18]\tvalid_0's auc: 1\tvalid_0's ndcg@1: 0.936651\n",
      "[19]\tvalid_0's auc: 1\tvalid_0's ndcg@1: 0.936627\n",
      "[20]\tvalid_0's auc: 1\tvalid_0's ndcg@1: 0.93676\n",
      "[21]\tvalid_0's auc: 1\tvalid_0's ndcg@1: 0.936847\n",
      "[22]\tvalid_0's auc: 1\tvalid_0's ndcg@1: 0.936876\n",
      "[23]\tvalid_0's auc: 1\tvalid_0's ndcg@1: 0.936846\n",
      "[24]\tvalid_0's auc: 1\tvalid_0's ndcg@1: 0.936725\n",
      "[25]\tvalid_0's auc: 1\tvalid_0's ndcg@1: 0.936645\n",
      "[26]\tvalid_0's auc: 1\tvalid_0's ndcg@1: 0.936659\n",
      "[27]\tvalid_0's auc: 1\tvalid_0's ndcg@1: 0.936777\n",
      "[28]\tvalid_0's auc: 1\tvalid_0's ndcg@1: 0.936851\n",
      "[29]\tvalid_0's auc: 1\tvalid_0's ndcg@1: 0.936819\n",
      "[30]\tvalid_0's auc: 1\tvalid_0's ndcg@1: 0.936812\n",
      "[31]\tvalid_0's auc: 1\tvalid_0's ndcg@1: 0.936787\n",
      "[32]\tvalid_0's auc: 1\tvalid_0's ndcg@1: 0.93679\n",
      "[33]\tvalid_0's auc: 1\tvalid_0's ndcg@1: 0.93683\n",
      "[34]\tvalid_0's auc: 1\tvalid_0's ndcg@1: 0.936859\n",
      "[35]\tvalid_0's auc: 1\tvalid_0's ndcg@1: 0.936918\n",
      "[36]\tvalid_0's auc: 1\tvalid_0's ndcg@1: 0.936815\n",
      "[37]\tvalid_0's auc: 1\tvalid_0's ndcg@1: 0.936927\n",
      "[38]\tvalid_0's auc: 1\tvalid_0's ndcg@1: 0.93692\n",
      "[39]\tvalid_0's auc: 1\tvalid_0's ndcg@1: 0.936922\n",
      "[40]\tvalid_0's auc: 1\tvalid_0's ndcg@1: 0.936865\n",
      "[41]\tvalid_0's auc: 1\tvalid_0's ndcg@1: 0.936684\n",
      "[42]\tvalid_0's auc: 1\tvalid_0's ndcg@1: 0.936696\n",
      "[43]\tvalid_0's auc: 1\tvalid_0's ndcg@1: 0.93677\n",
      "[44]\tvalid_0's auc: 1\tvalid_0's ndcg@1: 0.936748\n",
      "[45]\tvalid_0's auc: 1\tvalid_0's ndcg@1: 0.936723\n",
      "[46]\tvalid_0's auc: 1\tvalid_0's ndcg@1: 0.93665\n",
      "[47]\tvalid_0's auc: 1\tvalid_0's ndcg@1: 0.936645\n",
      "[48]\tvalid_0's auc: 1\tvalid_0's ndcg@1: 0.936613\n",
      "[49]\tvalid_0's auc: 1\tvalid_0's ndcg@1: 0.936633\n",
      "[50]\tvalid_0's auc: 1\tvalid_0's ndcg@1: 0.93651\n",
      "[51]\tvalid_0's auc: 1\tvalid_0's ndcg@1: 0.936472\n",
      "[52]\tvalid_0's auc: 1\tvalid_0's ndcg@1: 0.936317\n",
      "[53]\tvalid_0's auc: 1\tvalid_0's ndcg@1: 0.936389\n",
      "[54]\tvalid_0's auc: 1\tvalid_0's ndcg@1: 0.936345\n",
      "[55]\tvalid_0's auc: 1\tvalid_0's ndcg@1: 0.936554\n",
      "[56]\tvalid_0's auc: 1\tvalid_0's ndcg@1: 0.936499\n",
      "[57]\tvalid_0's auc: 1\tvalid_0's ndcg@1: 0.936488\n",
      "[58]\tvalid_0's auc: 1\tvalid_0's ndcg@1: 0.936527\n",
      "[59]\tvalid_0's auc: 1\tvalid_0's ndcg@1: 0.936585\n",
      "[60]\tvalid_0's auc: 1\tvalid_0's ndcg@1: 0.936552\n",
      "[61]\tvalid_0's auc: 1\tvalid_0's ndcg@1: 0.936493\n",
      "[62]\tvalid_0's auc: 1\tvalid_0's ndcg@1: 0.936463\n",
      "[63]\tvalid_0's auc: 1\tvalid_0's ndcg@1: 0.936461\n",
      "[64]\tvalid_0's auc: 1\tvalid_0's ndcg@1: 0.936468\n",
      "[65]\tvalid_0's auc: 1\tvalid_0's ndcg@1: 0.936539\n",
      "[66]\tvalid_0's auc: 1\tvalid_0's ndcg@1: 0.936556\n",
      "[67]\tvalid_0's auc: 1\tvalid_0's ndcg@1: 0.936573\n",
      "[68]\tvalid_0's auc: 1\tvalid_0's ndcg@1: 0.936609\n",
      "[69]\tvalid_0's auc: 1\tvalid_0's ndcg@1: 0.936609\n",
      "[70]\tvalid_0's auc: 1\tvalid_0's ndcg@1: 0.936506\n",
      "[71]\tvalid_0's auc: 1\tvalid_0's ndcg@1: 0.936454\n",
      "[72]\tvalid_0's auc: 1\tvalid_0's ndcg@1: 0.936484\n",
      "[73]\tvalid_0's auc: 1\tvalid_0's ndcg@1: 0.936586\n",
      "[74]\tvalid_0's auc: 1\tvalid_0's ndcg@1: 0.936528\n",
      "[75]\tvalid_0's auc: 1\tvalid_0's ndcg@1: 0.936545\n",
      "[76]\tvalid_0's auc: 1\tvalid_0's ndcg@1: 0.936542\n",
      "[77]\tvalid_0's auc: 1\tvalid_0's ndcg@1: 0.936681\n",
      "[78]\tvalid_0's auc: 1\tvalid_0's ndcg@1: 0.936709\n",
      "[79]\tvalid_0's auc: 1\tvalid_0's ndcg@1: 0.936629\n",
      "[80]\tvalid_0's auc: 1\tvalid_0's ndcg@1: 0.936634\n",
      "[81]\tvalid_0's auc: 1\tvalid_0's ndcg@1: 0.936605\n",
      "[82]\tvalid_0's auc: 1\tvalid_0's ndcg@1: 0.936727\n",
      "[83]\tvalid_0's auc: 1\tvalid_0's ndcg@1: 0.936724\n",
      "[84]\tvalid_0's auc: 1\tvalid_0's ndcg@1: 0.936766\n",
      "[85]\tvalid_0's auc: 1\tvalid_0's ndcg@1: 0.936791\n",
      "[86]\tvalid_0's auc: 1\tvalid_0's ndcg@1: 0.936801\n",
      "[87]\tvalid_0's auc: 1\tvalid_0's ndcg@1: 0.936828\n",
      "[88]\tvalid_0's auc: 1\tvalid_0's ndcg@1: 0.936827\n",
      "[89]\tvalid_0's auc: 1\tvalid_0's ndcg@1: 0.936835\n",
      "[90]\tvalid_0's auc: 1\tvalid_0's ndcg@1: 0.936854\n",
      "[91]\tvalid_0's auc: 1\tvalid_0's ndcg@1: 0.936903\n",
      "[92]\tvalid_0's auc: 1\tvalid_0's ndcg@1: 0.93694\n",
      "[93]\tvalid_0's auc: 1\tvalid_0's ndcg@1: 0.936964\n",
      "[94]\tvalid_0's auc: 1\tvalid_0's ndcg@1: 0.936906\n",
      "[95]\tvalid_0's auc: 1\tvalid_0's ndcg@1: 0.936931\n",
      "[96]\tvalid_0's auc: 1\tvalid_0's ndcg@1: 0.936943\n",
      "[97]\tvalid_0's auc: 1\tvalid_0's ndcg@1: 0.936964\n",
      "[98]\tvalid_0's auc: 1\tvalid_0's ndcg@1: 0.93706\n",
      "[99]\tvalid_0's auc: 1\tvalid_0's ndcg@1: 0.937059\n",
      "[100]\tvalid_0's auc: 1\tvalid_0's ndcg@1: 0.937133\n",
      "[101]\tvalid_0's auc: 1\tvalid_0's ndcg@1: 0.937089\n",
      "[102]\tvalid_0's auc: 1\tvalid_0's ndcg@1: 0.93705\n",
      "[103]\tvalid_0's auc: 1\tvalid_0's ndcg@1: 0.937003\n",
      "[104]\tvalid_0's auc: 1\tvalid_0's ndcg@1: 0.937003\n",
      "[105]\tvalid_0's auc: 1\tvalid_0's ndcg@1: 0.93681\n",
      "[106]\tvalid_0's auc: 1\tvalid_0's ndcg@1: 0.936876\n",
      "[107]\tvalid_0's auc: 1\tvalid_0's ndcg@1: 0.93685\n",
      "[108]\tvalid_0's auc: 1\tvalid_0's ndcg@1: 0.936837\n",
      "[109]\tvalid_0's auc: 1\tvalid_0's ndcg@1: 0.936683\n",
      "[110]\tvalid_0's auc: 1\tvalid_0's ndcg@1: 0.936693\n",
      "[111]\tvalid_0's auc: 1\tvalid_0's ndcg@1: 0.936687\n",
      "[112]\tvalid_0's auc: 1\tvalid_0's ndcg@1: 0.936627\n",
      "[113]\tvalid_0's auc: 1\tvalid_0's ndcg@1: 0.936555\n",
      "[114]\tvalid_0's auc: 1\tvalid_0's ndcg@1: 0.9365\n",
      "[115]\tvalid_0's auc: 1\tvalid_0's ndcg@1: 0.936372\n",
      "[116]\tvalid_0's auc: 1\tvalid_0's ndcg@1: 0.936332\n",
      "[117]\tvalid_0's auc: 1\tvalid_0's ndcg@1: 0.936363\n",
      "[118]\tvalid_0's auc: 1\tvalid_0's ndcg@1: 0.936417\n",
      "[119]\tvalid_0's auc: 1\tvalid_0's ndcg@1: 0.936452\n",
      "[120]\tvalid_0's auc: 1\tvalid_0's ndcg@1: 0.936476\n",
      "[121]\tvalid_0's auc: 1\tvalid_0's ndcg@1: 0.936518\n",
      "[122]\tvalid_0's auc: 1\tvalid_0's ndcg@1: 0.936534\n",
      "[123]\tvalid_0's auc: 1\tvalid_0's ndcg@1: 0.936482\n",
      "[124]\tvalid_0's auc: 1\tvalid_0's ndcg@1: 0.93662\n",
      "[125]\tvalid_0's auc: 1\tvalid_0's ndcg@1: 0.936634\n",
      "[126]\tvalid_0's auc: 1\tvalid_0's ndcg@1: 0.936711\n",
      "[127]\tvalid_0's auc: 1\tvalid_0's ndcg@1: 0.936819\n",
      "[128]\tvalid_0's auc: 1\tvalid_0's ndcg@1: 0.936975\n",
      "[129]\tvalid_0's auc: 1\tvalid_0's ndcg@1: 0.936986\n",
      "[130]\tvalid_0's auc: 1\tvalid_0's ndcg@1: 0.936955\n",
      "[131]\tvalid_0's auc: 1\tvalid_0's ndcg@1: 0.936976\n",
      "[132]\tvalid_0's auc: 1\tvalid_0's ndcg@1: 0.936979\n",
      "[133]\tvalid_0's auc: 1\tvalid_0's ndcg@1: 0.936973\n",
      "[134]\tvalid_0's auc: 1\tvalid_0's ndcg@1: 0.936928\n",
      "[135]\tvalid_0's auc: 1\tvalid_0's ndcg@1: 0.936888\n",
      "[136]\tvalid_0's auc: 1\tvalid_0's ndcg@1: 0.936982\n",
      "[137]\tvalid_0's auc: 1\tvalid_0's ndcg@1: 0.93698\n",
      "[138]\tvalid_0's auc: 1\tvalid_0's ndcg@1: 0.936979\n",
      "[139]\tvalid_0's auc: 1\tvalid_0's ndcg@1: 0.936875\n",
      "[140]\tvalid_0's auc: 1\tvalid_0's ndcg@1: 0.936918\n",
      "[141]\tvalid_0's auc: 1\tvalid_0's ndcg@1: 0.936932\n",
      "[142]\tvalid_0's auc: 1\tvalid_0's ndcg@1: 0.936913\n",
      "[143]\tvalid_0's auc: 1\tvalid_0's ndcg@1: 0.936888\n",
      "[144]\tvalid_0's auc: 1\tvalid_0's ndcg@1: 0.936951\n",
      "[145]\tvalid_0's auc: 1\tvalid_0's ndcg@1: 0.937074\n",
      "[146]\tvalid_0's auc: 1\tvalid_0's ndcg@1: 0.937183\n",
      "[147]\tvalid_0's auc: 1\tvalid_0's ndcg@1: 0.937221\n",
      "[148]\tvalid_0's auc: 1\tvalid_0's ndcg@1: 0.937223\n",
      "[149]\tvalid_0's auc: 1\tvalid_0's ndcg@1: 0.937235\n",
      "[150]\tvalid_0's auc: 1\tvalid_0's ndcg@1: 0.93733\n",
      "[151]\tvalid_0's auc: 1\tvalid_0's ndcg@1: 0.93738\n",
      "[152]\tvalid_0's auc: 1\tvalid_0's ndcg@1: 0.937377\n",
      "[153]\tvalid_0's auc: 1\tvalid_0's ndcg@1: 0.937361\n",
      "[154]\tvalid_0's auc: 1\tvalid_0's ndcg@1: 0.937472\n",
      "[155]\tvalid_0's auc: 1\tvalid_0's ndcg@1: 0.937475\n",
      "[156]\tvalid_0's auc: 1\tvalid_0's ndcg@1: 0.937395\n",
      "[157]\tvalid_0's auc: 1\tvalid_0's ndcg@1: 0.937306\n",
      "[158]\tvalid_0's auc: 1\tvalid_0's ndcg@1: 0.937265\n",
      "[159]\tvalid_0's auc: 1\tvalid_0's ndcg@1: 0.937263\n",
      "[160]\tvalid_0's auc: 1\tvalid_0's ndcg@1: 0.937117\n",
      "[161]\tvalid_0's auc: 1\tvalid_0's ndcg@1: 0.937168\n",
      "[162]\tvalid_0's auc: 1\tvalid_0's ndcg@1: 0.937455\n",
      "[163]\tvalid_0's auc: 1\tvalid_0's ndcg@1: 0.93746\n",
      "[164]\tvalid_0's auc: 1\tvalid_0's ndcg@1: 0.937424\n",
      "[165]\tvalid_0's auc: 1\tvalid_0's ndcg@1: 0.937421\n",
      "[166]\tvalid_0's auc: 1\tvalid_0's ndcg@1: 0.937356\n",
      "[167]\tvalid_0's auc: 1\tvalid_0's ndcg@1: 0.937387\n",
      "[168]\tvalid_0's auc: 1\tvalid_0's ndcg@1: 0.937385\n",
      "[169]\tvalid_0's auc: 1\tvalid_0's ndcg@1: 0.937425\n",
      "[170]\tvalid_0's auc: 1\tvalid_0's ndcg@1: 0.937421\n",
      "[171]\tvalid_0's auc: 1\tvalid_0's ndcg@1: 0.93761\n",
      "[172]\tvalid_0's auc: 1\tvalid_0's ndcg@1: 0.937613\n",
      "[173]\tvalid_0's auc: 1\tvalid_0's ndcg@1: 0.937611\n",
      "[174]\tvalid_0's auc: 1\tvalid_0's ndcg@1: 0.937687\n",
      "[175]\tvalid_0's auc: 1\tvalid_0's ndcg@1: 0.937855\n",
      "[176]\tvalid_0's auc: 1\tvalid_0's ndcg@1: 0.937864\n",
      "[177]\tvalid_0's auc: 1\tvalid_0's ndcg@1: 0.937829\n",
      "[178]\tvalid_0's auc: 1\tvalid_0's ndcg@1: 0.937784\n",
      "[179]\tvalid_0's auc: 1\tvalid_0's ndcg@1: 0.937756\n",
      "[180]\tvalid_0's auc: 1\tvalid_0's ndcg@1: 0.937754\n",
      "[181]\tvalid_0's auc: 1\tvalid_0's ndcg@1: 0.937813\n",
      "[182]\tvalid_0's auc: 1\tvalid_0's ndcg@1: 0.93773\n",
      "[183]\tvalid_0's auc: 1\tvalid_0's ndcg@1: 0.93772\n",
      "[184]\tvalid_0's auc: 1\tvalid_0's ndcg@1: 0.937762\n",
      "[185]\tvalid_0's auc: 1\tvalid_0's ndcg@1: 0.937755\n",
      "[186]\tvalid_0's auc: 1\tvalid_0's ndcg@1: 0.93776\n",
      "[187]\tvalid_0's auc: 1\tvalid_0's ndcg@1: 0.937678\n",
      "[188]\tvalid_0's auc: 1\tvalid_0's ndcg@1: 0.93764\n",
      "[189]\tvalid_0's auc: 1\tvalid_0's ndcg@1: 0.937583\n",
      "[190]\tvalid_0's auc: 1\tvalid_0's ndcg@1: 0.937562\n",
      "[191]\tvalid_0's auc: 1\tvalid_0's ndcg@1: 0.937619\n",
      "[192]\tvalid_0's auc: 1\tvalid_0's ndcg@1: 0.937556\n",
      "[193]\tvalid_0's auc: 1\tvalid_0's ndcg@1: 0.937568\n",
      "[194]\tvalid_0's auc: 1\tvalid_0's ndcg@1: 0.937603\n",
      "[195]\tvalid_0's auc: 1\tvalid_0's ndcg@1: 0.93763\n",
      "[196]\tvalid_0's auc: 1\tvalid_0's ndcg@1: 0.937641\n",
      "[197]\tvalid_0's auc: 1\tvalid_0's ndcg@1: 0.937554\n",
      "[198]\tvalid_0's auc: 1\tvalid_0's ndcg@1: 0.937552\n",
      "[199]\tvalid_0's auc: 1\tvalid_0's ndcg@1: 0.937518\n",
      "[200]\tvalid_0's auc: 1\tvalid_0's ndcg@1: 0.93757\n",
      "[201]\tvalid_0's auc: 1\tvalid_0's ndcg@1: 0.937571\n",
      "[202]\tvalid_0's auc: 1\tvalid_0's ndcg@1: 0.937569\n",
      "[203]\tvalid_0's auc: 1\tvalid_0's ndcg@1: 0.937521\n",
      "[204]\tvalid_0's auc: 1\tvalid_0's ndcg@1: 0.937614\n",
      "[205]\tvalid_0's auc: 1\tvalid_0's ndcg@1: 0.937612\n",
      "[206]\tvalid_0's auc: 1\tvalid_0's ndcg@1: 0.937566\n",
      "[207]\tvalid_0's auc: 1\tvalid_0's ndcg@1: 0.937529\n",
      "[208]\tvalid_0's auc: 1\tvalid_0's ndcg@1: 0.937577\n",
      "[209]\tvalid_0's auc: 1\tvalid_0's ndcg@1: 0.937586\n",
      "[210]\tvalid_0's auc: 1\tvalid_0's ndcg@1: 0.937647\n",
      "[211]\tvalid_0's auc: 1\tvalid_0's ndcg@1: 0.937705\n",
      "[212]\tvalid_0's auc: 1\tvalid_0's ndcg@1: 0.937589\n",
      "[213]\tvalid_0's auc: 1\tvalid_0's ndcg@1: 0.937557\n",
      "[214]\tvalid_0's auc: 1\tvalid_0's ndcg@1: 0.937598\n",
      "[215]\tvalid_0's auc: 1\tvalid_0's ndcg@1: 0.937594\n",
      "[216]\tvalid_0's auc: 1\tvalid_0's ndcg@1: 0.937586\n",
      "[217]\tvalid_0's auc: 1\tvalid_0's ndcg@1: 0.937619\n",
      "[218]\tvalid_0's auc: 1\tvalid_0's ndcg@1: 0.937603\n",
      "[219]\tvalid_0's auc: 1\tvalid_0's ndcg@1: 0.937631\n",
      "[220]\tvalid_0's auc: 1\tvalid_0's ndcg@1: 0.937585\n",
      "[221]\tvalid_0's auc: 1\tvalid_0's ndcg@1: 0.937635\n",
      "[222]\tvalid_0's auc: 1\tvalid_0's ndcg@1: 0.937626\n",
      "[223]\tvalid_0's auc: 1\tvalid_0's ndcg@1: 0.937615\n",
      "[224]\tvalid_0's auc: 1\tvalid_0's ndcg@1: 0.937562\n",
      "[225]\tvalid_0's auc: 1\tvalid_0's ndcg@1: 0.93752\n",
      "[226]\tvalid_0's auc: 1\tvalid_0's ndcg@1: 0.937483\n",
      "[227]\tvalid_0's auc: 1\tvalid_0's ndcg@1: 0.937461\n",
      "[228]\tvalid_0's auc: 1\tvalid_0's ndcg@1: 0.937456\n",
      "[229]\tvalid_0's auc: 1\tvalid_0's ndcg@1: 0.937495\n",
      "[230]\tvalid_0's auc: 1\tvalid_0's ndcg@1: 0.937469\n",
      "[231]\tvalid_0's auc: 1\tvalid_0's ndcg@1: 0.937455\n",
      "[232]\tvalid_0's auc: 1\tvalid_0's ndcg@1: 0.937461\n",
      "[233]\tvalid_0's auc: 1\tvalid_0's ndcg@1: 0.937441\n",
      "[234]\tvalid_0's auc: 1\tvalid_0's ndcg@1: 0.937408\n",
      "[235]\tvalid_0's auc: 1\tvalid_0's ndcg@1: 0.937409\n",
      "[236]\tvalid_0's auc: 1\tvalid_0's ndcg@1: 0.937478\n",
      "[237]\tvalid_0's auc: 1\tvalid_0's ndcg@1: 0.937479\n",
      "[238]\tvalid_0's auc: 1\tvalid_0's ndcg@1: 0.937474\n",
      "[239]\tvalid_0's auc: 1\tvalid_0's ndcg@1: 0.937483\n",
      "[240]\tvalid_0's auc: 1\tvalid_0's ndcg@1: 0.937477\n",
      "[241]\tvalid_0's auc: 1\tvalid_0's ndcg@1: 0.937471\n",
      "[242]\tvalid_0's auc: 1\tvalid_0's ndcg@1: 0.937487\n",
      "[243]\tvalid_0's auc: 1\tvalid_0's ndcg@1: 0.9375\n",
      "[244]\tvalid_0's auc: 1\tvalid_0's ndcg@1: 0.937516\n",
      "[245]\tvalid_0's auc: 1\tvalid_0's ndcg@1: 0.937503\n",
      "[246]\tvalid_0's auc: 1\tvalid_0's ndcg@1: 0.937488\n",
      "[247]\tvalid_0's auc: 1\tvalid_0's ndcg@1: 0.937466\n",
      "[248]\tvalid_0's auc: 1\tvalid_0's ndcg@1: 0.937485\n",
      "[249]\tvalid_0's auc: 1\tvalid_0's ndcg@1: 0.937469\n",
      "[250]\tvalid_0's auc: 1\tvalid_0's ndcg@1: 0.937495\n",
      "[251]\tvalid_0's auc: 1\tvalid_0's ndcg@1: 0.937442\n",
      "[252]\tvalid_0's auc: 1\tvalid_0's ndcg@1: 0.937439\n",
      "[253]\tvalid_0's auc: 1\tvalid_0's ndcg@1: 0.937472\n",
      "[254]\tvalid_0's auc: 1\tvalid_0's ndcg@1: 0.937442\n",
      "[255]\tvalid_0's auc: 1\tvalid_0's ndcg@1: 0.937443\n",
      "[256]\tvalid_0's auc: 1\tvalid_0's ndcg@1: 0.937433\n",
      "[257]\tvalid_0's auc: 1\tvalid_0's ndcg@1: 0.937461\n",
      "[258]\tvalid_0's auc: 1\tvalid_0's ndcg@1: 0.937477\n",
      "[259]\tvalid_0's auc: 1\tvalid_0's ndcg@1: 0.937446\n",
      "[260]\tvalid_0's auc: 1\tvalid_0's ndcg@1: 0.937493\n",
      "[261]\tvalid_0's auc: 1\tvalid_0's ndcg@1: 0.937479\n",
      "[262]\tvalid_0's auc: 1\tvalid_0's ndcg@1: 0.937524\n",
      "[263]\tvalid_0's auc: 1\tvalid_0's ndcg@1: 0.937533\n",
      "[264]\tvalid_0's auc: 1\tvalid_0's ndcg@1: 0.937527\n",
      "[265]\tvalid_0's auc: 1\tvalid_0's ndcg@1: 0.937556\n",
      "[266]\tvalid_0's auc: 1\tvalid_0's ndcg@1: 0.93758\n",
      "[267]\tvalid_0's auc: 1\tvalid_0's ndcg@1: 0.937579\n",
      "[268]\tvalid_0's auc: 1\tvalid_0's ndcg@1: 0.937579\n",
      "[269]\tvalid_0's auc: 1\tvalid_0's ndcg@1: 0.937579\n",
      "[270]\tvalid_0's auc: 1\tvalid_0's ndcg@1: 0.937579\n",
      "[271]\tvalid_0's auc: 1\tvalid_0's ndcg@1: 0.93755\n",
      "[272]\tvalid_0's auc: 1\tvalid_0's ndcg@1: 0.937593\n",
      "[273]\tvalid_0's auc: 1\tvalid_0's ndcg@1: 0.937579\n",
      "[274]\tvalid_0's auc: 1\tvalid_0's ndcg@1: 0.937562\n",
      "[275]\tvalid_0's auc: 1\tvalid_0's ndcg@1: 0.937546\n",
      "[276]\tvalid_0's auc: 1\tvalid_0's ndcg@1: 0.937549\n",
      "[277]\tvalid_0's auc: 1\tvalid_0's ndcg@1: 0.937621\n",
      "[278]\tvalid_0's auc: 1\tvalid_0's ndcg@1: 0.937591\n",
      "[279]\tvalid_0's auc: 1\tvalid_0's ndcg@1: 0.937602\n",
      "[280]\tvalid_0's auc: 1\tvalid_0's ndcg@1: 0.93756\n",
      "[281]\tvalid_0's auc: 1\tvalid_0's ndcg@1: 0.937552\n",
      "[282]\tvalid_0's auc: 1\tvalid_0's ndcg@1: 0.937599\n",
      "[283]\tvalid_0's auc: 1\tvalid_0's ndcg@1: 0.937706\n",
      "[284]\tvalid_0's auc: 1\tvalid_0's ndcg@1: 0.937632\n",
      "[285]\tvalid_0's auc: 1\tvalid_0's ndcg@1: 0.937663\n",
      "[286]\tvalid_0's auc: 1\tvalid_0's ndcg@1: 0.937699\n",
      "[287]\tvalid_0's auc: 1\tvalid_0's ndcg@1: 0.937712\n",
      "[288]\tvalid_0's auc: 1\tvalid_0's ndcg@1: 0.937739\n",
      "[289]\tvalid_0's auc: 1\tvalid_0's ndcg@1: 0.937818\n",
      "[290]\tvalid_0's auc: 1\tvalid_0's ndcg@1: 0.937803\n",
      "[291]\tvalid_0's auc: 1\tvalid_0's ndcg@1: 0.937846\n",
      "[292]\tvalid_0's auc: 1\tvalid_0's ndcg@1: 0.937812\n",
      "[293]\tvalid_0's auc: 1\tvalid_0's ndcg@1: 0.937873\n",
      "[294]\tvalid_0's auc: 1\tvalid_0's ndcg@1: 0.937877\n",
      "[295]\tvalid_0's auc: 1\tvalid_0's ndcg@1: 0.937979\n",
      "[296]\tvalid_0's auc: 1\tvalid_0's ndcg@1: 0.938008\n",
      "[297]\tvalid_0's auc: 1\tvalid_0's ndcg@1: 0.937987\n",
      "[298]\tvalid_0's auc: 1\tvalid_0's ndcg@1: 0.937982\n",
      "[299]\tvalid_0's auc: 1\tvalid_0's ndcg@1: 0.938032\n",
      "[300]\tvalid_0's auc: 1\tvalid_0's ndcg@1: 0.937968\n",
      "[301]\tvalid_0's auc: 1\tvalid_0's ndcg@1: 0.937944\n",
      "[302]\tvalid_0's auc: 1\tvalid_0's ndcg@1: 0.937898\n",
      "[303]\tvalid_0's auc: 1\tvalid_0's ndcg@1: 0.937904\n",
      "[304]\tvalid_0's auc: 1\tvalid_0's ndcg@1: 0.93791\n",
      "[305]\tvalid_0's auc: 1\tvalid_0's ndcg@1: 0.937901\n",
      "[306]\tvalid_0's auc: 1\tvalid_0's ndcg@1: 0.937901\n",
      "[307]\tvalid_0's auc: 1\tvalid_0's ndcg@1: 0.937863\n",
      "[308]\tvalid_0's auc: 1\tvalid_0's ndcg@1: 0.937882\n",
      "[309]\tvalid_0's auc: 1\tvalid_0's ndcg@1: 0.9379\n",
      "[310]\tvalid_0's auc: 1\tvalid_0's ndcg@1: 0.937953\n",
      "[311]\tvalid_0's auc: 1\tvalid_0's ndcg@1: 0.9379\n",
      "[312]\tvalid_0's auc: 1\tvalid_0's ndcg@1: 0.937953\n",
      "[313]\tvalid_0's auc: 1\tvalid_0's ndcg@1: 0.937951\n",
      "[314]\tvalid_0's auc: 1\tvalid_0's ndcg@1: 0.937951\n",
      "[315]\tvalid_0's auc: 1\tvalid_0's ndcg@1: 0.937935\n",
      "[316]\tvalid_0's auc: 1\tvalid_0's ndcg@1: 0.937943\n",
      "[317]\tvalid_0's auc: 1\tvalid_0's ndcg@1: 0.938031\n",
      "[318]\tvalid_0's auc: 1\tvalid_0's ndcg@1: 0.93807\n",
      "[319]\tvalid_0's auc: 1\tvalid_0's ndcg@1: 0.938076\n",
      "[320]\tvalid_0's auc: 1\tvalid_0's ndcg@1: 0.938091\n",
      "[321]\tvalid_0's auc: 1\tvalid_0's ndcg@1: 0.938148\n",
      "[322]\tvalid_0's auc: 1\tvalid_0's ndcg@1: 0.938127\n",
      "[323]\tvalid_0's auc: 1\tvalid_0's ndcg@1: 0.938143\n",
      "[324]\tvalid_0's auc: 1\tvalid_0's ndcg@1: 0.938115\n",
      "[325]\tvalid_0's auc: 1\tvalid_0's ndcg@1: 0.938125\n",
      "[326]\tvalid_0's auc: 1\tvalid_0's ndcg@1: 0.938115\n",
      "[327]\tvalid_0's auc: 1\tvalid_0's ndcg@1: 0.938106\n",
      "[328]\tvalid_0's auc: 1\tvalid_0's ndcg@1: 0.938107\n",
      "[329]\tvalid_0's auc: 1\tvalid_0's ndcg@1: 0.93812\n",
      "[330]\tvalid_0's auc: 1\tvalid_0's ndcg@1: 0.938166\n",
      "[331]\tvalid_0's auc: 1\tvalid_0's ndcg@1: 0.93817\n",
      "[332]\tvalid_0's auc: 1\tvalid_0's ndcg@1: 0.938232\n",
      "[333]\tvalid_0's auc: 1\tvalid_0's ndcg@1: 0.938276\n",
      "[334]\tvalid_0's auc: 1\tvalid_0's ndcg@1: 0.938255\n",
      "[335]\tvalid_0's auc: 1\tvalid_0's ndcg@1: 0.938324\n",
      "[336]\tvalid_0's auc: 1\tvalid_0's ndcg@1: 0.938348\n",
      "[337]\tvalid_0's auc: 1\tvalid_0's ndcg@1: 0.938432\n",
      "[338]\tvalid_0's auc: 1\tvalid_0's ndcg@1: 0.938492\n",
      "[339]\tvalid_0's auc: 1\tvalid_0's ndcg@1: 0.938498\n",
      "[340]\tvalid_0's auc: 1\tvalid_0's ndcg@1: 0.938552\n",
      "[341]\tvalid_0's auc: 1\tvalid_0's ndcg@1: 0.938563\n",
      "[342]\tvalid_0's auc: 1\tvalid_0's ndcg@1: 0.938571\n",
      "[343]\tvalid_0's auc: 1\tvalid_0's ndcg@1: 0.938551\n",
      "[344]\tvalid_0's auc: 1\tvalid_0's ndcg@1: 0.938507\n",
      "[345]\tvalid_0's auc: 1\tvalid_0's ndcg@1: 0.938551\n",
      "[346]\tvalid_0's auc: 1\tvalid_0's ndcg@1: 0.9386\n",
      "[347]\tvalid_0's auc: 1\tvalid_0's ndcg@1: 0.938593\n",
      "[348]\tvalid_0's auc: 1\tvalid_0's ndcg@1: 0.938632\n",
      "[349]\tvalid_0's auc: 1\tvalid_0's ndcg@1: 0.938566\n",
      "[350]\tvalid_0's auc: 1\tvalid_0's ndcg@1: 0.93854\n",
      "[351]\tvalid_0's auc: 1\tvalid_0's ndcg@1: 0.938586\n",
      "[352]\tvalid_0's auc: 1\tvalid_0's ndcg@1: 0.93856\n",
      "[353]\tvalid_0's auc: 1\tvalid_0's ndcg@1: 0.938541\n",
      "[354]\tvalid_0's auc: 1\tvalid_0's ndcg@1: 0.93857\n",
      "[355]\tvalid_0's auc: 1\tvalid_0's ndcg@1: 0.938531\n",
      "[356]\tvalid_0's auc: 1\tvalid_0's ndcg@1: 0.938536\n",
      "[357]\tvalid_0's auc: 1\tvalid_0's ndcg@1: 0.938536\n",
      "[358]\tvalid_0's auc: 1\tvalid_0's ndcg@1: 0.938525\n",
      "[359]\tvalid_0's auc: 1\tvalid_0's ndcg@1: 0.938515\n",
      "[360]\tvalid_0's auc: 1\tvalid_0's ndcg@1: 0.938531\n",
      "[361]\tvalid_0's auc: 1\tvalid_0's ndcg@1: 0.938541\n",
      "[362]\tvalid_0's auc: 1\tvalid_0's ndcg@1: 0.938558\n",
      "[363]\tvalid_0's auc: 1\tvalid_0's ndcg@1: 0.938559\n",
      "[364]\tvalid_0's auc: 1\tvalid_0's ndcg@1: 0.938558\n",
      "[365]\tvalid_0's auc: 1\tvalid_0's ndcg@1: 0.938491\n",
      "[366]\tvalid_0's auc: 1\tvalid_0's ndcg@1: 0.938498\n",
      "[367]\tvalid_0's auc: 1\tvalid_0's ndcg@1: 0.938466\n",
      "[368]\tvalid_0's auc: 1\tvalid_0's ndcg@1: 0.938471\n",
      "[369]\tvalid_0's auc: 1\tvalid_0's ndcg@1: 0.938472\n",
      "[370]\tvalid_0's auc: 1\tvalid_0's ndcg@1: 0.93849\n",
      "[371]\tvalid_0's auc: 1\tvalid_0's ndcg@1: 0.938476\n",
      "[372]\tvalid_0's auc: 1\tvalid_0's ndcg@1: 0.938454\n",
      "[373]\tvalid_0's auc: 1\tvalid_0's ndcg@1: 0.938454\n",
      "[374]\tvalid_0's auc: 1\tvalid_0's ndcg@1: 0.938478\n",
      "[375]\tvalid_0's auc: 1\tvalid_0's ndcg@1: 0.938464\n",
      "[376]\tvalid_0's auc: 1\tvalid_0's ndcg@1: 0.938437\n",
      "[377]\tvalid_0's auc: 1\tvalid_0's ndcg@1: 0.93845\n",
      "[378]\tvalid_0's auc: 1\tvalid_0's ndcg@1: 0.938484\n",
      "[379]\tvalid_0's auc: 1\tvalid_0's ndcg@1: 0.938479\n",
      "[380]\tvalid_0's auc: 1\tvalid_0's ndcg@1: 0.938485\n",
      "[381]\tvalid_0's auc: 1\tvalid_0's ndcg@1: 0.938485\n",
      "[382]\tvalid_0's auc: 1\tvalid_0's ndcg@1: 0.938477\n",
      "[383]\tvalid_0's auc: 1\tvalid_0's ndcg@1: 0.93852\n",
      "[384]\tvalid_0's auc: 1\tvalid_0's ndcg@1: 0.938515\n",
      "[385]\tvalid_0's auc: 1\tvalid_0's ndcg@1: 0.938509\n",
      "[386]\tvalid_0's auc: 1\tvalid_0's ndcg@1: 0.938554\n",
      "[387]\tvalid_0's auc: 1\tvalid_0's ndcg@1: 0.938603\n",
      "[388]\tvalid_0's auc: 1\tvalid_0's ndcg@1: 0.938584\n",
      "[389]\tvalid_0's auc: 1\tvalid_0's ndcg@1: 0.938631\n",
      "[390]\tvalid_0's auc: 1\tvalid_0's ndcg@1: 0.938629\n",
      "[391]\tvalid_0's auc: 1\tvalid_0's ndcg@1: 0.938563\n",
      "[392]\tvalid_0's auc: 1\tvalid_0's ndcg@1: 0.938591\n",
      "[393]\tvalid_0's auc: 1\tvalid_0's ndcg@1: 0.938627\n",
      "[394]\tvalid_0's auc: 1\tvalid_0's ndcg@1: 0.938633\n",
      "[395]\tvalid_0's auc: 1\tvalid_0's ndcg@1: 0.938623\n",
      "[396]\tvalid_0's auc: 1\tvalid_0's ndcg@1: 0.938623\n",
      "[397]\tvalid_0's auc: 1\tvalid_0's ndcg@1: 0.938649\n",
      "[398]\tvalid_0's auc: 1\tvalid_0's ndcg@1: 0.938667\n",
      "[399]\tvalid_0's auc: 1\tvalid_0's ndcg@1: 0.938667\n",
      "[400]\tvalid_0's auc: 1\tvalid_0's ndcg@1: 0.938688\n",
      "[401]\tvalid_0's auc: 1\tvalid_0's ndcg@1: 0.938679\n",
      "[402]\tvalid_0's auc: 1\tvalid_0's ndcg@1: 0.938689\n",
      "[403]\tvalid_0's auc: 1\tvalid_0's ndcg@1: 0.938667\n",
      "[404]\tvalid_0's auc: 1\tvalid_0's ndcg@1: 0.938665\n",
      "[405]\tvalid_0's auc: 1\tvalid_0's ndcg@1: 0.938665\n",
      "[406]\tvalid_0's auc: 1\tvalid_0's ndcg@1: 0.93864\n",
      "[407]\tvalid_0's auc: 1\tvalid_0's ndcg@1: 0.938597\n",
      "[408]\tvalid_0's auc: 1\tvalid_0's ndcg@1: 0.938527\n",
      "[409]\tvalid_0's auc: 1\tvalid_0's ndcg@1: 0.938459\n",
      "[410]\tvalid_0's auc: 1\tvalid_0's ndcg@1: 0.938383\n",
      "[411]\tvalid_0's auc: 1\tvalid_0's ndcg@1: 0.938409\n",
      "[412]\tvalid_0's auc: 1\tvalid_0's ndcg@1: 0.938439\n",
      "[413]\tvalid_0's auc: 1\tvalid_0's ndcg@1: 0.938477\n",
      "[414]\tvalid_0's auc: 1\tvalid_0's ndcg@1: 0.938488\n",
      "[415]\tvalid_0's auc: 1\tvalid_0's ndcg@1: 0.938522\n",
      "[416]\tvalid_0's auc: 1\tvalid_0's ndcg@1: 0.938455\n",
      "[417]\tvalid_0's auc: 1\tvalid_0's ndcg@1: 0.938558\n",
      "[418]\tvalid_0's auc: 1\tvalid_0's ndcg@1: 0.9386\n",
      "[419]\tvalid_0's auc: 1\tvalid_0's ndcg@1: 0.938602\n",
      "[420]\tvalid_0's auc: 1\tvalid_0's ndcg@1: 0.938588\n",
      "[421]\tvalid_0's auc: 1\tvalid_0's ndcg@1: 0.938572\n",
      "[422]\tvalid_0's auc: 1\tvalid_0's ndcg@1: 0.938577\n",
      "[423]\tvalid_0's auc: 1\tvalid_0's ndcg@1: 0.938593\n",
      "[424]\tvalid_0's auc: 1\tvalid_0's ndcg@1: 0.938585\n",
      "[425]\tvalid_0's auc: 1\tvalid_0's ndcg@1: 0.938587\n",
      "[426]\tvalid_0's auc: 1\tvalid_0's ndcg@1: 0.938542\n",
      "[427]\tvalid_0's auc: 1\tvalid_0's ndcg@1: 0.938514\n",
      "[428]\tvalid_0's auc: 1\tvalid_0's ndcg@1: 0.938507\n",
      "[429]\tvalid_0's auc: 1\tvalid_0's ndcg@1: 0.938498\n",
      "[430]\tvalid_0's auc: 1\tvalid_0's ndcg@1: 0.938463\n",
      "[431]\tvalid_0's auc: 1\tvalid_0's ndcg@1: 0.938456\n",
      "[432]\tvalid_0's auc: 1\tvalid_0's ndcg@1: 0.938434\n",
      "[433]\tvalid_0's auc: 1\tvalid_0's ndcg@1: 0.938441\n",
      "[434]\tvalid_0's auc: 1\tvalid_0's ndcg@1: 0.938379\n",
      "[435]\tvalid_0's auc: 1\tvalid_0's ndcg@1: 0.938381\n",
      "[436]\tvalid_0's auc: 1\tvalid_0's ndcg@1: 0.938376\n",
      "[437]\tvalid_0's auc: 1\tvalid_0's ndcg@1: 0.93836\n",
      "[438]\tvalid_0's auc: 1\tvalid_0's ndcg@1: 0.938386\n",
      "[439]\tvalid_0's auc: 1\tvalid_0's ndcg@1: 0.938394\n",
      "[440]\tvalid_0's auc: 1\tvalid_0's ndcg@1: 0.938403\n",
      "[441]\tvalid_0's auc: 1\tvalid_0's ndcg@1: 0.938373\n",
      "[442]\tvalid_0's auc: 1\tvalid_0's ndcg@1: 0.938335\n",
      "[443]\tvalid_0's auc: 1\tvalid_0's ndcg@1: 0.938337\n",
      "[444]\tvalid_0's auc: 1\tvalid_0's ndcg@1: 0.938368\n",
      "[445]\tvalid_0's auc: 1\tvalid_0's ndcg@1: 0.938393\n",
      "[446]\tvalid_0's auc: 1\tvalid_0's ndcg@1: 0.938359\n",
      "[447]\tvalid_0's auc: 1\tvalid_0's ndcg@1: 0.93836\n",
      "[448]\tvalid_0's auc: 1\tvalid_0's ndcg@1: 0.938365\n",
      "[449]\tvalid_0's auc: 1\tvalid_0's ndcg@1: 0.938334\n",
      "[450]\tvalid_0's auc: 1\tvalid_0's ndcg@1: 0.938323\n",
      "[451]\tvalid_0's auc: 1\tvalid_0's ndcg@1: 0.938319\n",
      "[452]\tvalid_0's auc: 1\tvalid_0's ndcg@1: 0.93826\n",
      "[453]\tvalid_0's auc: 1\tvalid_0's ndcg@1: 0.938233\n",
      "[454]\tvalid_0's auc: 1\tvalid_0's ndcg@1: 0.93827\n",
      "[455]\tvalid_0's auc: 1\tvalid_0's ndcg@1: 0.93827\n",
      "[456]\tvalid_0's auc: 1\tvalid_0's ndcg@1: 0.938279\n",
      "[457]\tvalid_0's auc: 1\tvalid_0's ndcg@1: 0.93831\n",
      "[458]\tvalid_0's auc: 1\tvalid_0's ndcg@1: 0.938294\n",
      "[459]\tvalid_0's auc: 1\tvalid_0's ndcg@1: 0.938255\n",
      "[460]\tvalid_0's auc: 1\tvalid_0's ndcg@1: 0.938201\n",
      "[461]\tvalid_0's auc: 1\tvalid_0's ndcg@1: 0.938176\n",
      "[462]\tvalid_0's auc: 1\tvalid_0's ndcg@1: 0.938174\n",
      "[463]\tvalid_0's auc: 1\tvalid_0's ndcg@1: 0.938145\n",
      "[464]\tvalid_0's auc: 1\tvalid_0's ndcg@1: 0.938108\n",
      "[465]\tvalid_0's auc: 1\tvalid_0's ndcg@1: 0.938163\n",
      "[466]\tvalid_0's auc: 1\tvalid_0's ndcg@1: 0.938163\n",
      "[467]\tvalid_0's auc: 1\tvalid_0's ndcg@1: 0.938141\n",
      "[468]\tvalid_0's auc: 1\tvalid_0's ndcg@1: 0.938098\n",
      "[469]\tvalid_0's auc: 1\tvalid_0's ndcg@1: 0.938093\n",
      "[470]\tvalid_0's auc: 1\tvalid_0's ndcg@1: 0.938099\n",
      "[471]\tvalid_0's auc: 1\tvalid_0's ndcg@1: 0.938078\n",
      "[472]\tvalid_0's auc: 1\tvalid_0's ndcg@1: 0.938103\n",
      "[473]\tvalid_0's auc: 1\tvalid_0's ndcg@1: 0.938081\n",
      "[474]\tvalid_0's auc: 1\tvalid_0's ndcg@1: 0.938034\n",
      "[475]\tvalid_0's auc: 1\tvalid_0's ndcg@1: 0.938055\n",
      "[476]\tvalid_0's auc: 1\tvalid_0's ndcg@1: 0.938081\n",
      "[477]\tvalid_0's auc: 1\tvalid_0's ndcg@1: 0.938071\n",
      "[478]\tvalid_0's auc: 1\tvalid_0's ndcg@1: 0.938068\n",
      "[479]\tvalid_0's auc: 1\tvalid_0's ndcg@1: 0.938074\n",
      "[480]\tvalid_0's auc: 1\tvalid_0's ndcg@1: 0.93811\n",
      "[481]\tvalid_0's auc: 1\tvalid_0's ndcg@1: 0.938206\n",
      "[482]\tvalid_0's auc: 1\tvalid_0's ndcg@1: 0.938203\n",
      "[483]\tvalid_0's auc: 1\tvalid_0's ndcg@1: 0.938219\n",
      "[484]\tvalid_0's auc: 1\tvalid_0's ndcg@1: 0.938205\n",
      "[485]\tvalid_0's auc: 1\tvalid_0's ndcg@1: 0.938238\n",
      "[486]\tvalid_0's auc: 1\tvalid_0's ndcg@1: 0.938209\n",
      "[487]\tvalid_0's auc: 1\tvalid_0's ndcg@1: 0.938196\n",
      "[488]\tvalid_0's auc: 1\tvalid_0's ndcg@1: 0.938204\n",
      "[489]\tvalid_0's auc: 1\tvalid_0's ndcg@1: 0.938265\n",
      "[490]\tvalid_0's auc: 1\tvalid_0's ndcg@1: 0.938275\n",
      "[491]\tvalid_0's auc: 1\tvalid_0's ndcg@1: 0.938262\n",
      "[492]\tvalid_0's auc: 1\tvalid_0's ndcg@1: 0.93826\n",
      "[493]\tvalid_0's auc: 1\tvalid_0's ndcg@1: 0.938156\n",
      "[494]\tvalid_0's auc: 1\tvalid_0's ndcg@1: 0.938188\n",
      "[495]\tvalid_0's auc: 1\tvalid_0's ndcg@1: 0.93822\n",
      "[496]\tvalid_0's auc: 1\tvalid_0's ndcg@1: 0.938157\n",
      "[497]\tvalid_0's auc: 1\tvalid_0's ndcg@1: 0.938196\n",
      "[498]\tvalid_0's auc: 1\tvalid_0's ndcg@1: 0.938212\n",
      "[499]\tvalid_0's auc: 1\tvalid_0's ndcg@1: 0.938212\n",
      "[500]\tvalid_0's auc: 1\tvalid_0's ndcg@1: 0.938121\n"
     ]
    },
    {
     "data": {
      "text/plain": [
       "LGBMRanker(boosting_type='gbdt', class_weight=None, colsample_bytree=1.0,\n",
       "           importance_type='split', learning_rate=0.1, max_depth=-1,\n",
       "           min_child_samples=20, min_child_weight=0.001, min_split_gain=0.0,\n",
       "           n_estimators=500, n_jobs=-1, num_leaves=31, objective=None,\n",
       "           random_state=None, reg_alpha=0.0, reg_lambda=0.0, silent=True,\n",
       "           subsample=1.0, subsample_for_bin=200000, subsample_freq=0)"
      ]
     },
     "execution_count": 32,
     "metadata": {},
     "output_type": "execute_result"
    }
   ],
   "source": [
    "model.fit(X_train, y_train, group=q_train, eval_set=[(X_val, y_val)], eval_group=[q_val], eval_metric='auc')"
   ]
  },
  {
   "cell_type": "code",
   "execution_count": 33,
   "metadata": {},
   "outputs": [
    {
     "data": {
      "text/plain": [
       "<matplotlib.axes._subplots.AxesSubplot at 0x7f1f110c9f50>"
      ]
     },
     "execution_count": 33,
     "metadata": {},
     "output_type": "execute_result"
    },
    {
     "data": {
      "image/png": "[encoded data removed]",
      "text/plain": [
       "<Figure size 720x720 with 1 Axes>"
      ]
     },
     "metadata": {
      "needs_background": "light"
     },
     "output_type": "display_data"
    }
   ],
   "source": [
    "# Feature Importance\n",
    "lgbm.plot_importance(model, figsize=(10,10), max_num_features=30)"
   ]
  },
  {
   "cell_type": "markdown",
   "metadata": {},
   "source": [
    "## 2.2 Rating Predictions"
   ]
  },
  {
   "cell_type": "code",
   "execution_count": 34,
   "metadata": {},
   "outputs": [],
   "source": [
    "model = lgbm.LGBMClassifier(n_estimators=300, n_jobs=-1, learning_rate=0.1, silent=True)"
   ]
  },
  {
   "cell_type": "code",
   "execution_count": 35,
   "metadata": {},
   "outputs": [
    {
     "data": {
      "text/plain": [
       "LGBMClassifier(boosting_type='gbdt', class_weight=None, colsample_bytree=1.0,\n",
       "               importance_type='split', learning_rate=0.1, max_depth=-1,\n",
       "               min_child_samples=20, min_child_weight=0.001, min_split_gain=0.0,\n",
       "               n_estimators=300, n_jobs=-1, num_leaves=31, objective=None,\n",
       "               random_state=None, reg_alpha=0.0, reg_lambda=0.0, silent=True,\n",
       "               subsample=1.0, subsample_for_bin=200000, subsample_freq=0)"
      ]
     },
     "execution_count": 35,
     "metadata": {},
     "output_type": "execute_result"
    }
   ],
   "source": [
    "model.fit(X_train, y_train)"
   ]
  },
  {
   "cell_type": "code",
   "execution_count": 38,
   "metadata": {},
   "outputs": [
    {
     "name": "stdout",
     "output_type": "stream",
     "text": [
      "Training Accuracy: 0.51431\n",
      "Validation Accuracy: 0.4985131978602805\n"
     ]
    }
   ],
   "source": [
    "print('Training Accuracy:', model.score(X_train, y_train))\n",
    "print('Validation Accuracy:', model.score(X_val, y_val))"
   ]
  },
  {
   "cell_type": "code",
   "execution_count": 37,
   "metadata": {},
   "outputs": [
    {
     "data": {
      "text/plain": [
       "<matplotlib.axes._subplots.AxesSubplot at 0x7f1f110027d0>"
      ]
     },
     "execution_count": 37,
     "metadata": {},
     "output_type": "execute_result"
    },
    {
     "data": {
      "image/png": "[encoded data removed]",
      "text/plain": [
       "<Figure size 720x720 with 1 Axes>"
      ]
     },
     "metadata": {
      "needs_background": "light"
     },
     "output_type": "display_data"
    }
   ],
   "source": [
    "# Feature Importance\n",
    "lgbm.plot_importance(model, figsize=(10,10), max_num_features=30)"
   ]
  },
  {
   "cell_type": "code",
   "execution_count": null,
   "metadata": {},
   "outputs": [],
   "source": []
  },
  {
   "cell_type": "code",
   "execution_count": null,
   "metadata": {},
   "outputs": [],
   "source": []
  }
 ],
 "metadata": {
  "kernelspec": {
   "display_name": "Python 3",
   "language": "python",
   "name": "python3"
  },
  "language_info": {
   "codemirror_mode": {
    "name": "ipython",
    "version": 3
   },
   "file_extension": ".py",
   "mimetype": "text/x-python",
   "name": "python",
   "nbconvert_exporter": "python",
   "pygments_lexer": "ipython3",
   "version": "3.7.6"
  }
 },
 "nbformat": 4,
 "nbformat_minor": 4
}
