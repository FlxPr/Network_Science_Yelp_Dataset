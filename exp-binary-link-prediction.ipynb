{
 "cells": [
  {
   "cell_type": "code",
   "execution_count": 1,
   "metadata": {},
   "outputs": [],
   "source": [
    "import matplotlib.pyplot as plt\n",
    "\n",
    "import igraph as ig\n",
    "import networkx as nx\n",
    "import pandas as pd\n",
    "import numpy as np\n",
    "import re\n",
    "import swifter\n",
    "\n",
    "from sklearn import preprocessing, model_selection\n",
    "from sklearn.model_selection import cross_validate\n",
    "import lightgbm as lgbm\n",
    "\n",
    "from settings import file_names"
   ]
  },
  {
   "cell_type": "markdown",
   "metadata": {},
   "source": [
    "# Datasets"
   ]
  },
  {
   "cell_type": "code",
   "execution_count": 2,
   "metadata": {},
   "outputs": [],
   "source": [
    "df_reviews = pd.read_csv(file_names['toronto_reviews_without_text'])\n",
    "df_users = pd.read_csv(file_names['toronto_users'])\n",
    "df_biz = pd.read_csv(file_names['toronto_businesses'])"
   ]
  },
  {
   "cell_type": "code",
   "execution_count": 3,
   "metadata": {},
   "outputs": [
    {
     "name": "stdout",
     "output_type": "stream",
     "text": [
      "Number of Tips:  33192\n"
     ]
    },
    {
     "data": {
      "text/html": [
       "<div>\n",
       "<style scoped>\n",
       "    .dataframe tbody tr th:only-of-type {\n",
       "        vertical-align: middle;\n",
       "    }\n",
       "\n",
       "    .dataframe tbody tr th {\n",
       "        vertical-align: top;\n",
       "    }\n",
       "\n",
       "    .dataframe thead th {\n",
       "        text-align: right;\n",
       "    }\n",
       "</style>\n",
       "<table border=\"1\" class=\"dataframe\">\n",
       "  <thead>\n",
       "    <tr style=\"text-align: right;\">\n",
       "      <th></th>\n",
       "      <th>user_id</th>\n",
       "      <th>business_id</th>\n",
       "      <th>text</th>\n",
       "      <th>date</th>\n",
       "      <th>compliment_count</th>\n",
       "    </tr>\n",
       "  </thead>\n",
       "  <tbody>\n",
       "    <tr>\n",
       "      <th>7</th>\n",
       "      <td>CaFbX7topxdLpBJ_SNDfGQ</td>\n",
       "      <td>r49iBfbnfoK7yt4rdsL_7g</td>\n",
       "      <td>Hands down best AYCE in town! Love it!</td>\n",
       "      <td>2016-01-05 06:39:33</td>\n",
       "      <td>0</td>\n",
       "    </tr>\n",
       "    <tr>\n",
       "      <th>10</th>\n",
       "      <td>8zXgNCkusOHMwh5Tj_8yCQ</td>\n",
       "      <td>qrSsS0pk7SL67MP5nN8tlg</td>\n",
       "      <td>More parking in the back of the restaurant</td>\n",
       "      <td>2013-12-22 05:10:12</td>\n",
       "      <td>0</td>\n",
       "    </tr>\n",
       "    <tr>\n",
       "      <th>13</th>\n",
       "      <td>oIHhfloe5VQamDFDB2dr1Q</td>\n",
       "      <td>wZhB4U003eg2GQ-F7D2D4A</td>\n",
       "      <td>When you receive the bag of seafood tie it up ...</td>\n",
       "      <td>2016-08-12 22:18:07</td>\n",
       "      <td>0</td>\n",
       "    </tr>\n",
       "  </tbody>\n",
       "</table>\n",
       "</div>"
      ],
      "text/plain": [
       "                   user_id             business_id  \\\n",
       "7   CaFbX7topxdLpBJ_SNDfGQ  r49iBfbnfoK7yt4rdsL_7g   \n",
       "10  8zXgNCkusOHMwh5Tj_8yCQ  qrSsS0pk7SL67MP5nN8tlg   \n",
       "13  oIHhfloe5VQamDFDB2dr1Q  wZhB4U003eg2GQ-F7D2D4A   \n",
       "\n",
       "                                                 text                date  \\\n",
       "7              Hands down best AYCE in town! Love it! 2016-01-05 06:39:33   \n",
       "10         More parking in the back of the restaurant 2013-12-22 05:10:12   \n",
       "13  When you receive the bag of seafood tie it up ... 2016-08-12 22:18:07   \n",
       "\n",
       "    compliment_count  \n",
       "7                  0  \n",
       "10                 0  \n",
       "13                 0  "
      ]
     },
     "execution_count": 3,
     "metadata": {},
     "output_type": "execute_result"
    }
   ],
   "source": [
    "df_tips = pd.read_json(file_names['tip'], encoding='utf-8', lines=True)\n",
    "df_tips = df_tips.loc[df_tips['user_id'].isin(df_users.user_id.unique()) & df_tips['business_id'].isin(df_biz.business_id.unique())]\n",
    "print('Number of Tips: ', df_tips.shape[0])\n",
    "df_tips.head(3)"
   ]
  },
  {
   "cell_type": "code",
   "execution_count": 4,
   "metadata": {},
   "outputs": [
    {
     "name": "stdout",
     "output_type": "stream",
     "text": [
      "Number of reviews:  228816\n",
      "Ratings describe:  count    228816.000000\n",
      "mean          3.643093\n",
      "std           1.139687\n",
      "min           1.000000\n",
      "25%           3.000000\n",
      "50%           4.000000\n",
      "75%           4.000000\n",
      "max           5.000000\n",
      "Name: rating, dtype: float64\n"
     ]
    },
    {
     "data": {
      "text/html": [
       "<div>\n",
       "<style scoped>\n",
       "    .dataframe tbody tr th:only-of-type {\n",
       "        vertical-align: middle;\n",
       "    }\n",
       "\n",
       "    .dataframe tbody tr th {\n",
       "        vertical-align: top;\n",
       "    }\n",
       "\n",
       "    .dataframe thead th {\n",
       "        text-align: right;\n",
       "    }\n",
       "</style>\n",
       "<table border=\"1\" class=\"dataframe\">\n",
       "  <thead>\n",
       "    <tr style=\"text-align: right;\">\n",
       "      <th></th>\n",
       "      <th>user_id</th>\n",
       "      <th>business_id</th>\n",
       "      <th>rating</th>\n",
       "      <th>date</th>\n",
       "    </tr>\n",
       "  </thead>\n",
       "  <tbody>\n",
       "    <tr>\n",
       "      <th>0</th>\n",
       "      <td>TpyOT5E16YASd7EWjLQlrw</td>\n",
       "      <td>AakkkTuGZA2KBodKi2_u8A</td>\n",
       "      <td>1.0</td>\n",
       "      <td>2012-07-16 00:37:14</td>\n",
       "    </tr>\n",
       "    <tr>\n",
       "      <th>1</th>\n",
       "      <td>_N7Ndn29bpll_961oPeEfw</td>\n",
       "      <td>y-Iw6dZflNix4BdwIyTNGA</td>\n",
       "      <td>3.0</td>\n",
       "      <td>2014-06-27 21:19:23</td>\n",
       "    </tr>\n",
       "    <tr>\n",
       "      <th>2</th>\n",
       "      <td>54kpqrxF9DEPpwa51hO_Bw</td>\n",
       "      <td>jzveTy7ogH7cg9axZ78ENg</td>\n",
       "      <td>4.0</td>\n",
       "      <td>2015-04-01 13:31:35</td>\n",
       "    </tr>\n",
       "  </tbody>\n",
       "</table>\n",
       "</div>"
      ],
      "text/plain": [
       "                  user_id             business_id  rating                 date\n",
       "0  TpyOT5E16YASd7EWjLQlrw  AakkkTuGZA2KBodKi2_u8A     1.0  2012-07-16 00:37:14\n",
       "1  _N7Ndn29bpll_961oPeEfw  y-Iw6dZflNix4BdwIyTNGA     3.0  2014-06-27 21:19:23\n",
       "2  54kpqrxF9DEPpwa51hO_Bw  jzveTy7ogH7cg9axZ78ENg     4.0  2015-04-01 13:31:35"
      ]
     },
     "execution_count": 4,
     "metadata": {},
     "output_type": "execute_result"
    }
   ],
   "source": [
    "print('Number of reviews: ',df_reviews.shape[0])\n",
    "print('Ratings describe: ', df_reviews['rating'].describe())\n",
    "df_reviews.head(3)\n",
    "\n"
   ]
  },
  {
   "cell_type": "code",
   "execution_count": 5,
   "metadata": {},
   "outputs": [
    {
     "name": "stdout",
     "output_type": "stream",
     "text": [
      "Number of users:  18804\n"
     ]
    },
    {
     "data": {
      "text/html": [
       "<div>\n",
       "<style scoped>\n",
       "    .dataframe tbody tr th:only-of-type {\n",
       "        vertical-align: middle;\n",
       "    }\n",
       "\n",
       "    .dataframe tbody tr th {\n",
       "        vertical-align: top;\n",
       "    }\n",
       "\n",
       "    .dataframe thead th {\n",
       "        text-align: right;\n",
       "    }\n",
       "</style>\n",
       "<table border=\"1\" class=\"dataframe\">\n",
       "  <thead>\n",
       "    <tr style=\"text-align: right;\">\n",
       "      <th></th>\n",
       "      <th>user_id</th>\n",
       "      <th>friends</th>\n",
       "    </tr>\n",
       "  </thead>\n",
       "  <tbody>\n",
       "    <tr>\n",
       "      <th>0</th>\n",
       "      <td>gvXtMj3XuPr0xHjgmlmtng</td>\n",
       "      <td>CfGCj80EdA-xS-mTWlAn4Q, JgD2Rk9K07MkZgG7Nb9YzA...</td>\n",
       "    </tr>\n",
       "    <tr>\n",
       "      <th>1</th>\n",
       "      <td>pU6GoRTcl1rIOi6zMynjog</td>\n",
       "      <td>SwK2Oo8sjOH0yXYVoyjJwQ, 1LpChUg-0EqRKRKzL4ogYA...</td>\n",
       "    </tr>\n",
       "    <tr>\n",
       "      <th>2</th>\n",
       "      <td>AsYMm_O4H-mwmWbmeACDHw</td>\n",
       "      <td>w-bVY-dhpvnNs8W3BTTgAA, o_OEO0ES7oywPqENQR0f3A...</td>\n",
       "    </tr>\n",
       "  </tbody>\n",
       "</table>\n",
       "</div>"
      ],
      "text/plain": [
       "                  user_id                                            friends\n",
       "0  gvXtMj3XuPr0xHjgmlmtng  CfGCj80EdA-xS-mTWlAn4Q, JgD2Rk9K07MkZgG7Nb9YzA...\n",
       "1  pU6GoRTcl1rIOi6zMynjog  SwK2Oo8sjOH0yXYVoyjJwQ, 1LpChUg-0EqRKRKzL4ogYA...\n",
       "2  AsYMm_O4H-mwmWbmeACDHw  w-bVY-dhpvnNs8W3BTTgAA, o_OEO0ES7oywPqENQR0f3A..."
      ]
     },
     "execution_count": 5,
     "metadata": {},
     "output_type": "execute_result"
    }
   ],
   "source": [
    "print('Number of users: ',df_users.shape[0])\n",
    "df_users.head(3)"
   ]
  },
  {
   "cell_type": "code",
   "execution_count": 6,
   "metadata": {},
   "outputs": [
    {
     "name": "stdout",
     "output_type": "stream",
     "text": [
      "Number of businesses:  7965\n"
     ]
    },
    {
     "data": {
      "text/html": [
       "<div>\n",
       "<style scoped>\n",
       "    .dataframe tbody tr th:only-of-type {\n",
       "        vertical-align: middle;\n",
       "    }\n",
       "\n",
       "    .dataframe tbody tr th {\n",
       "        vertical-align: top;\n",
       "    }\n",
       "\n",
       "    .dataframe thead th {\n",
       "        text-align: right;\n",
       "    }\n",
       "</style>\n",
       "<table border=\"1\" class=\"dataframe\">\n",
       "  <thead>\n",
       "    <tr style=\"text-align: right;\">\n",
       "      <th></th>\n",
       "      <th>business_id</th>\n",
       "      <th>name</th>\n",
       "      <th>address</th>\n",
       "      <th>city</th>\n",
       "      <th>state</th>\n",
       "      <th>postal_code</th>\n",
       "      <th>latitude</th>\n",
       "      <th>longitude</th>\n",
       "      <th>stars</th>\n",
       "      <th>review_count</th>\n",
       "      <th>attributes</th>\n",
       "      <th>categories</th>\n",
       "    </tr>\n",
       "  </thead>\n",
       "  <tbody>\n",
       "    <tr>\n",
       "      <th>0</th>\n",
       "      <td>NDuUMJfrWk52RA-H-OtrpA</td>\n",
       "      <td>Bolt Fresh Bar</td>\n",
       "      <td>1170 Queen Street W</td>\n",
       "      <td>Toronto</td>\n",
       "      <td>ON</td>\n",
       "      <td>M6J 1J5</td>\n",
       "      <td>43.642889</td>\n",
       "      <td>-79.425429</td>\n",
       "      <td>3.0</td>\n",
       "      <td>57</td>\n",
       "      <td>{'WiFi': \"u'no'\", 'BikeParking': 'True', 'Rest...</td>\n",
       "      <td>Juice Bars &amp; Smoothies, Food, Restaurants, Fas...</td>\n",
       "    </tr>\n",
       "    <tr>\n",
       "      <th>1</th>\n",
       "      <td>SP_YXIEwkFPPl_9anCYmpQ</td>\n",
       "      <td>The Steady Cafe &amp; Bar</td>\n",
       "      <td>1051 Bloor Street W</td>\n",
       "      <td>Toronto</td>\n",
       "      <td>ON</td>\n",
       "      <td>M6H 1M4</td>\n",
       "      <td>43.660494</td>\n",
       "      <td>-79.432099</td>\n",
       "      <td>3.5</td>\n",
       "      <td>29</td>\n",
       "      <td>{'BusinessParking': \"{'garage': False, 'street...</td>\n",
       "      <td>Restaurants, Nightlife, Breakfast &amp; Brunch, Ve...</td>\n",
       "    </tr>\n",
       "    <tr>\n",
       "      <th>2</th>\n",
       "      <td>mlHC2XcU9Bows6cnYEmRgg</td>\n",
       "      <td>Mad Crush Wine Bar</td>\n",
       "      <td>582 College Street</td>\n",
       "      <td>Toronto</td>\n",
       "      <td>ON</td>\n",
       "      <td>M6G 1B3</td>\n",
       "      <td>43.655420</td>\n",
       "      <td>-79.413352</td>\n",
       "      <td>4.0</td>\n",
       "      <td>9</td>\n",
       "      <td>{'Alcohol': \"u'full_bar'\", 'Caters': 'False', ...</td>\n",
       "      <td>Restaurants, Breakfast &amp; Brunch, Bars, Modern ...</td>\n",
       "    </tr>\n",
       "  </tbody>\n",
       "</table>\n",
       "</div>"
      ],
      "text/plain": [
       "              business_id                   name              address  \\\n",
       "0  NDuUMJfrWk52RA-H-OtrpA         Bolt Fresh Bar  1170 Queen Street W   \n",
       "1  SP_YXIEwkFPPl_9anCYmpQ  The Steady Cafe & Bar  1051 Bloor Street W   \n",
       "2  mlHC2XcU9Bows6cnYEmRgg     Mad Crush Wine Bar   582 College Street   \n",
       "\n",
       "      city state postal_code   latitude  longitude  stars  review_count  \\\n",
       "0  Toronto    ON     M6J 1J5  43.642889 -79.425429    3.0            57   \n",
       "1  Toronto    ON     M6H 1M4  43.660494 -79.432099    3.5            29   \n",
       "2  Toronto    ON     M6G 1B3  43.655420 -79.413352    4.0             9   \n",
       "\n",
       "                                          attributes  \\\n",
       "0  {'WiFi': \"u'no'\", 'BikeParking': 'True', 'Rest...   \n",
       "1  {'BusinessParking': \"{'garage': False, 'street...   \n",
       "2  {'Alcohol': \"u'full_bar'\", 'Caters': 'False', ...   \n",
       "\n",
       "                                          categories  \n",
       "0  Juice Bars & Smoothies, Food, Restaurants, Fas...  \n",
       "1  Restaurants, Nightlife, Breakfast & Brunch, Ve...  \n",
       "2  Restaurants, Breakfast & Brunch, Bars, Modern ...  "
      ]
     },
     "execution_count": 6,
     "metadata": {},
     "output_type": "execute_result"
    }
   ],
   "source": [
    "print('Number of businesses: ',df_biz.shape[0])\n",
    "df_biz.head(3)"
   ]
  },
  {
   "cell_type": "markdown",
   "metadata": {},
   "source": [
    "# Collaborative Filtering - Rating Prediction"
   ]
  },
  {
   "cell_type": "code",
   "execution_count": 7,
   "metadata": {},
   "outputs": [],
   "source": [
    "from surprise import SVD, SVDpp, CoClustering, SlopeOne, KNNBasic, KNNWithZScore\n",
    "\n",
    "from surprise import Dataset, Reader, accuracy\n",
    "from surprise.model_selection import cross_validate as surprise_cv, GridSearchCV as surprise_grid_search_cv, train_test_split as surprise_test_train_split\n",
    "\n",
    "df_surprise = df_reviews[['business_id', 'user_id', 'rating']]\n",
    "reader = Reader(rating_scale=(1, 5))\n",
    "\n",
    "data = Dataset.load_from_df(df_surprise, reader)\n",
    "algo = SVD()\n",
    "\n",
    "# surprise_cv(algo, data, measures=['RMSE', 'MAE', 'fcp'], cv=3, verbose=3, n_jobs=3)"
   ]
  },
  {
   "cell_type": "code",
   "execution_count": 8,
   "metadata": {},
   "outputs": [
    {
     "name": "stdout",
     "output_type": "stream",
     "text": [
      "FCP:  0.5838\n",
      "MAE:  0.8153\n",
      "0.5838451463248852 0.8153280573842256\n"
     ]
    }
   ],
   "source": [
    "trainset, testset = surprise_test_train_split(data, test_size=.25)\n",
    "algo.fit(trainset)\n",
    "predictions = algo.test(testset)\n",
    "print(accuracy.fcp(predictions, verbose=True), accuracy.mae(predictions, verbose=True))"
   ]
  },
  {
   "cell_type": "code",
   "execution_count": 9,
   "metadata": {},
   "outputs": [
    {
     "data": {
      "text/plain": [
       "[Prediction(uid='pOEL97ld-FJMKO8Ki8JmYg', iid='TvenTNXyYtMNtED0i2tXfA', r_ui=4.0, est=2.7364947608333687, details={'was_impossible': False}),\n",
       " Prediction(uid='-av1lZI1JDY_RZN2eTMnWg', iid='oTJWmhLj5mhUOK5oCE4wjw', r_ui=2.0, est=3.3914120913804506, details={'was_impossible': False})]"
      ]
     },
     "execution_count": 9,
     "metadata": {},
     "output_type": "execute_result"
    }
   ],
   "source": [
    "predictions[:2]"
   ]
  },
  {
   "cell_type": "markdown",
   "metadata": {},
   "source": [
    "# Baseline Binary Prediction - Collaborative Filtering"
   ]
  },
  {
   "cell_type": "code",
   "execution_count": 10,
   "metadata": {},
   "outputs": [],
   "source": [
    "from networkx.algorithms import bipartite\n",
    "\n",
    "g = nx.Graph()\n",
    "g.add_nodes_from(df_users.user_id.unique(), bipartite=0)\n",
    "g.add_nodes_from(df_biz.business_id.unique(), bipartite=1)\n",
    "\n",
    "g.add_edges_from([(user, business) for user, business\n",
    "                           in zip(df_reviews.user_id, df_reviews.business_id)])"
   ]
  },
  {
   "cell_type": "code",
   "execution_count": 11,
   "metadata": {},
   "outputs": [
    {
     "data": {
      "text/html": [
       "<div>\n",
       "<style scoped>\n",
       "    .dataframe tbody tr th:only-of-type {\n",
       "        vertical-align: middle;\n",
       "    }\n",
       "\n",
       "    .dataframe tbody tr th {\n",
       "        vertical-align: top;\n",
       "    }\n",
       "\n",
       "    .dataframe thead th {\n",
       "        text-align: right;\n",
       "    }\n",
       "</style>\n",
       "<table border=\"1\" class=\"dataframe\">\n",
       "  <thead>\n",
       "    <tr style=\"text-align: right;\">\n",
       "      <th></th>\n",
       "      <th>0</th>\n",
       "      <th>1</th>\n",
       "      <th>2</th>\n",
       "      <th>3</th>\n",
       "      <th>4</th>\n",
       "      <th>5</th>\n",
       "      <th>6</th>\n",
       "      <th>7</th>\n",
       "      <th>8</th>\n",
       "      <th>9</th>\n",
       "      <th>...</th>\n",
       "      <th>7954</th>\n",
       "      <th>7955</th>\n",
       "      <th>7956</th>\n",
       "      <th>7957</th>\n",
       "      <th>7958</th>\n",
       "      <th>7959</th>\n",
       "      <th>7960</th>\n",
       "      <th>7961</th>\n",
       "      <th>7962</th>\n",
       "      <th>user_id</th>\n",
       "    </tr>\n",
       "  </thead>\n",
       "  <tbody>\n",
       "    <tr>\n",
       "      <th>0</th>\n",
       "      <td>0</td>\n",
       "      <td>0</td>\n",
       "      <td>0</td>\n",
       "      <td>0</td>\n",
       "      <td>0</td>\n",
       "      <td>0</td>\n",
       "      <td>0</td>\n",
       "      <td>0</td>\n",
       "      <td>0</td>\n",
       "      <td>0</td>\n",
       "      <td>...</td>\n",
       "      <td>0</td>\n",
       "      <td>0</td>\n",
       "      <td>0</td>\n",
       "      <td>0</td>\n",
       "      <td>0</td>\n",
       "      <td>0</td>\n",
       "      <td>0</td>\n",
       "      <td>0</td>\n",
       "      <td>0</td>\n",
       "      <td>0</td>\n",
       "    </tr>\n",
       "    <tr>\n",
       "      <th>1</th>\n",
       "      <td>0</td>\n",
       "      <td>0</td>\n",
       "      <td>0</td>\n",
       "      <td>0</td>\n",
       "      <td>0</td>\n",
       "      <td>0</td>\n",
       "      <td>0</td>\n",
       "      <td>0</td>\n",
       "      <td>0</td>\n",
       "      <td>0</td>\n",
       "      <td>...</td>\n",
       "      <td>0</td>\n",
       "      <td>0</td>\n",
       "      <td>0</td>\n",
       "      <td>0</td>\n",
       "      <td>0</td>\n",
       "      <td>0</td>\n",
       "      <td>0</td>\n",
       "      <td>0</td>\n",
       "      <td>0</td>\n",
       "      <td>1</td>\n",
       "    </tr>\n",
       "    <tr>\n",
       "      <th>2</th>\n",
       "      <td>0</td>\n",
       "      <td>0</td>\n",
       "      <td>0</td>\n",
       "      <td>0</td>\n",
       "      <td>0</td>\n",
       "      <td>0</td>\n",
       "      <td>0</td>\n",
       "      <td>0</td>\n",
       "      <td>0</td>\n",
       "      <td>0</td>\n",
       "      <td>...</td>\n",
       "      <td>0</td>\n",
       "      <td>0</td>\n",
       "      <td>0</td>\n",
       "      <td>0</td>\n",
       "      <td>0</td>\n",
       "      <td>0</td>\n",
       "      <td>0</td>\n",
       "      <td>0</td>\n",
       "      <td>0</td>\n",
       "      <td>2</td>\n",
       "    </tr>\n",
       "  </tbody>\n",
       "</table>\n",
       "<p>3 rows × 7964 columns</p>\n",
       "</div>"
      ],
      "text/plain": [
       "   0  1  2  3  4  5  6  7  8  9  ...  7954  7955  7956  7957  7958  7959  \\\n",
       "0  0  0  0  0  0  0  0  0  0  0  ...     0     0     0     0     0     0   \n",
       "1  0  0  0  0  0  0  0  0  0  0  ...     0     0     0     0     0     0   \n",
       "2  0  0  0  0  0  0  0  0  0  0  ...     0     0     0     0     0     0   \n",
       "\n",
       "   7960  7961  7962  user_id  \n",
       "0     0     0     0        0  \n",
       "1     0     0     0        1  \n",
       "2     0     0     0        2  \n",
       "\n",
       "[3 rows x 7964 columns]"
      ]
     },
     "execution_count": 11,
     "metadata": {},
     "output_type": "execute_result"
    }
   ],
   "source": [
    "binary_data = bipartite.biadjacency_matrix(g, df_users.user_id.unique()).todense()\n",
    "df_binary = pd.DataFrame(binary_data)\n",
    "df_binary['user_id'] = df_binary.index.values\n",
    "df_binary.head(3)"
   ]
  },
  {
   "cell_type": "code",
   "execution_count": 12,
   "metadata": {},
   "outputs": [],
   "source": [
    "df_binary = pd.melt(df_binary, id_vars='user_id')\n",
    "df_binary.rename({'variable':'business_id', 'value':'has_reviewed'}, axis='columns', inplace=True)"
   ]
  },
  {
   "cell_type": "code",
   "execution_count": 13,
   "metadata": {},
   "outputs": [
    {
     "data": {
      "text/html": [
       "<div>\n",
       "<style scoped>\n",
       "    .dataframe tbody tr th:only-of-type {\n",
       "        vertical-align: middle;\n",
       "    }\n",
       "\n",
       "    .dataframe tbody tr th {\n",
       "        vertical-align: top;\n",
       "    }\n",
       "\n",
       "    .dataframe thead th {\n",
       "        text-align: right;\n",
       "    }\n",
       "</style>\n",
       "<table border=\"1\" class=\"dataframe\">\n",
       "  <thead>\n",
       "    <tr style=\"text-align: right;\">\n",
       "      <th></th>\n",
       "      <th>user_id</th>\n",
       "      <th>business_id</th>\n",
       "      <th>has_reviewed</th>\n",
       "    </tr>\n",
       "  </thead>\n",
       "  <tbody>\n",
       "    <tr>\n",
       "      <th>0</th>\n",
       "      <td>0</td>\n",
       "      <td>0</td>\n",
       "      <td>0</td>\n",
       "    </tr>\n",
       "    <tr>\n",
       "      <th>1</th>\n",
       "      <td>1</td>\n",
       "      <td>0</td>\n",
       "      <td>0</td>\n",
       "    </tr>\n",
       "    <tr>\n",
       "      <th>2</th>\n",
       "      <td>2</td>\n",
       "      <td>0</td>\n",
       "      <td>0</td>\n",
       "    </tr>\n",
       "    <tr>\n",
       "      <th>3</th>\n",
       "      <td>3</td>\n",
       "      <td>0</td>\n",
       "      <td>0</td>\n",
       "    </tr>\n",
       "    <tr>\n",
       "      <th>4</th>\n",
       "      <td>4</td>\n",
       "      <td>0</td>\n",
       "      <td>0</td>\n",
       "    </tr>\n",
       "    <tr>\n",
       "      <th>...</th>\n",
       "      <td>...</td>\n",
       "      <td>...</td>\n",
       "      <td>...</td>\n",
       "    </tr>\n",
       "    <tr>\n",
       "      <th>149736247</th>\n",
       "      <td>18799</td>\n",
       "      <td>7962</td>\n",
       "      <td>0</td>\n",
       "    </tr>\n",
       "    <tr>\n",
       "      <th>149736248</th>\n",
       "      <td>18800</td>\n",
       "      <td>7962</td>\n",
       "      <td>0</td>\n",
       "    </tr>\n",
       "    <tr>\n",
       "      <th>149736249</th>\n",
       "      <td>18801</td>\n",
       "      <td>7962</td>\n",
       "      <td>0</td>\n",
       "    </tr>\n",
       "    <tr>\n",
       "      <th>149736250</th>\n",
       "      <td>18802</td>\n",
       "      <td>7962</td>\n",
       "      <td>0</td>\n",
       "    </tr>\n",
       "    <tr>\n",
       "      <th>149736251</th>\n",
       "      <td>18803</td>\n",
       "      <td>7962</td>\n",
       "      <td>0</td>\n",
       "    </tr>\n",
       "  </tbody>\n",
       "</table>\n",
       "<p>149736252 rows × 3 columns</p>\n",
       "</div>"
      ],
      "text/plain": [
       "           user_id business_id  has_reviewed\n",
       "0                0           0             0\n",
       "1                1           0             0\n",
       "2                2           0             0\n",
       "3                3           0             0\n",
       "4                4           0             0\n",
       "...            ...         ...           ...\n",
       "149736247    18799        7962             0\n",
       "149736248    18800        7962             0\n",
       "149736249    18801        7962             0\n",
       "149736250    18802        7962             0\n",
       "149736251    18803        7962             0\n",
       "\n",
       "[149736252 rows x 3 columns]"
      ]
     },
     "execution_count": 13,
     "metadata": {},
     "output_type": "execute_result"
    }
   ],
   "source": [
    "df_binary"
   ]
  },
  {
   "cell_type": "code",
   "execution_count": 14,
   "metadata": {},
   "outputs": [],
   "source": [
    "def negative_sampling(df, ratio_zeros_on_ones):\n",
    "    df_zeros = df_binary.loc[df_binary['has_reviewed'] == 0]\n",
    "    df_ones = df_binary.loc[df_binary['has_reviewed'] != 0]\n",
    "    df_zeros = df_zeros.sample(n=int(df_ones.shape[0]*ratio_zeros_on_ones))\n",
    "    return pd.concat([df_zeros, df_ones]).sample(frac=1).reset_index(drop=True)"
   ]
  },
  {
   "cell_type": "code",
   "execution_count": 15,
   "metadata": {},
   "outputs": [],
   "source": [
    "reader = Reader(rating_scale=(0, 1))"
   ]
  },
  {
   "cell_type": "raw",
   "metadata": {},
   "source": [
    "results = []\n",
    "\n",
    "for ratio in [1,3,10]:\n",
    "    print('ratio: {}'.format(ratio))\n",
    "    data = negative_sampling(df_binary, ratio)\n",
    "    data = Dataset.load_from_df(data, reader)\n",
    "    trainset, testset = surprise_test_train_split(data, test_size=0.25)\n",
    "    for algo_ in [SVD, SVDpp, CoClustering, SlopeOne, KNNBasic, KNNWithZScore]:\n",
    "        print('algo: {}'.format(algo_))\n",
    "        algo = algo_()\n",
    "        algo.fit(trainset)\n",
    "        predictions = algo.test(testset)\n",
    "        results.append({'algo':algo, 'ratio':ratio, 'fcp':accuracy.fcp(predictions), 'mae':accuracy.mae(predictions)})\n",
    "\n",
    "pd.DataFrame(results)"
   ]
  },
  {
   "cell_type": "raw",
   "metadata": {},
   "source": [
    "pd.DataFrame(results).to_csv('results.csv')"
   ]
  },
  {
   "cell_type": "code",
   "execution_count": 16,
   "metadata": {},
   "outputs": [
    {
     "data": {
      "text/html": [
       "<div>\n",
       "<style scoped>\n",
       "    .dataframe tbody tr th:only-of-type {\n",
       "        vertical-align: middle;\n",
       "    }\n",
       "\n",
       "    .dataframe tbody tr th {\n",
       "        vertical-align: top;\n",
       "    }\n",
       "\n",
       "    .dataframe thead th {\n",
       "        text-align: right;\n",
       "    }\n",
       "</style>\n",
       "<table border=\"1\" class=\"dataframe\">\n",
       "  <thead>\n",
       "    <tr style=\"text-align: right;\">\n",
       "      <th></th>\n",
       "      <th>Unnamed: 0</th>\n",
       "      <th>algo</th>\n",
       "      <th>ratio</th>\n",
       "      <th>fcp</th>\n",
       "      <th>mae</th>\n",
       "    </tr>\n",
       "  </thead>\n",
       "  <tbody>\n",
       "    <tr>\n",
       "      <th>0</th>\n",
       "      <td>0</td>\n",
       "      <td>&lt;surprise.prediction_algorithms.matrix_factori...</td>\n",
       "      <td>1</td>\n",
       "      <td>0.685010</td>\n",
       "      <td>0.299105</td>\n",
       "    </tr>\n",
       "    <tr>\n",
       "      <th>1</th>\n",
       "      <td>1</td>\n",
       "      <td>&lt;surprise.prediction_algorithms.matrix_factori...</td>\n",
       "      <td>1</td>\n",
       "      <td>0.693832</td>\n",
       "      <td>0.287712</td>\n",
       "    </tr>\n",
       "    <tr>\n",
       "      <th>2</th>\n",
       "      <td>2</td>\n",
       "      <td>&lt;surprise.prediction_algorithms.co_clustering....</td>\n",
       "      <td>1</td>\n",
       "      <td>0.662593</td>\n",
       "      <td>0.254488</td>\n",
       "    </tr>\n",
       "    <tr>\n",
       "      <th>3</th>\n",
       "      <td>3</td>\n",
       "      <td>&lt;surprise.prediction_algorithms.slope_one.Slop...</td>\n",
       "      <td>1</td>\n",
       "      <td>0.671566</td>\n",
       "      <td>0.320343</td>\n",
       "    </tr>\n",
       "    <tr>\n",
       "      <th>4</th>\n",
       "      <td>4</td>\n",
       "      <td>&lt;surprise.prediction_algorithms.knns.KNNBasic ...</td>\n",
       "      <td>1</td>\n",
       "      <td>0.696282</td>\n",
       "      <td>0.366031</td>\n",
       "    </tr>\n",
       "    <tr>\n",
       "      <th>5</th>\n",
       "      <td>5</td>\n",
       "      <td>&lt;surprise.prediction_algorithms.knns.KNNWithZS...</td>\n",
       "      <td>1</td>\n",
       "      <td>0.687305</td>\n",
       "      <td>0.295729</td>\n",
       "    </tr>\n",
       "    <tr>\n",
       "      <th>6</th>\n",
       "      <td>6</td>\n",
       "      <td>&lt;surprise.prediction_algorithms.matrix_factori...</td>\n",
       "      <td>3</td>\n",
       "      <td>0.736513</td>\n",
       "      <td>0.236169</td>\n",
       "    </tr>\n",
       "    <tr>\n",
       "      <th>7</th>\n",
       "      <td>7</td>\n",
       "      <td>&lt;surprise.prediction_algorithms.matrix_factori...</td>\n",
       "      <td>3</td>\n",
       "      <td>0.753481</td>\n",
       "      <td>0.229350</td>\n",
       "    </tr>\n",
       "    <tr>\n",
       "      <th>8</th>\n",
       "      <td>8</td>\n",
       "      <td>&lt;surprise.prediction_algorithms.co_clustering....</td>\n",
       "      <td>3</td>\n",
       "      <td>0.738933</td>\n",
       "      <td>0.208497</td>\n",
       "    </tr>\n",
       "    <tr>\n",
       "      <th>9</th>\n",
       "      <td>9</td>\n",
       "      <td>&lt;surprise.prediction_algorithms.slope_one.Slop...</td>\n",
       "      <td>3</td>\n",
       "      <td>0.742451</td>\n",
       "      <td>0.226969</td>\n",
       "    </tr>\n",
       "    <tr>\n",
       "      <th>10</th>\n",
       "      <td>10</td>\n",
       "      <td>&lt;surprise.prediction_algorithms.knns.KNNBasic ...</td>\n",
       "      <td>3</td>\n",
       "      <td>0.771717</td>\n",
       "      <td>0.290056</td>\n",
       "    </tr>\n",
       "    <tr>\n",
       "      <th>11</th>\n",
       "      <td>11</td>\n",
       "      <td>&lt;surprise.prediction_algorithms.knns.KNNWithZS...</td>\n",
       "      <td>3</td>\n",
       "      <td>0.760566</td>\n",
       "      <td>0.209792</td>\n",
       "    </tr>\n",
       "    <tr>\n",
       "      <th>12</th>\n",
       "      <td>12</td>\n",
       "      <td>&lt;surprise.prediction_algorithms.matrix_factori...</td>\n",
       "      <td>10</td>\n",
       "      <td>0.755097</td>\n",
       "      <td>0.132131</td>\n",
       "    </tr>\n",
       "    <tr>\n",
       "      <th>13</th>\n",
       "      <td>13</td>\n",
       "      <td>&lt;surprise.prediction_algorithms.matrix_factori...</td>\n",
       "      <td>10</td>\n",
       "      <td>0.785708</td>\n",
       "      <td>0.126960</td>\n",
       "    </tr>\n",
       "    <tr>\n",
       "      <th>14</th>\n",
       "      <td>14</td>\n",
       "      <td>&lt;surprise.prediction_algorithms.co_clustering....</td>\n",
       "      <td>10</td>\n",
       "      <td>0.786896</td>\n",
       "      <td>0.113338</td>\n",
       "    </tr>\n",
       "    <tr>\n",
       "      <th>15</th>\n",
       "      <td>15</td>\n",
       "      <td>&lt;surprise.prediction_algorithms.slope_one.Slop...</td>\n",
       "      <td>10</td>\n",
       "      <td>0.790496</td>\n",
       "      <td>0.127347</td>\n",
       "    </tr>\n",
       "    <tr>\n",
       "      <th>16</th>\n",
       "      <td>16</td>\n",
       "      <td>&lt;surprise.prediction_algorithms.knns.KNNBasic ...</td>\n",
       "      <td>10</td>\n",
       "      <td>0.759992</td>\n",
       "      <td>0.127394</td>\n",
       "    </tr>\n",
       "    <tr>\n",
       "      <th>17</th>\n",
       "      <td>17</td>\n",
       "      <td>&lt;surprise.prediction_algorithms.knns.KNNWithZS...</td>\n",
       "      <td>10</td>\n",
       "      <td>0.775873</td>\n",
       "      <td>0.119035</td>\n",
       "    </tr>\n",
       "  </tbody>\n",
       "</table>\n",
       "</div>"
      ],
      "text/plain": [
       "    Unnamed: 0                                               algo  ratio  \\\n",
       "0            0  <surprise.prediction_algorithms.matrix_factori...      1   \n",
       "1            1  <surprise.prediction_algorithms.matrix_factori...      1   \n",
       "2            2  <surprise.prediction_algorithms.co_clustering....      1   \n",
       "3            3  <surprise.prediction_algorithms.slope_one.Slop...      1   \n",
       "4            4  <surprise.prediction_algorithms.knns.KNNBasic ...      1   \n",
       "5            5  <surprise.prediction_algorithms.knns.KNNWithZS...      1   \n",
       "6            6  <surprise.prediction_algorithms.matrix_factori...      3   \n",
       "7            7  <surprise.prediction_algorithms.matrix_factori...      3   \n",
       "8            8  <surprise.prediction_algorithms.co_clustering....      3   \n",
       "9            9  <surprise.prediction_algorithms.slope_one.Slop...      3   \n",
       "10          10  <surprise.prediction_algorithms.knns.KNNBasic ...      3   \n",
       "11          11  <surprise.prediction_algorithms.knns.KNNWithZS...      3   \n",
       "12          12  <surprise.prediction_algorithms.matrix_factori...     10   \n",
       "13          13  <surprise.prediction_algorithms.matrix_factori...     10   \n",
       "14          14  <surprise.prediction_algorithms.co_clustering....     10   \n",
       "15          15  <surprise.prediction_algorithms.slope_one.Slop...     10   \n",
       "16          16  <surprise.prediction_algorithms.knns.KNNBasic ...     10   \n",
       "17          17  <surprise.prediction_algorithms.knns.KNNWithZS...     10   \n",
       "\n",
       "         fcp       mae  \n",
       "0   0.685010  0.299105  \n",
       "1   0.693832  0.287712  \n",
       "2   0.662593  0.254488  \n",
       "3   0.671566  0.320343  \n",
       "4   0.696282  0.366031  \n",
       "5   0.687305  0.295729  \n",
       "6   0.736513  0.236169  \n",
       "7   0.753481  0.229350  \n",
       "8   0.738933  0.208497  \n",
       "9   0.742451  0.226969  \n",
       "10  0.771717  0.290056  \n",
       "11  0.760566  0.209792  \n",
       "12  0.755097  0.132131  \n",
       "13  0.785708  0.126960  \n",
       "14  0.786896  0.113338  \n",
       "15  0.790496  0.127347  \n",
       "16  0.759992  0.127394  \n",
       "17  0.775873  0.119035  "
      ]
     },
     "execution_count": 16,
     "metadata": {},
     "output_type": "execute_result"
    }
   ],
   "source": [
    "pd.read_csv('results_grid_search_1.csv')"
   ]
  },
  {
   "cell_type": "code",
   "execution_count": 17,
   "metadata": {},
   "outputs": [
    {
     "name": "stdout",
     "output_type": "stream",
     "text": [
      "(441456, 3)\n"
     ]
    }
   ],
   "source": [
    "data = negative_sampling(df_binary, 1)\n",
    "print(data.shape)\n",
    "data = Dataset.load_from_df(data, reader)"
   ]
  },
  {
   "cell_type": "raw",
   "metadata": {},
   "source": [
    "param_grid = {'n_factors': [15, 20, 25],\n",
    "              'n_epochs': [20, 30],\n",
    "              'init_mean':[0.5],\n",
    "              'lr_all':[0.007],\n",
    "              'reg_all': [0.02]}\n",
    "\n",
    "\n",
    "\n",
    "grid = surprise_grid_search_cv(SVDpp, \n",
    "                        param_grid, \n",
    "                        measures=['mae','fcp'], \n",
    "                        cv=3, \n",
    "                        return_train_measures=True, \n",
    "                        n_jobs=-1, \n",
    "                        joblib_verbose=10)\n",
    "\n",
    "grid.fit(data)\n",
    "pd.DataFrame(grid.cv_results).to_csv('results_grid_search_3.csv')"
   ]
  },
  {
   "cell_type": "raw",
   "metadata": {},
   "source": [
    "pd.read_csv('results_grid_search_3.csv')[['param_n_factors', 'param_n_epochs', 'param_init_mean', 'param_lr_all',\n",
    "       'param_reg_all','mean_test_mae', 'mean_test_fcp', 'rank_test_mae']]"
   ]
  },
  {
   "cell_type": "code",
   "execution_count": 18,
   "metadata": {},
   "outputs": [
    {
     "data": {
      "text/plain": [
       "Index(['Unnamed: 0', 'split0_test_mae', 'split0_train_mae', 'split1_test_mae',\n",
       "       'split1_train_mae', 'split2_test_mae', 'split2_train_mae',\n",
       "       'split3_test_mae', 'split3_train_mae', 'split4_test_mae',\n",
       "       'split4_train_mae', 'mean_test_mae', 'std_test_mae', 'mean_train_mae',\n",
       "       'std_train_mae', 'rank_test_mae', 'split0_test_fcp', 'split0_train_fcp',\n",
       "       'split1_test_fcp', 'split1_train_fcp', 'split2_test_fcp',\n",
       "       'split2_train_fcp', 'split3_test_fcp', 'split3_train_fcp',\n",
       "       'split4_test_fcp', 'split4_train_fcp', 'mean_test_fcp', 'std_test_fcp',\n",
       "       'mean_train_fcp', 'std_train_fcp', 'rank_test_fcp', 'mean_fit_time',\n",
       "       'std_fit_time', 'mean_test_time', 'std_test_time', 'params',\n",
       "       'param_n_factors', 'param_n_epochs', 'param_init_mean', 'param_lr_all',\n",
       "       'param_reg_all'],\n",
       "      dtype='object')"
      ]
     },
     "execution_count": 18,
     "metadata": {},
     "output_type": "execute_result"
    }
   ],
   "source": [
    "pd.read_csv('results_grid_search_2.csv').columns"
   ]
  },
  {
   "cell_type": "code",
   "execution_count": 19,
   "metadata": {},
   "outputs": [
    {
     "name": "stdout",
     "output_type": "stream",
     "text": [
      "FCP:  0.6846\n",
      "MAE:  0.2978\n",
      "0.6846371738042863 0.29783067223598214\n"
     ]
    }
   ],
   "source": [
    "algo = SVD()\n",
    "\n",
    "trainset, testset = surprise_test_train_split(data, test_size=.25)\n",
    "algo.fit(trainset)\n",
    "\n",
    "predictions = algo.test(testset)\n",
    "print(accuracy.fcp(predictions, verbose=True), accuracy.mae(predictions, verbose=True))"
   ]
  },
  {
   "cell_type": "code",
   "execution_count": 20,
   "metadata": {},
   "outputs": [
    {
     "ename": "ModuleNotFoundError",
     "evalue": "No module named 'communities'",
     "output_type": "error",
     "traceback": [
      "\u001b[0;31m---------------------------------------------------------------------------\u001b[0m",
      "\u001b[0;31mModuleNotFoundError\u001b[0m                       Traceback (most recent call last)",
      "\u001b[0;32m<ipython-input-20-70c15ebf03b4>\u001b[0m in \u001b[0;36m<module>\u001b[0;34m\u001b[0m\n\u001b[0;32m----> 1\u001b[0;31m \u001b[0;32mfrom\u001b[0m \u001b[0mhelpers\u001b[0m \u001b[0;32mimport\u001b[0m \u001b[0mget_top_n\u001b[0m\u001b[0;34m\u001b[0m\u001b[0;34m\u001b[0m\u001b[0m\n\u001b[0m\u001b[1;32m      2\u001b[0m \u001b[0;34m\u001b[0m\u001b[0m\n\u001b[1;32m      3\u001b[0m \u001b[0mtop_pred\u001b[0m \u001b[0;34m=\u001b[0m \u001b[0mget_top_n\u001b[0m\u001b[0;34m(\u001b[0m\u001b[0mpredictions\u001b[0m\u001b[0;34m,\u001b[0m \u001b[0mn\u001b[0m\u001b[0;34m=\u001b[0m\u001b[0;36m1\u001b[0m\u001b[0;34m)\u001b[0m\u001b[0;34m\u001b[0m\u001b[0;34m\u001b[0m\u001b[0m\n\u001b[1;32m      4\u001b[0m \u001b[0muser_ids\u001b[0m \u001b[0;34m=\u001b[0m \u001b[0mlist\u001b[0m\u001b[0;34m(\u001b[0m\u001b[0mtop_pred\u001b[0m\u001b[0;34m.\u001b[0m\u001b[0mkeys\u001b[0m\u001b[0;34m(\u001b[0m\u001b[0;34m)\u001b[0m\u001b[0;34m)\u001b[0m\u001b[0;34m\u001b[0m\u001b[0;34m\u001b[0m\u001b[0m\n\u001b[1;32m      5\u001b[0m \u001b[0mbusiness_ids\u001b[0m \u001b[0;34m=\u001b[0m \u001b[0;34m[\u001b[0m\u001b[0mtop_pred\u001b[0m\u001b[0;34m[\u001b[0m\u001b[0;36m0\u001b[0m\u001b[0;34m]\u001b[0m\u001b[0;34m[\u001b[0m\u001b[0;36m0\u001b[0m\u001b[0;34m]\u001b[0m \u001b[0;32mfor\u001b[0m \u001b[0mtop_pred\u001b[0m \u001b[0;32min\u001b[0m \u001b[0mlist\u001b[0m\u001b[0;34m(\u001b[0m\u001b[0mtop_pred\u001b[0m\u001b[0;34m.\u001b[0m\u001b[0mvalues\u001b[0m\u001b[0;34m(\u001b[0m\u001b[0;34m)\u001b[0m\u001b[0;34m)\u001b[0m\u001b[0;34m]\u001b[0m\u001b[0;34m\u001b[0m\u001b[0;34m\u001b[0m\u001b[0m\n",
      "\u001b[0;32m~/Documents/DSBA/CS/S2/NGSA/Project/Network_Science_Yelp_Dataset/helpers.py\u001b[0m in \u001b[0;36m<module>\u001b[0;34m\u001b[0m\n\u001b[1;32m      6\u001b[0m \u001b[0;32mfrom\u001b[0m \u001b[0mcollections\u001b[0m \u001b[0;32mimport\u001b[0m \u001b[0mdefaultdict\u001b[0m\u001b[0;34m\u001b[0m\u001b[0;34m\u001b[0m\u001b[0m\n\u001b[1;32m      7\u001b[0m \u001b[0;32mfrom\u001b[0m \u001b[0mcollections\u001b[0m \u001b[0;32mimport\u001b[0m \u001b[0mCounter\u001b[0m\u001b[0;34m\u001b[0m\u001b[0;34m\u001b[0m\u001b[0m\n\u001b[0;32m----> 8\u001b[0;31m \u001b[0;32mimport\u001b[0m \u001b[0mcommunities\u001b[0m\u001b[0;34m\u001b[0m\u001b[0;34m\u001b[0m\u001b[0m\n\u001b[0m\u001b[1;32m      9\u001b[0m \u001b[0;34m\u001b[0m\u001b[0m\n\u001b[1;32m     10\u001b[0m \u001b[0;32mdef\u001b[0m \u001b[0msplit_train_validation_test\u001b[0m\u001b[0;34m(\u001b[0m\u001b[0mtrain_size\u001b[0m\u001b[0;34m:\u001b[0m \u001b[0mfloat\u001b[0m \u001b[0;34m=\u001b[0m \u001b[0;36m.7\u001b[0m\u001b[0;34m,\u001b[0m \u001b[0mvalidation_size\u001b[0m\u001b[0;34m:\u001b[0m \u001b[0mfloat\u001b[0m \u001b[0;34m=\u001b[0m \u001b[0;36m.15\u001b[0m\u001b[0;34m)\u001b[0m\u001b[0;34m:\u001b[0m\u001b[0;34m\u001b[0m\u001b[0;34m\u001b[0m\u001b[0m\n",
      "\u001b[0;31mModuleNotFoundError\u001b[0m: No module named 'communities'"
     ]
    }
   ],
   "source": [
    "from helpers import get_top_n\n",
    "\n",
    "top_pred = get_top_n(predictions, n=1)\n",
    "user_ids = list(top_pred.keys())\n",
    "business_ids = [top_pred[0][0] for top_pred in list(top_pred.values())]"
   ]
  },
  {
   "cell_type": "code",
   "execution_count": null,
   "metadata": {},
   "outputs": [],
   "source": [
    "df_top_pred_test = pd.DataFrame({'user_id':user_ids, 'business_id':business_ids})\n",
    "df_top_pred_test.head(3)"
   ]
  },
  {
   "cell_type": "code",
   "execution_count": null,
   "metadata": {},
   "outputs": [],
   "source": [
    "df_top_pred_test = pd.merge(df_top_pred_test,df_binary, how='left', on=['user_id','business_id'])\n",
    "df_top_pred_test.head(3)\n"
   ]
  },
  {
   "cell_type": "code",
   "execution_count": null,
   "metadata": {},
   "outputs": [],
   "source": [
    "print('precision of top 1 recommender: {}'.format(df_top_pred_test['has_reviewed'].mean()))\n",
    "print('Note that a random recommender would have a precision of : {}'.format(df_binary['has_reviewed'].mean()))"
   ]
  },
  {
   "cell_type": "markdown",
   "metadata": {},
   "source": [
    "# Binary Prediction - Using Graph Analysis\n",
    "- Community detection\n",
    "    - User --[Friends]-->User\n",
    "    - User --[Reviewed]-->Restaurant\n",
    "    - User --[Friends]-->User & User --[Reviewed]-->Restaurant\n",
    "    - User --[distance with reviewed restaurant using geolocalisation]-->Reastaurant\n",
    "- Centrality measures on restaurants\n"
   ]
  },
  {
   "cell_type": "markdown",
   "metadata": {},
   "source": [
    "### Small focus on coordinates"
   ]
  },
  {
   "cell_type": "code",
   "execution_count": null,
   "metadata": {},
   "outputs": [],
   "source": [
    "coordinates = df_biz[['latitude', 'longitude']]\n",
    "coordinates.plot.scatter('latitude','longitude')"
   ]
  },
  {
   "cell_type": "code",
   "execution_count": null,
   "metadata": {},
   "outputs": [],
   "source": [
    "from sklearn.cluster import KMeans\n",
    "\n",
    "clf = KMeans(n_clusters=10)\n",
    "clf.fit(coordinates)\n",
    "coordinates_clusters = clf.labels_\n",
    "plt.scatter(x = coordinates['latitude'], y = coordinates['longitude'], c=coordinates_clusters)"
   ]
  },
  {
   "cell_type": "markdown",
   "metadata": {},
   "source": [
    "# Friends Graph Clustering"
   ]
  },
  {
   "cell_type": "code",
   "execution_count": null,
   "metadata": {},
   "outputs": [],
   "source": [
    "from graph import *\n",
    "\n",
    "g_friends = make_friends_graph()"
   ]
  },
  {
   "cell_type": "code",
   "execution_count": null,
   "metadata": {},
   "outputs": [],
   "source": [
    "import itertools\n",
    "from networkx.algorithms.community.centrality import girvan_newman\n",
    "partitions_gn = girvan_newman(g_friends)"
   ]
  },
  {
   "cell_type": "code",
   "execution_count": null,
   "metadata": {},
   "outputs": [],
   "source": [
    "from helpers import plot_dendrogram\n",
    "plot_dendrogram(g_friends, iter([partition for partition in partitions_gn][:10]))"
   ]
  },
  {
   "cell_type": "code",
   "execution_count": null,
   "metadata": {},
   "outputs": [],
   "source": [
    "from graph import *\n",
    "g_friends = make_friends_graph()\n",
    "g_bipartite = make_user_business_bipartite_graph(weighted=False, minimum_rating=4)\n",
    "g_full = make_frienships_and_reviews_graph(weight_ratio=1, minimum_rating=0)"
   ]
  },
  {
   "cell_type": "code",
   "execution_count": null,
   "metadata": {},
   "outputs": [],
   "source": [
    "x = []\n",
    "y = []\n",
    "for i, part in ennumerate(sorted(partitions_gn[10],reverse=True, key=len)):\n",
    "    x.append(i)\n",
    "    y.append(len(part))\n",
    "y = y / sum(y)\n",
    "    \n",
    "plt.scatter(x=x, y=y)\n",
    "plt.show()"
   ]
  },
  {
   "cell_type": "code",
   "execution_count": null,
   "metadata": {},
   "outputs": [],
   "source": [
    "users = []\n",
    "communities = []\n",
    "for i, part in ennumerate(sorted(partitions_gn[10],reverse=True, key=len)):\n",
    "    for user in part:\n",
    "        users.append(user)\n",
    "        communities.append(i)\n",
    "        \n",
    "\n"
   ]
  }
 ],
 "metadata": {
  "kernelspec": {
   "display_name": "Python 3",
   "language": "python",
   "name": "python3"
  },
  "language_info": {
   "codemirror_mode": {
    "name": "ipython",
    "version": 3
   },
   "file_extension": ".py",
   "mimetype": "text/x-python",
   "name": "python",
   "nbconvert_exporter": "python",
   "pygments_lexer": "ipython3",
   "version": "3.7.4"
  }
 },
 "nbformat": 4,
 "nbformat_minor": 4
}
