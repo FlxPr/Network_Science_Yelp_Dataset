{
 "cells": [
  {
   "cell_type": "code",
   "execution_count": null,
   "metadata": {},
   "outputs": [],
   "source": [
    "import matplotlib.pyplot as plt\n",
    "\n",
    "import igraph as ig\n",
    "import networkx as nx\n",
    "import pandas as pd\n",
    "import numpy as np\n",
    "import re\n",
    "import swifter\n",
    "\n",
    "from sklearn import preprocessing, model_selection\n",
    "from sklearn.model_selection import cross_validate\n",
    "import lightgbm as lgbm\n",
    "\n",
    "from settings import file_names"
   ]
  },
  {
   "cell_type": "markdown",
   "metadata": {},
   "source": [
    "# Datasets"
   ]
  },
  {
   "cell_type": "code",
   "execution_count": null,
   "metadata": {},
   "outputs": [],
   "source": [
    "df_reviews = pd.read_csv(file_names['toronto_reviews_without_text'])\n",
    "df_users = pd.read_csv(file_names['toronto_users'])\n",
    "df_biz = pd.read_csv(file_names['toronto_businesses'])"
   ]
  },
  {
   "cell_type": "code",
   "execution_count": null,
   "metadata": {},
   "outputs": [],
   "source": [
    "df_tips = pd.read_json(file_names['tip'], encoding='utf-8', lines=True)\n",
    "df_tips = df_tips.loc[df_tips['user_id'].isin(df_users.user_id.unique()) & df_tips['business_id'].isin(df_biz.business_id.unique())]\n",
    "print('Number of Tips: ', df_tips.shape[0])\n",
    "df_tips.head(3)"
   ]
  },
  {
   "cell_type": "code",
   "execution_count": null,
   "metadata": {},
   "outputs": [],
   "source": [
    "print('Number of reviews: ',df_reviews.shape[0])\n",
    "print('Ratings describe: ', df_reviews['rating'].describe())\n",
    "df_reviews.head(3)\n",
    "\n"
   ]
  },
  {
   "cell_type": "code",
   "execution_count": null,
   "metadata": {},
   "outputs": [],
   "source": [
    "print('Number of users: ',df_users.shape[0])\n",
    "df_users.head(3)"
   ]
  },
  {
   "cell_type": "code",
   "execution_count": null,
   "metadata": {},
   "outputs": [],
   "source": [
    "print('Number of businesses: ',df_biz.shape[0])\n",
    "df_biz.head(3)"
   ]
  },
  {
   "cell_type": "markdown",
   "metadata": {},
   "source": [
    "### Small focus on coordinates --> We can use KMeans to keep track of the location"
   ]
  },
  {
   "cell_type": "code",
   "execution_count": null,
   "metadata": {},
   "outputs": [],
   "source": [
    "coordinates = df_biz[['latitude', 'longitude']]\n",
    "coordinates.plot.scatter('latitude','longitude')"
   ]
  },
  {
   "cell_type": "code",
   "execution_count": null,
   "metadata": {},
   "outputs": [],
   "source": [
    "from sklearn.cluster import KMeans\n",
    "\n",
    "clf = KMeans(n_clusters=10)\n",
    "clf.fit(coordinates)\n",
    "coordinates_clusters = clf.labels_\n",
    "plt.scatter(x = coordinates['latitude'], y = coordinates['longitude'], c=coordinates_clusters)"
   ]
  },
  {
   "cell_type": "markdown",
   "metadata": {},
   "source": [
    "# Collaborative Filtering - Rating Prediction"
   ]
  },
  {
   "cell_type": "code",
   "execution_count": null,
   "metadata": {},
   "outputs": [],
   "source": [
    "from surprise import SVD, SVDpp, CoClustering, SlopeOne, KNNBasic, KNNWithZScore\n",
    "\n",
    "from surprise import Dataset, Reader, accuracy\n",
    "from surprise.model_selection import cross_validate as surprise_cv, GridSearchCV as surprise_gris_search_cv, train_test_split as surprise_test_train_split\n",
    "\n",
    "df_surprise = df_reviews[['business_id', 'user_id', 'rating']]\n",
    "reader = Reader(rating_scale=(1, 5))\n",
    "\n",
    "data = Dataset.load_from_df(df_surprise, reader)\n",
    "algo = SVD()\n",
    "\n",
    "surprise_cv(algo, data, measures=['RMSE', 'MAE', 'fcp'], cv=5, verbose=3, n_jobs=3)"
   ]
  },
  {
   "cell_type": "code",
   "execution_count": null,
   "metadata": {},
   "outputs": [],
   "source": [
    "trainset, testset = surprise_test_train_split(data, test_size=.25)\n",
    "algo.fit(trainset)\n",
    "predictions = algo.test(testset)\n",
    "print(accuracy.fcp(predictions, verbose=True), accuracy.mae(predictions, verbose=True))"
   ]
  },
  {
   "cell_type": "code",
   "execution_count": null,
   "metadata": {},
   "outputs": [],
   "source": [
    "predictions[:2]"
   ]
  },
  {
   "cell_type": "markdown",
   "metadata": {},
   "source": [
    "# Baseline Binary Prediction - Collaborative Filtering"
   ]
  },
  {
   "cell_type": "code",
   "execution_count": null,
   "metadata": {},
   "outputs": [],
   "source": [
    "from networkx.algorithms import bipartite\n",
    "\n",
    "g = nx.Graph()\n",
    "g.add_nodes_from(df_users.user_id.unique(), bipartite=0)\n",
    "g.add_nodes_from(df_biz.business_id.unique(), bipartite=1)\n",
    "\n",
    "g.add_edges_from([(user, business) for user, business\n",
    "                           in zip(df_reviews.user_id, df_reviews.business_id)])"
   ]
  },
  {
   "cell_type": "code",
   "execution_count": null,
   "metadata": {},
   "outputs": [],
   "source": [
    "binary_data = bipartite.biadjacency_matrix(g, df_users.user_id.unique()).todense()\n",
    "df_binary = pd.DataFrame(binary_data)\n",
    "df_binary['user_id'] = df_binary.index.values\n",
    "df_binary.head(3)"
   ]
  },
  {
   "cell_type": "code",
   "execution_count": null,
   "metadata": {},
   "outputs": [],
   "source": [
    "df_binary = pd.melt(df_binary, id_vars='user_id')\n",
    "df_binary.rename({'variable':'business_id', 'value':'has_reviewed'}, axis='columns', inplace=True)"
   ]
  },
  {
   "cell_type": "code",
   "execution_count": null,
   "metadata": {},
   "outputs": [],
   "source": [
    "df_binary"
   ]
  },
  {
   "cell_type": "code",
   "execution_count": null,
   "metadata": {},
   "outputs": [],
   "source": [
    "def negative_sampling(df, ratio_zeros_on_ones):\n",
    "    df_zeros = df_binary.loc[df_binary['has_reviewed'] == 0]\n",
    "    df_ones = df_binary.loc[df_binary['has_reviewed'] != 0]\n",
    "    df_zeros = df_zeros.sample(n=int(df_ones.shape[0]*ratio_zeros_on_ones))\n",
    "    return pd.concat([df_zeros, df_ones]).sample(frac=1).reset_index(drop=True)"
   ]
  },
  {
   "cell_type": "code",
   "execution_count": null,
   "metadata": {},
   "outputs": [],
   "source": [
    "reader = Reader(rating_scale=(0, 1))"
   ]
  },
  {
   "cell_type": "raw",
   "metadata": {},
   "source": [
    "results = []\n",
    "\n",
    "for ratio in [1,3,10]:\n",
    "    print('ratio: {}'.format(ratio))\n",
    "    data = negative_sampling(df_binary, ratio)\n",
    "    data = Dataset.load_from_df(data, reader)\n",
    "    trainset, testset = surprise_test_train_split(data, test_size=0.25)\n",
    "    for algo_ in [SVD, SVDpp, CoClustering, SlopeOne, KNNBasic, KNNWithZScore]:\n",
    "        print('algo: {}'.format(algo_))\n",
    "        algo = algo_()\n",
    "        algo.fit(trainset)\n",
    "        predictions = algo.test(testset)\n",
    "        results.append({'algo':algo, 'ratio':ratio, 'fcp':accuracy.fcp(predictions, verbose=True), 'mae':accuracy.mae(predictions, verbose=True)})\n",
    "\n",
    "pd.DataFrame(results)"
   ]
  },
  {
   "cell_type": "raw",
   "metadata": {},
   "source": [
    "pd.DataFrame(results).to_csv('results.csv')"
   ]
  },
  {
   "cell_type": "code",
   "execution_count": null,
   "metadata": {},
   "outputs": [],
   "source": [
    "pd.read_csv('results_grid_search_1.csv')"
   ]
  },
  {
   "cell_type": "markdown",
   "metadata": {},
   "source": [
    "# Binary Prediction - Using Graph Analysis\n",
    "- Community detection\n",
    "    - User --[Friends]-->User\n",
    "    - User --[Reviewed]-->Restaurant\n",
    "    - User --[Friends]-->User & User --[Reviewed]-->Restaurant\n",
    "- Build feature "
   ]
  },
  {
   "cell_type": "code",
   "execution_count": null,
   "metadata": {},
   "outputs": [],
   "source": []
  },
  {
   "cell_type": "code",
   "execution_count": null,
   "metadata": {},
   "outputs": [],
   "source": []
  },
  {
   "cell_type": "code",
   "execution_count": null,
   "metadata": {},
   "outputs": [],
   "source": []
  },
  {
   "cell_type": "code",
   "execution_count": null,
   "metadata": {},
   "outputs": [],
   "source": []
  }
 ],
 "metadata": {
  "kernelspec": {
   "display_name": "Python 3",
   "language": "python",
   "name": "python3"
  },
  "language_info": {
   "codemirror_mode": {
    "name": "ipython",
    "version": 3
   },
   "file_extension": ".py",
   "mimetype": "text/x-python",
   "name": "python",
   "nbconvert_exporter": "python",
   "pygments_lexer": "ipython3",
   "version": "3.7.4"
  }
 },
 "nbformat": 4,
 "nbformat_minor": 4
}
